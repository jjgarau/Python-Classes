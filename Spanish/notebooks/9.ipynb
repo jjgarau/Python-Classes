{
  "nbformat": 4,
  "nbformat_minor": 0,
  "metadata": {
    "colab": {
      "name": "9.ipynb",
      "provenance": [],
      "collapsed_sections": [],
      "include_colab_link": true
    },
    "kernelspec": {
      "name": "python3",
      "display_name": "Python 3"
    }
  },
  "cells": [
    {
      "cell_type": "markdown",
      "metadata": {
        "id": "view-in-github",
        "colab_type": "text"
      },
      "source": [
        "<a href=\"https://colab.research.google.com/github/jjgarau/Python-Classes/blob/master/Spanish/notebooks/9.ipynb\" target=\"_parent\"><img src=\"https://colab.research.google.com/assets/colab-badge.svg\" alt=\"Open In Colab\"/></a>"
      ]
    },
    {
      "cell_type": "markdown",
      "metadata": {
        "colab_type": "text",
        "id": "26IHzE7Rd4hz"
      },
      "source": [
        "# **Introducción a Python: Sesión 9**\n",
        "\n",
        "Material creado por Juanjo Garau (garau@mit.edu)"
      ]
    },
    {
      "cell_type": "markdown",
      "metadata": {
        "id": "ogWyVBh9ByWl",
        "colab_type": "text"
      },
      "source": [
        "### **Solución a los Ejercicios de la Sesión 8**"
      ]
    },
    {
      "cell_type": "markdown",
      "metadata": {
        "id": "B4c-6KDT8R_y",
        "colab_type": "text"
      },
      "source": [
        "**Ejercicio 1**\n",
        "\n",
        "Las variables `a`, `b`, `c` y `d` guardan 4 números **distintos**. Tu tarea es encontrar el **segundo número más grande** de los 4 mediante instrucciones de código que siempre encuentren el segundo número más grande sean cuales sean los valores de `a`, `b`, `c` y `d`. \n",
        "\n",
        "Para este ejercicio **únicamente** puedes usar las funciones `max()` y `min()`. Estas funciones admiten mútliples parámetros y retornan el máximo o mínimo de todos ellos, respectivamente. Por ejemplo `max(1, 2, 3) --> 3` o `min(4.5, 8.9) --> 4.5`. Haz pruebas con ellos!\n",
        "\n",
        "Completa la siguiente celda con tu código:"
      ]
    },
    {
      "cell_type": "code",
      "metadata": {
        "id": "Bq_7rTho6fPR",
        "colab_type": "code",
        "colab": {}
      },
      "source": [
        "a = 9\n",
        "b = 3\n",
        "c = 5\n",
        "d = 1\n",
        "\n",
        "# Completa con tu código\n",
        "# Sólo puedes usar las funciones min() y max()\n",
        "segundo_max = min(max(a, b, c), max(a, b, d), max(a, c, d), max(b, c, d))\n",
        "print(segundo_max)"
      ],
      "execution_count": 0,
      "outputs": []
    },
    {
      "cell_type": "markdown",
      "metadata": {
        "id": "yZOb61IdzX6z",
        "colab_type": "text"
      },
      "source": [
        "Debes comprobar que funciona para varios valores de las variables."
      ]
    },
    {
      "cell_type": "markdown",
      "metadata": {
        "id": "qSH6oU__9eGu",
        "colab_type": "text"
      },
      "source": [
        "**Ejercicio 2**\n",
        "\n",
        "El siguiente ejercicio trata de invertir las mitades en una lista. Es decir, si tenemos una lista `[1, 2, 3, 4, 5, 6]`, nuestro objetivo es que el código produzca la lista `[4, 5, 6, 1, 2, 3]`. Recuerda que debe funcionar para cualquier lista. En caso de que la lista sea de longitud impar, puedes considerar libremente el elemento del medio como parte de la primera o segunda mitad. "
      ]
    },
    {
      "cell_type": "code",
      "metadata": {
        "id": "dJOpBjeo78Vd",
        "colab_type": "code",
        "colab": {}
      },
      "source": [
        "lista = [1, 2, 3, 4, 5, 6, 7, 8, 9, 10]\n",
        "\n",
        "# Completa con tu código\n",
        "corte = len(lista) // 2\n",
        "lista = lista[corte:] + lista[:corte]\n",
        "print(lista)"
      ],
      "execution_count": 0,
      "outputs": []
    },
    {
      "cell_type": "markdown",
      "metadata": {
        "id": "jiiSX3W4gB8o",
        "colab_type": "text"
      },
      "source": [
        "**Ejercicio 3**\n",
        "\n",
        "En las pruebas olímpicas de trampolín, 6 jueces puntúan cada salto con números del 0 al 10. Una vez un saltador salta, los jueces puntúan ese salto, se recogen las puntuaciones, y se eliminan la puntuación más grande y la puntuación más pequeña, quedando sólo 4 puntuaciones. Luego, con esas puntuaciones se hace una media y ese número es la puntuación final del saltador. \n",
        "\n",
        "Tu objetivo en este ejercicio es escribir un código que dado una lista de puntuaciones dadas por los 6 jueces a un saltador, calcule la puntuación final de este saltador según el método descrito. En caso de que la puntuación máxima o mínima esté repetida, sólo se elimina una vez. La media **siempre** se realiza con 4 números."
      ]
    },
    {
      "cell_type": "code",
      "metadata": {
        "id": "7JE8CbuNk6yT",
        "colab_type": "code",
        "colab": {}
      },
      "source": [
        "puntuaciones = [8, 9, 7.5, 10, 9.5, 8]\n",
        "\n",
        "# Completa con tu código\n",
        "del(puntuaciones[puntuaciones.index(max(puntuaciones))])\n",
        "del(puntuaciones[puntuaciones.index(min(puntuaciones))])\n",
        "media = (puntuaciones[0] + puntuaciones[1] + puntuaciones[2] + puntuaciones[3]) / 4\n",
        "print(media)"
      ],
      "execution_count": 0,
      "outputs": []
    },
    {
      "cell_type": "markdown",
      "metadata": {
        "id": "ULpIQdAE_yAA",
        "colab_type": "text"
      },
      "source": [
        "**Ejercicio 4**\n",
        "\n",
        "Dado un número **float**, separa su parte entera de su parte decimal y guarda cada una en una variable."
      ]
    },
    {
      "cell_type": "code",
      "metadata": {
        "id": "ihGQPi1-mFSY",
        "colab_type": "code",
        "colab": {}
      },
      "source": [
        "numero = 7.89\n",
        "\n",
        "# Completa con tu código\n",
        "entera = int(numero)\n",
        "decimal = numero - entera  # También se puede hacer --> numero % 1\n",
        "print(entera, decimal)"
      ],
      "execution_count": 0,
      "outputs": []
    },
    {
      "cell_type": "markdown",
      "metadata": {
        "id": "XEnwdl_xWayQ",
        "colab_type": "text"
      },
      "source": [
        "**Ejercicio 5**\n",
        "\n",
        "El [Project Euler](https://projecteuler.net) es una web muy interesante que contiene multitud de problemas matemáticos que se resuelven mediante programación. Nosotros haremos el problema número 6:\n",
        "\n",
        "La suma de los cuadrados de los 10 primeros números naturales es:\n",
        "\n",
        "```\n",
        "1**2 + 2**2 + ... + 9**2 + 10**2 = 385\n",
        "```\n",
        "\n",
        "El cuadrado de la suma de los 10 primeros números naturales es:\n",
        "\n",
        "```\n",
        "(1 + 2 + ... + 8 + 9 + 10)**2 = 3025\n",
        "```\n",
        "\n",
        "Por tanto, la diferencia entre el cuadrado de la suma y la suma de cuadrados de los 10 primeros números naturales es `3025 - 385 = 2640`.\n",
        "\n",
        "Calcula la diferencia entre el cuadrado de la suma y la suma de cuadrados de los 100 primeros números naturales:"
      ]
    },
    {
      "cell_type": "code",
      "metadata": {
        "id": "njKB5tANW_xj",
        "colab_type": "code",
        "colab": {}
      },
      "source": [
        "# Escribe tu código para encontrar la respuesta aquí\n",
        "suma = 0\n",
        "suma_cuadrados = 0\n",
        "for i in range(1, 101):\n",
        "  suma = suma + i\n",
        "  suma_cuadrados = suma_cuadrados + i ** 2\n",
        "resultado = suma ** 2 - suma_cuadrados\n",
        "print(resultado)"
      ],
      "execution_count": 0,
      "outputs": []
    },
    {
      "cell_type": "markdown",
      "metadata": {
        "id": "oVl2Vrgn2d1a",
        "colab_type": "text"
      },
      "source": [
        "**Ejercicio 6**\n",
        "\n",
        "La lista `lista` contiene múltiples **números**. Tu objetivo es eliminar de la lista el número máximo **tantas veces como este aparezca en la lista**."
      ]
    },
    {
      "cell_type": "code",
      "metadata": {
        "id": "Q4CxwAh52dDM",
        "colab_type": "code",
        "colab": {}
      },
      "source": [
        "lista = [5, 8, 9, 9, 3, 3, 7, 3, 5, 2, 6, 1, 4, 1, 6, 7, 9, 3, 1, 9]\n",
        "\n",
        "# Completa con tu código\n",
        "numero_maximo = max(lista)\n",
        "while numero_maximo in lista:\n",
        "  del(lista[lista.index(numero_maximo)])\n",
        "print(lista)"
      ],
      "execution_count": 0,
      "outputs": []
    },
    {
      "cell_type": "markdown",
      "metadata": {
        "id": "PrN8tpKF3Bjv",
        "colab_type": "text"
      },
      "source": [
        "**Ejercicio 7**\n",
        "\n",
        "Un año es bisiesto si es múltiple de 4, pero no múltiple de 100. Por otra parte, si el año es múltiple de 400, sí es bisiesto.\n",
        "\n",
        "Completa la celda que sigue para determinar si el año que se guarda en la variable `year` es bisiesto o no. Puedes mostrar por pantalla el resultado (por ejemplo `El año es bisiesto`) o guardarlo en una variable booleana (`bisiesto = True`).\n",
        "\n",
        "Asegúrate que tu código funciona para distintos años!"
      ]
    },
    {
      "cell_type": "code",
      "metadata": {
        "id": "2PcUOlsZ26Cq",
        "colab_type": "code",
        "colab": {}
      },
      "source": [
        "year = 1964\n",
        "\n",
        "# Completa con tu código\n",
        "if year % 400 == 0:\n",
        "  bisiesto = True\n",
        "elif year % 100 == 0:\n",
        "  bisiesto = False\n",
        "elif year % 4 == 0:\n",
        "  bisiesto = True\n",
        "else:\n",
        "  bisiesto = False\n",
        "print(bisiesto)"
      ],
      "execution_count": 0,
      "outputs": []
    },
    {
      "cell_type": "markdown",
      "metadata": {
        "id": "KmIvujny3v_Z",
        "colab_type": "text"
      },
      "source": [
        "**Ejercicio 8**\n",
        "\n",
        "Dado un número **integer** guardado en la variable `numero`, escribe un código que calcule la suma de sus dígitos:"
      ]
    },
    {
      "cell_type": "code",
      "metadata": {
        "id": "7fx-5YjR3l7d",
        "colab_type": "code",
        "colab": {}
      },
      "source": [
        "numero = 239847\n",
        "\n",
        "# Completa con tu código\n",
        "suma_digitos = 0\n",
        "while numero > 0:\n",
        "  suma_digitos = suma_digitos + numero % 10\n",
        "  numero = numero // 10\n",
        "print(suma_digitos)"
      ],
      "execution_count": 0,
      "outputs": []
    },
    {
      "cell_type": "markdown",
      "metadata": {
        "id": "yjXP4ib034Kb",
        "colab_type": "text"
      },
      "source": [
        "Recuerda hacer pruebas para distintos valores de `numero`. "
      ]
    }
  ]
}