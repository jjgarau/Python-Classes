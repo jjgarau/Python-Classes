{
  "nbformat": 4,
  "nbformat_minor": 0,
  "metadata": {
    "colab": {
      "name": "10 Visualizaciones",
      "provenance": [],
      "collapsed_sections": [],
      "include_colab_link": true
    },
    "kernelspec": {
      "name": "python3",
      "display_name": "Python 3"
    }
  },
  "cells": [
    {
      "cell_type": "markdown",
      "metadata": {
        "id": "view-in-github",
        "colab_type": "text"
      },
      "source": [
        "<a href=\"https://colab.research.google.com/github/jjgarau/Python-Classes/blob/master/Spanish/notebooks/10_Visualizaciones.ipynb\" target=\"_parent\"><img src=\"https://colab.research.google.com/assets/colab-badge.svg\" alt=\"Open In Colab\"/></a>"
      ]
    },
    {
      "cell_type": "markdown",
      "metadata": {
        "colab_type": "text",
        "id": "26IHzE7Rd4hz"
      },
      "source": [
        "# **Introducción a Python: Sesión 10**\n",
        "\n",
        "Material creado por Juanjo Garau (garau@mit.edu)"
      ]
    },
    {
      "cell_type": "markdown",
      "metadata": {
        "id": "hw2BPNFq3PJf",
        "colab_type": "text"
      },
      "source": [
        "## **Visualizaciones (nivel básico)**\n",
        "\n",
        "En este *notebook* aprenderás algunos conceptos esenciales sobre técnicas de visualización en Python. Las librerías de visualización en Python son muy populares y se usan en muchas disciplinas diversas."
      ]
    },
    {
      "cell_type": "markdown",
      "metadata": {
        "id": "wFLMdQ0paGmL",
        "colab_type": "text"
      },
      "source": [
        "### **Librerías**\n",
        "\n",
        "Primero, vamos a introducir el concepto de **librerías** o ***packages***. Hasta este momento, has usado algunas funciones nativas de Python como por ejemplo `min()`, `max()`, `sum()`, o `abs()`. Estas funciones son muy útiles y están disponibles de por si en Python. No obstante, además de estas funciones, los desarrolladores de Python crean muchas otras, cada una diseñada para realizar una función específica. Conjuntos de funciones relacionadas con un mismo tema (por ejemplo visualización, cálculos matemáticos o análisis de datos) se guardan en librerías específicas.\n",
        "\n",
        "Una de estas librerías se denomina `matplotlib.pyplot` y está específicamente diseñada centrada en funciones de visualización. Para poder usarlas, primero vamos a importar esta librería:"
      ]
    },
    {
      "cell_type": "code",
      "metadata": {
        "id": "jKDibPo8zUh0",
        "colab_type": "code",
        "colab": {}
      },
      "source": [
        "import matplotlib.pyplot"
      ],
      "execution_count": 0,
      "outputs": []
    },
    {
      "cell_type": "markdown",
      "metadata": {
        "id": "MFqPI47tcBHw",
        "colab_type": "text"
      },
      "source": [
        "Una vez importada la librería, podemos usar sus funciones mediante las instrucciones `matplotlib.pyplot.function()` (aquí `function()` es una función genérica, no corresponde con nada en concreto). No obstante, a veces es mejor importar estas librerías bajo un **alias**, que permite usar las librerías sin tener que escribir el nombre completo. El alias que popularmente se usa para `matplotlib.pyplot` es `plt`:"
      ]
    },
    {
      "cell_type": "code",
      "metadata": {
        "id": "guZUpk3UcAh5",
        "colab_type": "code",
        "colab": {}
      },
      "source": [
        "import matplotlib.pyplot as plt"
      ],
      "execution_count": 0,
      "outputs": []
    },
    {
      "cell_type": "markdown",
      "metadata": {
        "id": "O7CdM0nkcdgn",
        "colab_type": "text"
      },
      "source": [
        "Con el alias, las mismas funciones se pueden usar escribiendo `plt.function()`.\n",
        "\n",
        "**Importante:** la instrucción `import` se debe incluir en el código antes de la ejecución de cualquier función que use la librería."
      ]
    },
    {
      "cell_type": "markdown",
      "metadata": {
        "id": "qpwonfhkLoUG",
        "colab_type": "text"
      },
      "source": [
        "### **Representación 2-D**\n",
        "\n",
        "La forma de visualización más común es representar un conjunto de valores o puntos en un gráfico 2-D, con un eje horizontal o eje `x` y un eje vertical o un eje `y`. Imagina tener los valores para cada una de las dos coordenadas guardados como listas `x` e `y`, donde el primer punto corresponde a `(x[0], y[0])`, el segundo punto corresponde a `(x[1], y[1])`, etc. La sintaxis para representar y visualizar estos puntos es la siguiente:\n",
        "\n",
        "```\n",
        "plt.plot(x, y)\n",
        "plt.show()\n",
        "```\n",
        "\n",
        "Es muy importante incluir la instrucción `plt.show()`, ya que es la instrucción que permite la visualización del gráfico (en los códigos de Python, no en un *notebook*, `plt.plot` únicamente genera el gráfico pero no lo muestra, la función `plt.show()` vendría a ser como la función `print()` para gráficos). \n",
        "\n",
        "Veamos un ejemplo concreto, vamos a visualizar la función `y = x ** 2`:"
      ]
    },
    {
      "cell_type": "code",
      "metadata": {
        "id": "F_u1xi_0cc0E",
        "colab_type": "code",
        "colab": {}
      },
      "source": [
        "x = [1, 2, 3, 4, 5, 6, 7, 8]\n",
        "y = [1, 4, 9, 16, 25, 36, 49, 64]\n",
        "plt.plot(x, y)\n",
        "plt.show()"
      ],
      "execution_count": 0,
      "outputs": []
    },
    {
      "cell_type": "markdown",
      "metadata": {
        "id": "I8HuK0CMsbuz",
        "colab_type": "text"
      },
      "source": [
        "También puedes ignorar la primera lista, la `x`, y hacer sólo `plt.plot(y)`, pero en este caso el eje horizontal se define como `range(len(y))` (0, 1, 2...) por defecto:"
      ]
    },
    {
      "cell_type": "code",
      "metadata": {
        "id": "NBdI530nOgaD",
        "colab_type": "code",
        "colab": {}
      },
      "source": [
        "plt.plot(y)\n",
        "plt.show()"
      ],
      "execution_count": 0,
      "outputs": []
    },
    {
      "cell_type": "markdown",
      "metadata": {
        "id": "auiP3oCAsowg",
        "colab_type": "text"
      },
      "source": [
        "Si, en vez de visualizar una línea, quieres visualizar puntos en el gráfico, puedes usar la función `plt.scatter(x, y)`, con las que se realiza la misma representación de datos pero usando puntos:"
      ]
    },
    {
      "cell_type": "code",
      "metadata": {
        "id": "5SA1mnmyMEEb",
        "colab_type": "code",
        "colab": {}
      },
      "source": [
        "plt.scatter(x, y)\n",
        "plt.show()"
      ],
      "execution_count": 0,
      "outputs": []
    },
    {
      "cell_type": "markdown",
      "metadata": {
        "id": "jh7M60cIs5n3",
        "colab_type": "text"
      },
      "source": [
        "Fíjate que hemos definido las listas `x` e `y` con los valores ordenados, fíjate en lo que pasa si las listas no están ordenadas:"
      ]
    },
    {
      "cell_type": "code",
      "metadata": {
        "id": "eFRbYfkKS4x3",
        "colab_type": "code",
        "colab": {}
      },
      "source": [
        "x = [3, 7, 6, 5, 4, 8, 1, 2]\n",
        "y = [14, 4, 9, 23, 12, 9, 15, 5]\n",
        "plt.plot(x, y)\n",
        "plt.show()"
      ],
      "execution_count": 0,
      "outputs": []
    },
    {
      "cell_type": "code",
      "metadata": {
        "id": "ZNfo6WyATLuw",
        "colab_type": "code",
        "colab": {}
      },
      "source": [
        "plt.scatter(x, y)\n",
        "plt.show()"
      ],
      "execution_count": 0,
      "outputs": []
    },
    {
      "cell_type": "markdown",
      "metadata": {
        "id": "BW508nngmCCb",
        "colab_type": "text"
      },
      "source": [
        "En el caso en el que las listas no están ordenadas quizás es mejor usar puntos!"
      ]
    },
    {
      "cell_type": "markdown",
      "metadata": {
        "id": "Q6K941LXtI2m",
        "colab_type": "text"
      },
      "source": [
        "### **Customización del gráfico**\n",
        "\n",
        "Como parte de la función `plt.plot()`, puedes escoger qué color quieres usar para representar tus datos mediante el atributo `color` de la función `plt.plot()` o `plt.scatter()`. Por defecto se usa el color azul, pero puedes usar alguno de estos colores también:\n",
        "\n",
        "```\n",
        "'b' --> azul\n",
        "'r' --> rojo\n",
        "'g' --> verde\n",
        "'y' --> amarillo\n",
        "'k' --> negro\n",
        "'w' --> blanco\n",
        "'c' --> cyan\n",
        "'m' --> magenta\n",
        "```\n",
        "\n",
        "Por ejemplo, si se añade el comando `color='y'`, el color usado sería el amarillo. Veamos un ejemplo con el color rojo:"
      ]
    },
    {
      "cell_type": "code",
      "metadata": {
        "id": "QGTFO1FzMAlh",
        "colab_type": "code",
        "colab": {}
      },
      "source": [
        "x = [1, 2, 3, 4, 5, 6, 7, 8]\n",
        "y = [1, 4, 9, 16, 25, 36, 49, 64]\n",
        "plt.plot(x, y, color='r')\n",
        "plt.show()"
      ],
      "execution_count": 0,
      "outputs": []
    },
    {
      "cell_type": "markdown",
      "metadata": {
        "id": "CBpL5yzEuGVM",
        "colab_type": "text"
      },
      "source": [
        "Prueba tú mismo! También pasa lo mismo en la función `plt.scatter()`:"
      ]
    },
    {
      "cell_type": "code",
      "metadata": {
        "id": "LI26ps8ONXKa",
        "colab_type": "code",
        "colab": {}
      },
      "source": [
        "plt.scatter(x, y, color='g')\n",
        "plt.show()"
      ],
      "execution_count": 0,
      "outputs": []
    },
    {
      "cell_type": "markdown",
      "metadata": {
        "id": "ThiqDXZCuWNx",
        "colab_type": "text"
      },
      "source": [
        "Otro parámetro de interés es el grosor de la línea, que se define mediante el parámetro `linewidth` y se puede pasar a la función de visualización con un número **integer**:"
      ]
    },
    {
      "cell_type": "code",
      "metadata": {
        "id": "uLKtIse5MdKS",
        "colab_type": "code",
        "colab": {}
      },
      "source": [
        "plt.plot(x, y, linewidth=6)\n",
        "plt.show()"
      ],
      "execution_count": 0,
      "outputs": []
    },
    {
      "cell_type": "markdown",
      "metadata": {
        "id": "Wys6MFHnuiwt",
        "colab_type": "text"
      },
      "source": [
        "Usar el nombre `linewidth` o `lw` hace el mismo efecto para definir el grosor de la línea:"
      ]
    },
    {
      "cell_type": "code",
      "metadata": {
        "id": "udOwNp5LNfP6",
        "colab_type": "code",
        "colab": {}
      },
      "source": [
        "plt.scatter(x, y, lw=8)\n",
        "plt.show()"
      ],
      "execution_count": 0,
      "outputs": []
    },
    {
      "cell_type": "markdown",
      "metadata": {
        "id": "YpsRzbXFuo7-",
        "colab_type": "text"
      },
      "source": [
        "Finalmente, el tercer parámetro de interés es el estilo de la línea, que en este caso es un parámetro que se define de forma distinta para las funciones `plt.plot()` y `plt.scatter()`. En el caso de `plt.plot()`, el parámetro \n",
        "`linestyle` fija la forma en la que queremos mostrar la línea. Aquí hay ejemplos distintos:"
      ]
    },
    {
      "cell_type": "code",
      "metadata": {
        "id": "m4oYzs2fMuxN",
        "colab_type": "code",
        "colab": {}
      },
      "source": [
        "plt.plot(x, y, linestyle='--')\n",
        "plt.show()"
      ],
      "execution_count": 0,
      "outputs": []
    },
    {
      "cell_type": "code",
      "metadata": {
        "id": "2ADvpnRbPbso",
        "colab_type": "code",
        "colab": {}
      },
      "source": [
        "plt.plot(x, y, linestyle=':')\n",
        "plt.show()"
      ],
      "execution_count": 0,
      "outputs": []
    },
    {
      "cell_type": "code",
      "metadata": {
        "id": "fzmaYJdIPjWE",
        "colab_type": "code",
        "colab": {}
      },
      "source": [
        "plt.plot(x, y, linestyle='-.')\n",
        "plt.show()"
      ],
      "execution_count": 0,
      "outputs": []
    },
    {
      "cell_type": "markdown",
      "metadata": {
        "id": "7KAMu7hkRg0x",
        "colab_type": "text"
      },
      "source": [
        "En el caso de la función `plt.scatter()`, puedes escoger el estilo del punto o marcador que quieres usar. Esto se hace mediante el parámetro `marker`, escogiendo el que sea necesario. [Aquí](https://matplotlib.org/3.2.0/api/markers_api.html#module-matplotlib.markers) tienes una lista completa de estilos de marcador que puedes usar. Veamos un ejemplo con estrellas:"
      ]
    },
    {
      "cell_type": "code",
      "metadata": {
        "id": "ineto6X7Pye0",
        "colab_type": "code",
        "colab": {}
      },
      "source": [
        "plt.scatter(x, y, marker='*', lw=3)\n",
        "plt.show()"
      ],
      "execution_count": 0,
      "outputs": []
    },
    {
      "cell_type": "markdown",
      "metadata": {
        "id": "qj-3bWFivUPs",
        "colab_type": "text"
      },
      "source": [
        "Prueba tú mismo!\n",
        "\n",
        "Otra función interesante para visualizar datos es la función `plt.hist()`, que crea un histograma con una lista como *input* de la función. Un histograma muestra la frecuencia de apariciones u ocurrencias de distintos elementos en la lista, por ejemplo:"
      ]
    },
    {
      "cell_type": "code",
      "metadata": {
        "id": "w45WdJbEN37r",
        "colab_type": "code",
        "colab": {}
      },
      "source": [
        "d = [1, 2, 5, 7, 4, 3, 6, 3, 6, 8, 9, 1, 2, 5, 6]\n",
        "plt.hist(d)\n",
        "plt.show()"
      ],
      "execution_count": 0,
      "outputs": []
    },
    {
      "cell_type": "markdown",
      "metadata": {
        "id": "jHIXEs2Yvm65",
        "colab_type": "text"
      },
      "source": [
        "### **Customización de texto**\n",
        "\n",
        "Puedes completar la información en tu gráfico poniéndole un título que te guste con el comando `plt.title()`:"
      ]
    },
    {
      "cell_type": "code",
      "metadata": {
        "id": "6_SPru4cOp4P",
        "colab_type": "code",
        "colab": {}
      },
      "source": [
        "x = [1, 2, 3, 4, 5, 6, 7, 8]\n",
        "y = [1, 4, 9, 16, 25, 36, 49, 64]\n",
        "plt.plot(x, y)\n",
        "plt.title('Este es el título de la gráfica')\n",
        "plt.show()"
      ],
      "execution_count": 0,
      "outputs": []
    },
    {
      "cell_type": "markdown",
      "metadata": {
        "id": "l_8sEVDTv_xC",
        "colab_type": "text"
      },
      "source": [
        "O también puedes poner un nombre a los ejes horizontales y verticales con los comandos `plt.xlabel()` y `plt.ylabel()`, respectivamente. Poner un título a los ejes ayuda a entender el contenido de un gráfico, veamos un ejemplo:"
      ]
    },
    {
      "cell_type": "code",
      "metadata": {
        "id": "UjN7QT1EOwmO",
        "colab_type": "code",
        "colab": {}
      },
      "source": [
        "plt.plot(x, y)\n",
        "plt.xlabel('Este es el título del eje X')\n",
        "plt.ylabel('Este es el título del eje Y')\n",
        "plt.show()"
      ],
      "execution_count": 0,
      "outputs": []
    },
    {
      "cell_type": "markdown",
      "metadata": {
        "id": "wr4mSSRmwF_P",
        "colab_type": "text"
      },
      "source": [
        "### **Multiple líneas**\n",
        "\n",
        "Una de los mejores usos de las funciones de visualización es hacer comparaciones visuales entre varios conjuntos de datos. Puedes añadir múltiples listas `x` e `y` (pares de listas) a la función `plt.plot()` para añadir líneas extra. Aquí tienes un ejemplo:"
      ]
    },
    {
      "cell_type": "code",
      "metadata": {
        "id": "l3U1Er_mM-EH",
        "colab_type": "code",
        "colab": {}
      },
      "source": [
        "x = [1, 2, 3, 4, 5, 6, 7, 8]\n",
        "y = [1, 4, 9, 16, 25, 36, 49, 64]\n",
        "y2 = [1, 5, 8, 18, 28, 32, 50, 65]\n",
        "plt.plot(x, y, x, y2)\n",
        "plt.show()"
      ],
      "execution_count": 0,
      "outputs": []
    },
    {
      "cell_type": "markdown",
      "metadata": {
        "id": "9-3LTIeutc1D",
        "colab_type": "text"
      },
      "source": [
        "Aquí tienes un ejemplo con 3 líneas:"
      ]
    },
    {
      "cell_type": "code",
      "metadata": {
        "colab_type": "code",
        "id": "oj0SOLB4tVY9",
        "colab": {}
      },
      "source": [
        "x = [1, 2, 3, 4, 5, 6, 7, 8]\n",
        "y = [1, 4, 9, 16, 25, 36, 49, 64]\n",
        "y2 = [1, 5, 8, 18, 28, 32, 50, 65]\n",
        "y3 = [2, 7, 11, 20, 28, 38, 51, 65]\n",
        "plt.plot(x, y, x, y2, x, y3)\n",
        "plt.show()"
      ],
      "execution_count": 0,
      "outputs": []
    },
    {
      "cell_type": "markdown",
      "metadata": {
        "id": "D42x-_OfwcEz",
        "colab_type": "text"
      },
      "source": [
        "A veces es útil añadir una leyenda para poder distinguir a qué corresponde cada línea. Esto se hace mediante la instrucción `plt.legend()`. Primero, debes crear una **lista** que contenga los nombres que vas a usar en la leyenda, uno por cada línea distinta y en el mismo orden en el que las introduzcas en la función `plt.plot()`. Aquí tienes un ejemplo:"
      ]
    },
    {
      "cell_type": "code",
      "metadata": {
        "id": "56JKpgyAOXM_",
        "colab_type": "code",
        "colab": {}
      },
      "source": [
        "plt.plot(x, y, x, y2)\n",
        "labels = ['Línea 1', 'Línea 2']\n",
        "plt.legend(labels)\n",
        "plt.show()"
      ],
      "execution_count": 0,
      "outputs": []
    },
    {
      "cell_type": "markdown",
      "metadata": {
        "id": "Z8I4XZ1Hw5-o",
        "colab_type": "text"
      },
      "source": [
        "### **Ejemplos**\n",
        "\n",
        "Para terminar este *notebook*, veamos algunos ejemplos específicos que usan funciones de visualización.\n",
        "\n",
        "Primero, `plt.plot()` es una buena forma de representar funciones matemáticas, como ya hemos visto. Tras determinar las coordenadas `x` de interés, podemos calcular varios valores para la coordenada `y` y luego representar estos puntos en el gráfico 2-D. Por ejemplo, vamos a visualizar la función\n",
        "\n",
        "```\n",
        "y = f(x) = x^3 - 2x^2 + 3x - 4\n",
        "```\n",
        "\n",
        "en el intervalo `[-5, 5]` para el eje `x`. Para esto, primero definiremos varios puntos en el eje `x`, concretamente generaremos puntos desde `-5` hasta `5` en intervalos de `0.5`. Luego, calcularemos el valor de `y` para cada uno de estos puntos y usaremos la función `plt.plot()` con ambas listas. Veamos el código entero:"
      ]
    },
    {
      "cell_type": "code",
      "metadata": {
        "id": "GQdsGMk1Q-5O",
        "colab_type": "code",
        "colab": {}
      },
      "source": [
        "x = [-5, -4.5, -4, -3.5, -3, -2.5, -2, -1.5, -1, -0.5, 0, 0.5, 1, 1.5, 2, 2.5, 3, 3.5, 4, 4.5, 5]\n",
        "y = []\n",
        "for punto in x:\n",
        "  y.append(punto**3 - 2*punto**2 + 3*punto - 4)\n",
        "plt.plot(x, y)\n",
        "plt.show()"
      ],
      "execution_count": 0,
      "outputs": []
    },
    {
      "cell_type": "markdown",
      "metadata": {
        "id": "bkTF7iqkxykh",
        "colab_type": "text"
      },
      "source": [
        "Otro ejemplo interesante podría ser entender el comportamiento aleatorio que ofrecen las funciones de la librería `random`. Tras importar la librería `random`, podemos usar la función `random.random()`, que genera un número aleatorio en el intervalo `(0, 1)`. \n",
        "\n",
        "Usando esta función, podemos generar tantos puntos como indique la variable `num_samples`. Tanto la coordenada `x` como la coordenada `y` de estos puntos serán aleatorias. Puedes escoger cuántos puntos quieres generar y visualizar:"
      ]
    },
    {
      "cell_type": "code",
      "metadata": {
        "id": "8yBAyam8TSi7",
        "colab_type": "code",
        "colab": {}
      },
      "source": [
        "import random\n",
        "x, y = [], []\n",
        "num_samples = 10\n",
        "for i in range(num_samples):\n",
        "  x.append(random.random())\n",
        "  y.append(random.random())\n",
        "plt.scatter(x, y)\n",
        "plt.show()"
      ],
      "execution_count": 0,
      "outputs": []
    },
    {
      "cell_type": "markdown",
      "metadata": {
        "id": "ogWyVBh9ByWl",
        "colab_type": "text"
      },
      "source": [
        "### **Ejercicios Sesión 10**"
      ]
    },
    {
      "cell_type": "markdown",
      "metadata": {
        "id": "B4c-6KDT8R_y",
        "colab_type": "text"
      },
      "source": [
        "**Ejercicio 1**\n",
        "\n",
        "Representa 16 puntos en una gráfica 2-D de tal forma que los puntos formen un **cuadrado 4 por 4**. Además, los puntos deben ser de **color negro**.\n",
        "\n",
        "Los puntos pueden estar en cualquier posición, lo importante es que formen un cuadrado 4 por 4. No te olvides de añadir `plt.show()`!"
      ]
    },
    {
      "cell_type": "code",
      "metadata": {
        "id": "11tmVv6sEDYo",
        "colab_type": "code",
        "colab": {}
      },
      "source": [
        "import matplotlib.pyplot as plt\n",
        "\n",
        "# Completa con tu código\n",
        "\n"
      ],
      "execution_count": 0,
      "outputs": []
    },
    {
      "cell_type": "markdown",
      "metadata": {
        "id": "47HvmjfYEJZR",
        "colab_type": "text"
      },
      "source": [
        "**Ejercicio 2**\n",
        "\n",
        "Vuelve a representar un cuadrado en una gráfica 2-D, esta vez el cuadrado debe consistir de **4 líneas** que formen sus cuatro lados. Las líneas serán de diferente color, ya que debes representar 4 parejas de listas `x` e `y`. No te olvides de añadir `plt.show()`!\n",
        "\n"
      ]
    },
    {
      "cell_type": "code",
      "metadata": {
        "id": "2XfWv-6tEvE7",
        "colab_type": "code",
        "colab": {}
      },
      "source": [
        "import matplotlib.pyplot as plt\n",
        "\n",
        "# Completa con tu código\n",
        "\n"
      ],
      "execution_count": 0,
      "outputs": []
    },
    {
      "cell_type": "markdown",
      "metadata": {
        "colab_type": "text",
        "id": "b5NzdLTUgYJK"
      },
      "source": [
        "**Ejercicio 3**\n",
        "\n",
        "En este ejercicio vas a representar datos sobre la temperatura media de una ciudad. En las listas `t_max` y `t_min` tienes las temperaturas medias máximas y mínimas por mes en esta ciudad, respectivamente. Por tanto `t_max_F` y `t_min_F` son listas con 12 valores cada una, uno por mes del año. Tu tarea consiste en visualizar cómo evolucionan estas temperaturas a lo largo de los meses.\n",
        "\n",
        "En tu gráfica, también debe aparecer la siguiente información:\n",
        "\n",
        "* Un eje `x` representando los meses, con los números del 1 al 12\n",
        "* Un título para el gráfico: `Temperaturas máxima y mínima medias en la ciudad por mes`\n",
        "* Un título para el eje `x`: `Mes`\n",
        "* Un título para el eje `y`: `Temperatura`\n",
        "* Una leyenda con las siguientes etiquetas: `Máximo` y `Mínimo`\n",
        "\n",
        "No te olvides de añadir `plt.show()`!\n"
      ]
    },
    {
      "cell_type": "code",
      "metadata": {
        "colab_type": "code",
        "id": "yLY5ulXGgYJL",
        "colab": {}
      },
      "source": [
        "import matplotlib.pyplot as plt\n",
        "t_max = [2.2, 3.9, 7.2, 13.3, 18.9, 24.4, 27.2, 26.7, 22.2, 16.1, 10.6, 5.0]\n",
        "t_min = [-5.6, -3.9, -0.6, 5.0, 10.0, 15.6, 18.3, 18.3, 13.9, 8.3, 3.3, -2.2]\n",
        "\n",
        "# Completa con tu código\n",
        "\n"
      ],
      "execution_count": 0,
      "outputs": []
    },
    {
      "cell_type": "markdown",
      "metadata": {
        "colab_type": "text",
        "id": "wLrxpfmUXjCu"
      },
      "source": [
        "**Ejercicio 4**\n",
        "\n",
        "En este ejercicio tu objetivo es identificar los puntos del espacio en el que dos funciones se cortan entre ellas, por medio de una visualización. Concretamente, tienes que comparar las funciones:\n",
        "\n",
        "* `y = f(x) = 0.1x^3 - x + 1`\n",
        "* `y = f(x) = x^2 + 4x + 4`\n",
        "\n",
        "Debes representar ambas funciones a la vez y examinar dónde se cortan. **Limita el eje `x` al rango de valores entre `[-5, 3]`. No te olvides de añadir `plt.show()`!"
      ]
    },
    {
      "cell_type": "code",
      "metadata": {
        "id": "Q-w9mul2Ib_m",
        "colab_type": "code",
        "colab": {}
      },
      "source": [
        "import matplotlib.pyplot as plt\n",
        "\n",
        "# Completa con tu código\n",
        "\n"
      ],
      "execution_count": 0,
      "outputs": []
    }
  ]
}