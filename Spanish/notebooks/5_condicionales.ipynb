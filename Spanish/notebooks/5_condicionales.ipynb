{
  "nbformat": 4,
  "nbformat_minor": 0,
  "metadata": {
    "colab": {
      "name": "5 condicionales.ipynb",
      "provenance": [],
      "collapsed_sections": [],
      "include_colab_link": true
    },
    "kernelspec": {
      "name": "python3",
      "display_name": "Python 3"
    }
  },
  "cells": [
    {
      "cell_type": "markdown",
      "metadata": {
        "id": "view-in-github",
        "colab_type": "text"
      },
      "source": [
        "<a href=\"https://colab.research.google.com/github/jjgarau/Python-Classes/blob/master/Spanish/notebooks/5_condicionales.ipynb\" target=\"_parent\"><img src=\"https://colab.research.google.com/assets/colab-badge.svg\" alt=\"Open In Colab\"/></a>"
      ]
    },
    {
      "cell_type": "markdown",
      "metadata": {
        "colab_type": "text",
        "id": "26IHzE7Rd4hz"
      },
      "source": [
        "# **Introducción a Python: Sesión 5**\n",
        "\n",
        "Material creado por Juanjo Garau (garau@mit.edu)"
      ]
    },
    {
      "cell_type": "markdown",
      "metadata": {
        "id": "hw2BPNFq3PJf",
        "colab_type": "text"
      },
      "source": [
        "## **Estructuras condicionales**"
      ]
    },
    {
      "cell_type": "markdown",
      "metadata": {
        "id": "ztZRxxEBEDUx",
        "colab_type": "text"
      },
      "source": [
        "En este *notebook* aprenderás qué son las estructuras condicionales y cómo se utilizan en Python.\n",
        "\n",
        "Las estructuras condicionales se relacionan con las variables **boleanas**, recordemos que hay únicamente 2 tipos de estas variables: `True` y `False`"
      ]
    },
    {
      "cell_type": "code",
      "metadata": {
        "id": "pEB0n2euEeuX",
        "colab_type": "code",
        "colab": {}
      },
      "source": [
        "a = True\n",
        "b = False\n",
        "print(a)\n",
        "print(b)"
      ],
      "execution_count": 0,
      "outputs": []
    },
    {
      "cell_type": "markdown",
      "metadata": {
        "id": "ZtBMDZrnElFD",
        "colab_type": "text"
      },
      "source": [
        "Recuerda que puedes realizar múltiples operaciones con ellas, ya que `True` equivale a `1` y `False` equivale a `0`:"
      ]
    },
    {
      "cell_type": "code",
      "metadata": {
        "id": "GqYjjTMnG67c",
        "colab_type": "code",
        "colab": {}
      },
      "source": [
        "print(True + True)\n",
        "print(False * True)\n",
        "print(- False - False)\n",
        "print(3 * True)"
      ],
      "execution_count": 0,
      "outputs": []
    },
    {
      "cell_type": "markdown",
      "metadata": {
        "id": "4FPmYXuGG7Iu",
        "colab_type": "text"
      },
      "source": [
        "También vimos que el operador `not` cambia una variable de `True` a `False` y viceversa"
      ]
    },
    {
      "cell_type": "code",
      "metadata": {
        "id": "6NMYSGnQG7Yp",
        "colab_type": "code",
        "colab": {}
      },
      "source": [
        "a = True\n",
        "b = False\n",
        "print(not a)\n",
        "print(not b)"
      ],
      "execution_count": 0,
      "outputs": []
    },
    {
      "cell_type": "markdown",
      "metadata": {
        "id": "7Rv7m20gG8Ac",
        "colab_type": "text"
      },
      "source": [
        "Existen operadores adicionales que están específicamente diseñadors para variables booleanas. El primero de ellos es el operador `and` ('y' en inglés). La sintaxis del operador `and` es la siguiente:\n",
        "\n",
        "```\n",
        "a and b\n",
        "```\n",
        "\n",
        "donde `a` y `b` son variables booleanas. El resultado de esta operación es otra variable booleana que será `True` siempre que `a` **Y** `b` sean también `True`. Veamos algunos ejemplos:"
      ]
    },
    {
      "cell_type": "code",
      "metadata": {
        "id": "pEc0bKuCG8UL",
        "colab_type": "code",
        "colab": {}
      },
      "source": [
        "print(True and True)\n",
        "print(True and False)\n",
        "print(False and True)\n",
        "print(False and False)"
      ],
      "execution_count": 0,
      "outputs": []
    },
    {
      "cell_type": "markdown",
      "metadata": {
        "id": "mdC3NBqxG8tP",
        "colab_type": "text"
      },
      "source": [
        "También puedes concatenar múltiples variables booleanas entre operadores `and`"
      ]
    },
    {
      "cell_type": "code",
      "metadata": {
        "id": "3zDSboFZG8_n",
        "colab_type": "code",
        "colab": {}
      },
      "source": [
        "a, b, c, d = True, True, True, False\n",
        "print(a and b and c)\n",
        "print(a and b and d)"
      ],
      "execution_count": 0,
      "outputs": []
    },
    {
      "cell_type": "markdown",
      "metadata": {
        "id": "l-aGBXAwH8jj",
        "colab_type": "text"
      },
      "source": [
        "Otro operador booleano es el operador `or` (\"o\" en inglés). De la misma forma, su sintaxis es la siguiente\n",
        "\n",
        "```\n",
        "a or b\n",
        "```\n",
        "\n",
        "donde `a` y `b` son variables booleanas. El resultado de esta operación es otra variable booleana que será `True` siempre que `a` **O** `b` sean también `True` (por lo menos uno de ellos debe ser `True`). Aquí tienes algunos ejemplos:"
      ]
    },
    {
      "cell_type": "code",
      "metadata": {
        "id": "aQJQ8hcoH80F",
        "colab_type": "code",
        "colab": {}
      },
      "source": [
        "print(True or True)\n",
        "print(True or False)\n",
        "print(False or True)\n",
        "print(False or False)"
      ],
      "execution_count": 0,
      "outputs": []
    },
    {
      "cell_type": "markdown",
      "metadata": {
        "id": "AmSbz-C7H9KB",
        "colab_type": "text"
      },
      "source": [
        "También puedes concatenar múltiples variables booleanas entre operadores `or`"
      ]
    },
    {
      "cell_type": "code",
      "metadata": {
        "id": "9voV_WIWH9dZ",
        "colab_type": "code",
        "colab": {}
      },
      "source": [
        "a, b, c, d = False, False, False, True\n",
        "print(a or b or c)\n",
        "print(a or b or d)"
      ],
      "execution_count": 0,
      "outputs": []
    },
    {
      "cell_type": "markdown",
      "metadata": {
        "id": "iidqyQJi0SkI",
        "colab_type": "text"
      },
      "source": [
        "Los operadores `and` y `or` se pueden combinar en la misma \"sentencia booleana\". En ese caso, el operador `and` tiene prioridad por encima del `or` y por tanto se evaluará primero. Algunos ejemplos:"
      ]
    },
    {
      "cell_type": "code",
      "metadata": {
        "id": "wo1SOOrL0S5j",
        "colab_type": "code",
        "colab": {}
      },
      "source": [
        "print(False or True and False)\n",
        "print(False or False and True or False)"
      ],
      "execution_count": 0,
      "outputs": []
    },
    {
      "cell_type": "markdown",
      "metadata": {
        "id": "Csm2idGa0T3c",
        "colab_type": "text"
      },
      "source": [
        "Otra forma de generar variables booleanas es con los **operadores de comparación**: `>, <, >=, <=, ==, !=`. Por ejemplo:"
      ]
    },
    {
      "cell_type": "code",
      "metadata": {
        "id": "Igu3x8DF0UKq",
        "colab_type": "code",
        "colab": {}
      },
      "source": [
        "a = 2 > 1\n",
        "print(a)"
      ],
      "execution_count": 0,
      "outputs": []
    },
    {
      "cell_type": "markdown",
      "metadata": {
        "id": "bGMm6RQY0Uhz",
        "colab_type": "text"
      },
      "source": [
        "Como `2` es mayor que `1`, la expresión asignada a la variable `a` es `True`. Por otro lado:"
      ]
    },
    {
      "cell_type": "code",
      "metadata": {
        "id": "jsKZgwTT0UzE",
        "colab_type": "code",
        "colab": {}
      },
      "source": [
        "b = 9 < 5\n",
        "print(b)"
      ],
      "execution_count": 0,
      "outputs": []
    },
    {
      "cell_type": "markdown",
      "metadata": {
        "id": "uwuYg84Y0Vp8",
        "colab_type": "text"
      },
      "source": [
        "Como `9` **no** es más pequeño que `5`, la variable `b` es `False`. Los operadores `<` y `>` representan una comparación **estrictamente** menor y mayor, respectivamente. Por ello los siguientes ejemplos se evalúan a `False`:"
      ]
    },
    {
      "cell_type": "code",
      "metadata": {
        "id": "ao9UK5an0WAQ",
        "colab_type": "code",
        "colab": {}
      },
      "source": [
        "print(2 < 2)\n",
        "print(-1 > -1)"
      ],
      "execution_count": 0,
      "outputs": []
    },
    {
      "cell_type": "markdown",
      "metadata": {
        "id": "XEv23aVR0WQ5",
        "colab_type": "text"
      },
      "source": [
        "Para incluir la igualdad dentro de la comparación, se usan los operadores `<=` y `>=` (\"menor o igual que\" y \"mayor o igual que\", respectivamente). Veamos algunos ejemplos de su uso:"
      ]
    },
    {
      "cell_type": "code",
      "metadata": {
        "id": "dURP8xB631T9",
        "colab_type": "code",
        "colab": {}
      },
      "source": [
        "print(2 >= 1)\n",
        "print(9 <= 5)\n",
        "print(2 <= 2)\n",
        "print(-1 >= -1)"
      ],
      "execution_count": 0,
      "outputs": []
    },
    {
      "cell_type": "markdown",
      "metadata": {
        "id": "nbBFG8zb31kF",
        "colab_type": "text"
      },
      "source": [
        "Luego, el operador '==' representa la **igualdad exclusiva** entre dos variables:"
      ]
    },
    {
      "cell_type": "code",
      "metadata": {
        "id": "bMFRqYSa310u",
        "colab_type": "code",
        "colab": {}
      },
      "source": [
        "print(1 == 2)\n",
        "print(4.55555 == 4.55556)\n",
        "print(1 == 1)\n",
        "print(1 == 1.0)"
      ],
      "execution_count": 0,
      "outputs": []
    },
    {
      "cell_type": "markdown",
      "metadata": {
        "id": "PAbC1KNKD_Qg",
        "colab_type": "text"
      },
      "source": [
        "Finalmente, el operador `!=` tiene en cuenta la **desigualdad exclusiva**, fíjate en los siguientes ejemplos:"
      ]
    },
    {
      "cell_type": "code",
      "metadata": {
        "id": "FG6tfjy8D_jx",
        "colab_type": "code",
        "colab": {}
      },
      "source": [
        "print(1 != 2)\n",
        "print(4.5555 != 4.5556)\n",
        "print(1 != 1)\n",
        "print(1 != 1.0)"
      ],
      "execution_count": 0,
      "outputs": []
    },
    {
      "cell_type": "markdown",
      "metadata": {
        "id": "TtkObJtc32Ld",
        "colab_type": "text"
      },
      "source": [
        "Las relaciones de comparación también se pueden establecer entre **strings**. Un string `s1` será considerado menor que otro string `s2` si `s1` aparecería antes que `s2` en el diccionario. Veamos algunos ejemplos:"
      ]
    },
    {
      "cell_type": "code",
      "metadata": {
        "id": "rvqN8-Wb32Zh",
        "colab_type": "code",
        "colab": {}
      },
      "source": [
        "print('aaaaa' < 'bbbbb')\n",
        "print('alphabet' > 'zebra')\n",
        "print('cactus' == 'cacti')"
      ],
      "execution_count": 0,
      "outputs": []
    },
    {
      "cell_type": "markdown",
      "metadata": {
        "id": "_4PuBWbA32kw",
        "colab_type": "text"
      },
      "source": [
        "Como curiosidad, cualquier letra mayúscula se considera que aparecería **antes** en el diccionario que las letras minúsculas, por ello ocurren los siguientes resultados al comparar palabras con letras mayúsculas y/o minúsculas:"
      ]
    },
    {
      "cell_type": "code",
      "metadata": {
        "id": "It-62jUh321E",
        "colab_type": "code",
        "colab": {}
      },
      "source": [
        "print('AAAAA' < 'bbbbb')\n",
        "print('alphabet' > 'Zebra')\n",
        "print('library' == 'librarY')"
      ],
      "execution_count": 0,
      "outputs": []
    },
    {
      "cell_type": "markdown",
      "metadata": {
        "id": "Y6SelCAZ5znU",
        "colab_type": "text"
      },
      "source": [
        "Por qué todos estos operadores booleanos y operadores de comparación son importantes al programar? Porque permiten la elaboración de estructuras condicionales. Una estructura condicional en Python viene dada por la operación `if`, cuya sintaxis es la siguiente:\n",
        "\n",
        "```\n",
        "if condición:\n",
        "  código\n",
        "```\n",
        "\n",
        "donde `condición` es una expresión booleana que debe ser `True` para que se ejecute el `código`. Fíjate en que las instrucciones que dependen de esa estrucutra condicional deben estar **indentadas** (tabuladas hacia la derecha). También **debes añadir dos `:` puntos tras la condición**. Fíjate en los siguientes dos ejemplos:"
      ]
    },
    {
      "cell_type": "code",
      "metadata": {
        "id": "ui_lZk4-50C0",
        "colab_type": "code",
        "colab": {}
      },
      "source": [
        "if True:\n",
        "  print(\"Esta es una expresión verdadera.\")"
      ],
      "execution_count": 0,
      "outputs": []
    },
    {
      "cell_type": "code",
      "metadata": {
        "id": "EdRXF1H0CCVP",
        "colab_type": "code",
        "colab": {}
      },
      "source": [
        "if False:\n",
        "  print(\"Esta es una expresión falsa.\")"
      ],
      "execution_count": 0,
      "outputs": []
    },
    {
      "cell_type": "markdown",
      "metadata": {
        "id": "Lk4ZrhPD50UQ",
        "colab_type": "text"
      },
      "source": [
        "Cuando la condición es `False`, las instrucciones que están indentadas no se evalúan (no ocurren). Veamos un ejemplo más para ver cómo funciona la indentación:"
      ]
    },
    {
      "cell_type": "code",
      "metadata": {
        "id": "I7uRUMou50iE",
        "colab_type": "code",
        "colab": {}
      },
      "source": [
        "print('Uno')\n",
        "if True:\n",
        "  print('Dos')\n",
        "print('Tres')\n",
        "if False:\n",
        "  print('Cuatro')\n",
        "print('Cinco')"
      ],
      "execution_count": 0,
      "outputs": []
    },
    {
      "cell_type": "markdown",
      "metadata": {
        "id": "i7Gyh4u050v3",
        "colab_type": "text"
      },
      "source": [
        "`Uno`, `Tres` y `Cinco` se muestran por pantalla porque no dependen de ninguna estructura condicional (no están indentados). `Dos` se muestra porque depende de una estructura condicional cuya condición es `True`. Finalmente, `Cuatro` no se muestra porque depende de una estructura condicional cuya condición es `False`.\n",
        "\n",
        "Cualquier cosa que dependa de una estructura condicional debe estar indentada. Puedes tener estructuras condicionales dentro de otras estructuras condicionales:"
      ]
    },
    {
      "cell_type": "code",
      "metadata": {
        "id": "qhXGpti65094",
        "colab_type": "code",
        "colab": {}
      },
      "source": [
        "if True:\n",
        "  print(1)\n",
        "  if False:\n",
        "    print(2)\n",
        "  if True:\n",
        "    print(3)\n",
        "  print(4)\n",
        "if False:\n",
        "  print(5)\n",
        "  if True:\n",
        "    print(6)"
      ],
      "execution_count": 0,
      "outputs": []
    },
    {
      "cell_type": "markdown",
      "metadata": {
        "id": "794k-LJ851Tx",
        "colab_type": "text"
      },
      "source": [
        "¿Entiendes por qué sólo se han mostrado los números 1, 3 y 4?\n",
        "\n",
        "Ahora veamos algunos ejemplos con los operadores de comparación que hemos visto antes, puedes adivinar cuáles de los siguientes strings se mostrarán por pantalla?"
      ]
    },
    {
      "cell_type": "code",
      "metadata": {
        "id": "1gTD9Mft51iX",
        "colab_type": "code",
        "colab": {}
      },
      "source": [
        "if 3 > 4:\n",
        "  print('Uno')\n",
        "if True and False:\n",
        "  print('Dos')\n",
        "if 8 >= 9 or 5 < 6:\n",
        "  print('Tres')\n",
        "if 4 == 4.0:\n",
        "  print('Cuatro')\n",
        "if not True:\n",
        "  print('Cinco')\n",
        "if 3 != 4:\n",
        "  print('Seis')"
      ],
      "execution_count": 0,
      "outputs": []
    },
    {
      "cell_type": "markdown",
      "metadata": {
        "id": "Jr1b9q2s51v1",
        "colab_type": "text"
      },
      "source": [
        "La estructura condicional tiene dos extensiones con respecto a la que acabas de ver. La primera de ellas es la operación `else`, cuya sintaxis es la siguiente:\n",
        "\n",
        "```\n",
        "if condición:\n",
        "  código 1\n",
        "else:\n",
        "  código 2\n",
        "```\n",
        "\n",
        "Básicamente, esta estructura va a ejecutar `código 2` en caso de que la `condición` sea `False`. En el caso en que la `condición` sea `True`, la estructura seguirá ejecutando `código 1`. **Debes añadir dos puntos `:` detrás de la `condición` y detrás de `else`**. Veamos algunos ejemplos:"
      ]
    },
    {
      "cell_type": "code",
      "metadata": {
        "id": "eRe-RUJECvZK",
        "colab_type": "code",
        "colab": {}
      },
      "source": [
        "if True:\n",
        "  print('Plan A')\n",
        "else:\n",
        "  print('Plan B')"
      ],
      "execution_count": 0,
      "outputs": []
    },
    {
      "cell_type": "code",
      "metadata": {
        "id": "KAxpDVxAMasZ",
        "colab_type": "code",
        "colab": {}
      },
      "source": [
        "if False:\n",
        "  print('Plan A')\n",
        "else:\n",
        "  print('Plan B')"
      ],
      "execution_count": 0,
      "outputs": []
    },
    {
      "cell_type": "markdown",
      "metadata": {
        "id": "gfwkxl2kCvrj",
        "colab_type": "text"
      },
      "source": [
        "Fácil, ¿no? Veamos algunos ejemplos. El código que sigue nos determina si una temperatura dada por la variable `temperatura` es muy fría o no:"
      ]
    },
    {
      "cell_type": "code",
      "metadata": {
        "id": "ZJhhhPhlCv60",
        "colab_type": "code",
        "colab": {}
      },
      "source": [
        "temperatura = 25\n",
        "if temperatura < 0:\n",
        "  print('¡Hace mucho frío!')\n",
        "else:\n",
        "  print('Se está bien')"
      ],
      "execution_count": 0,
      "outputs": []
    },
    {
      "cell_type": "markdown",
      "metadata": {
        "id": "Sm5h2Ss5CwOE",
        "colab_type": "text"
      },
      "source": [
        "Prueba tú mismo, ¿qué pasa si cambias el valor de `temperatura` por `-2`? ¿Y por `0`?"
      ]
    },
    {
      "cell_type": "markdown",
      "metadata": {
        "id": "M-H8zsjVCwnh",
        "colab_type": "text"
      },
      "source": [
        "Eso es útil, pero en muchas ocasiones las cosas no se dividen en frío o caliente, existen puntos intermedios. Para ello es por lo que se añade la segunda extensión a la estructura `if-else`. Vamos a introducir el operador `elif`, con la siguiente sintaxis:\n",
        "\n",
        "```\n",
        "if condición_1:\n",
        "  código 1\n",
        "elif condición_2:\n",
        "  código 2\n",
        "else:\n",
        "  código 3\n",
        "```\n",
        "\n",
        "En este caso, si la `condición_1` es `True`, se ejecutará el `código 1`. En caso de que `condición_1` sea `False`, **si la `condición_2` es `True`**, entonces se ejecutará el `código 2`. Finalmente, tanto si la `condición_1` como la `condición_2` son `False`, entonces se ejecutará el `código 3` de la parte del `else`. **Recuerda añadir los dos puntos `:`**. Veamos cómo funciona el operador `elif` haciendo una extensión del código de la temperatura que acabamos de ver:"
      ]
    },
    {
      "cell_type": "code",
      "metadata": {
        "id": "FhwnLiwwM-xu",
        "colab_type": "code",
        "colab": {}
      },
      "source": [
        "temperatura = 15\n",
        "if temperatura < 0: \n",
        "  print('¡Hace mucho frío!')\n",
        "elif temperatura < 10:\n",
        "  print('El ambiente es fresco')\n",
        "elif temperatura < 20:\n",
        "  print('Se está bien')\n",
        "else:\n",
        "  print('Hace calor')"
      ],
      "execution_count": 0,
      "outputs": []
    },
    {
      "cell_type": "markdown",
      "metadata": {
        "id": "07UOyezDM_PS",
        "colab_type": "text"
      },
      "source": [
        "Haz pruebas tú mismo, cambia el valor de `temperatura` por `5`, `-4` y `30`."
      ]
    },
    {
      "cell_type": "markdown",
      "metadata": {
        "id": "gFdVir8MOv8Z",
        "colab_type": "text"
      },
      "source": [
        "Finalmente, recuerda que hay operaciones con listas cuyo resultado es una variable booleana y por tanto se pueden combinar con estructuras condicionales:"
      ]
    },
    {
      "cell_type": "code",
      "metadata": {
        "id": "r8P-egwpO5vG",
        "colab_type": "code",
        "colab": {}
      },
      "source": [
        "lista_de_la_compra = ['leche', 'manzanas', 'tomates']\n",
        "\n",
        "if 'chocolate' in lista_de_la_compra:\n",
        "  print('Listos para ir al supermercado!')\n",
        "else:\n",
        "  print('¡Espera! Primero debes añadir chocolate a la lista de la compra...')"
      ],
      "execution_count": 0,
      "outputs": []
    },
    {
      "cell_type": "markdown",
      "metadata": {
        "id": "GsxNmW7Tnab2",
        "colab_type": "text"
      },
      "source": [
        "### **Ejercicios Sesión 5**"
      ]
    },
    {
      "cell_type": "markdown",
      "metadata": {
        "id": "wfycNQ-jpI6F",
        "colab_type": "text"
      },
      "source": [
        "**Ejercicio 1**\n",
        "\n",
        "Seguidamente puedes encontrar 5 variables distintas: `a`, `b`, `c`, `d` y `e`."
      ]
    },
    {
      "cell_type": "markdown",
      "metadata": {
        "id": "23vc06bYdajm",
        "colab_type": "text"
      },
      "source": [
        "```\n",
        "a = 1\n",
        "b = 4.8\n",
        "c = \"String\"\n",
        "d = \"animal\"\n",
        "e = [4, 7, 2, 9, 5, 10, 2]\n",
        "```"
      ]
    },
    {
      "cell_type": "markdown",
      "metadata": {
        "id": "Os8VR8nxpQKJ",
        "colab_type": "text"
      },
      "source": [
        "Completa las siguientes expresiones booleanas con su resultado, o bien `True` o `False`:"
      ]
    },
    {
      "cell_type": "markdown",
      "metadata": {
        "id": "OOHxOO-zdaz6",
        "colab_type": "text"
      },
      "source": [
        "```\n",
        "1. a > 1                  --> \n",
        "2. d >= c                 --> \n",
        "3. 6 not in e             --> \n",
        "4. 1 != 1.0               --> \n",
        "5. 1 != \"1\"               --> \n",
        "6. b > e.index(max(e))    --> \n",
        "7. min(e) > a             --> \n",
        "8. len(e + e) <= 10       --> \n",
        "9. c + c > c              --> \n",
        "10. max(e) in e or False  --> \n",
        "11. 2**4 == 4**2          --> \n",
        "12. len(e[1:3]) == 3      --> \n",
        "```"
      ]
    },
    {
      "cell_type": "markdown",
      "metadata": {
        "id": "sGFcUQaJpqyD",
        "colab_type": "text"
      },
      "source": [
        "**Ejercicio 2**\n",
        "\n",
        "Este ejercicio es idéntico al que viste en la sesión de listas, **esta vez debes resolverlo con operadores `if`**: Las variables `hora_actual` y `minutos_actuales` contienen la hora y los minutos en cierto momento. Por otra parte, tenemos la variable `minutos_suma`, que es una cantidad de minutos que le queremos sumar a la hora actual. Nuestro objetivo es conocer cuál será la nueva hora después de añadir esos minutos. Para ello debes escribir una expresión para `hora_nueva` y `minutos_nuevos`, que contienen la hora y los minutos tras añadir la cantidad de minutos en `minutos_suma`. \n",
        "\n",
        "Por ejemplo, si son las 8:32 (`hora_acutal=8` y `minutos_actuales=32`) y queremos añadir 2 minutos (`minutos_suma=2`), tendríamos la nueva hora como 8:34. Por tanto al mostrar por pantalla `hora_nueva` y `minutos_nuevos` deberíamos ver `8` y `34` respectivamente. \n",
        "\n",
        "**Alerta 1:** Deberías trabajar únicamente con tipos **integer**\n",
        "\n",
        "**Alerta 2:** Cuando los minutos pasan de 59, una nueva hora debe comenzar. Y después de 23:59 viene 00:00.\n",
        "\n",
        "**Alerta 3:** Puedes asumir que `minutos_suma` siempre es menor o igual que 60."
      ]
    },
    {
      "cell_type": "code",
      "metadata": {
        "id": "XWAwWHW1TJul",
        "colab_type": "code",
        "colab": {}
      },
      "source": [
        "hora_actual = 14\n",
        "minutos_actuales = 32\n",
        "minutos_suma = 40\n",
        "\n",
        "# Tu código a partir de aquí\n"
      ],
      "execution_count": 0,
      "outputs": []
    },
    {
      "cell_type": "markdown",
      "metadata": {
        "id": "CyFU9J_FTdOx",
        "colab_type": "text"
      },
      "source": [
        "**Ejercicio 3**\n",
        "\n",
        "En la celda que sigue tienes una lista definida. Esta lista podría ser cualquiera, el objetivo de ejercicio es añadir código tal que si la longitud de la lista es par, el primer elemento de ésta sea eliminado. Por otra parte, si la longitud de la lista es impar, el segundo elemento debe ser el eliminado."
      ]
    },
    {
      "cell_type": "code",
      "metadata": {
        "id": "WN-X49LdTvbk",
        "colab_type": "code",
        "colab": {}
      },
      "source": [
        "lista = [1, 2, 3, 4, 5]\n",
        "\n",
        "# Tu código a partir de aquí\n",
        "\n"
      ],
      "execution_count": 0,
      "outputs": []
    },
    {
      "cell_type": "markdown",
      "metadata": {
        "id": "3vkrVRMpT-C2",
        "colab_type": "text"
      },
      "source": [
        "**Ejercicio 4**\n",
        "\n",
        "El objetivo de este ejercicio es determinar si, dada una lista, su valor maximo está repetido o no. Debes completar el código en la celda que sigue para que, sea cuál sea la lista, se muestre por pantalla un mensaje que diga si el máximo esta repetido o no. Por ejemplo, si la lista es `[1, 2, 3, 4]` el máximo (`4`) no está repetido y por tanto debería mostrarse por pantalla: `El máximo no está repetido`. Por otra parte, si por ejemplo la lista es `[1, 2, 3, 3, 1]`, el máximo sí está repetido (`3`) y debe mostrarse por pantalla: `El máximo sí está repetido`."
      ]
    },
    {
      "cell_type": "code",
      "metadata": {
        "id": "gMcGKKyKUuot",
        "colab_type": "code",
        "colab": {}
      },
      "source": [
        "lista = [4, 6, 7, 9, 2, 9, 2, 4]\n",
        "\n",
        "# Tu código a partir de aquí\n",
        "\n"
      ],
      "execution_count": 0,
      "outputs": []
    }
  ]
}