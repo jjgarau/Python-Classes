{
  "nbformat": 4,
  "nbformat_minor": 0,
  "metadata": {
    "colab": {
      "name": "4.ipynb",
      "provenance": [],
      "collapsed_sections": [],
      "include_colab_link": true
    },
    "kernelspec": {
      "name": "python3",
      "display_name": "Python 3"
    }
  },
  "cells": [
    {
      "cell_type": "markdown",
      "metadata": {
        "id": "view-in-github",
        "colab_type": "text"
      },
      "source": [
        "<a href=\"https://colab.research.google.com/github/jjgarau/Python-Classes/blob/master/Spanish/notebooks/4.ipynb\" target=\"_parent\"><img src=\"https://colab.research.google.com/assets/colab-badge.svg\" alt=\"Open In Colab\"/></a>"
      ]
    },
    {
      "cell_type": "markdown",
      "metadata": {
        "colab_type": "text",
        "id": "26IHzE7Rd4hz"
      },
      "source": [
        "# **Introducción a Python: Sesión 4**\n",
        "\n",
        "Material creado por Juanjo Garau (garau@mit.edu)"
      ]
    },
    {
      "cell_type": "markdown",
      "metadata": {
        "id": "GsxNmW7Tnab2",
        "colab_type": "text"
      },
      "source": [
        "### **Solución a los Ejercicios de la Sesión 3**"
      ]
    },
    {
      "cell_type": "markdown",
      "metadata": {
        "id": "4w0MEfYlnycE",
        "colab_type": "text"
      },
      "source": [
        "Una cosa útil para estos ejercicios son el uso de paréntesis en Python. Si añadimos paréntesis en Python, éstos actúan de la misma forma que lo hacen en las operaciones matemáticas, nos dicen qué operaciones se deberían llevar a cabo primero. Veamos algunos ejemplos:"
      ]
    },
    {
      "cell_type": "code",
      "metadata": {
        "id": "X4XxO7reVYNS",
        "colab_type": "code",
        "colab": {}
      },
      "source": [
        "a = (7 + 1) / 2\n",
        "b = (4 - 2) % 1\n",
        "c = ((4 % 3) + 4) // 3\n",
        "print(a)\n",
        "print(b)\n",
        "print(c)"
      ],
      "execution_count": 0,
      "outputs": []
    },
    {
      "cell_type": "markdown",
      "metadata": {
        "id": "26CAnV85oMX1",
        "colab_type": "text"
      },
      "source": [
        "**Ejercicio 1**\n",
        "\n",
        "En este ejercicio debes completar la celda de código tal que corrijas lo siguiente. La variable `nested_list` contiene una lista *nested* con el siguiente formato\n",
        "\n",
        "```\n",
        "[[['a', 'b'], ['c', 'd']], ['e', 'f']]\n",
        "```\n",
        "\n",
        "Tu objetivo es crear la variable `single_list`, que debe guardar una lista, creada a partir de `nested_list` con el siguiente formato:\n",
        "\n",
        "```\n",
        "['a', 'b', 'c', 'd', 'e', 'f']\n",
        "```\n",
        "\n",
        "Hay varias formas correctas de hacer este ejercicio."
      ]
    },
    {
      "cell_type": "code",
      "metadata": {
        "id": "SSfnPEi2ovOo",
        "colab_type": "code",
        "colab": {}
      },
      "source": [
        "nested_list = [[['a', 'b'], ['c', 'd']], ['e', 'f']]\n",
        "# Tu código a partir de aquí\n",
        "single_list = nested_list[0][0] + nested_list[0][1] + nested_list[1]\n",
        "# O bien\n",
        "single_list = [nested_list[0][0][0], nested_list[0][0][1], nested_list[0][1][0], nested_list[0][1][1], nested_list[1][0], nested_list[1][1]]"
      ],
      "execution_count": 0,
      "outputs": []
    },
    {
      "cell_type": "markdown",
      "metadata": {
        "id": "dwisOhyIo3gC",
        "colab_type": "text"
      },
      "source": [
        "**Ejercicio 2**\n",
        "\n",
        "En este ejercicio tienes la lista `numeros`. Tu objetivo es crear dos listas llamadas `sublista1` y `sublista2` que contengan la primera y la segunda mitad de la lista `numeros`. \n",
        "\n",
        "Esto lo debes hacer haciendo cortes a la lista original. Pista: tendrás que usar la función `len()`."
      ]
    },
    {
      "cell_type": "code",
      "metadata": {
        "id": "G33i40MhpS9-",
        "colab_type": "code",
        "colab": {}
      },
      "source": [
        "numeros = [1, 2, 3, 4, 5, 6]\n",
        "# Tu código a partir de aquí\n",
        "sublista1 = numeros[:(len(numeros) // 2)]\n",
        "sublista2 = numeros[(len(numeros) // 2):]"
      ],
      "execution_count": 0,
      "outputs": []
    },
    {
      "cell_type": "markdown",
      "metadata": {
        "id": "mdbUiR0GpcxL",
        "colab_type": "text"
      },
      "source": [
        "Luego puedes hacer pruebas cambiando la lista `numeros` por listas distintas."
      ]
    },
    {
      "cell_type": "markdown",
      "metadata": {
        "id": "sGFcUQaJpqyD",
        "colab_type": "text"
      },
      "source": [
        "**Ejercicio 3**\n",
        "\n",
        "Este ejercicio es de repaso de lo que ya has visto. Las variables `hora_actual` y `minutos_actuales` contienen la hora y los minutos en cierto momento. Por otra parte, tenemos la variable `minutos_suma`, que es una cantidad de minutos que le queremos sumar a la hora actual. Nuestro objetivo es conocer cuál será la nueva hora después de añadir esos minutos. Para ello debes escribir una expresión para `hora_nueva` y `minutos_nuevos`, que contienen la hora y los minutos tras añadir la cantidad de minutos en `minutos_suma`. \n",
        "\n",
        "Por ejemplo, si son las 8:32 (`hora_acutal=8` y `minutos_actuales=32`) y queremos añadir 2 minutos (`minutos_suma=2`), tendríamos la nueva hora como 8:34. Por tanto al mostrar por pantalla `hora_nueva` y `minutos_nuevos` deberíamos ver `8` y `34` respectivamente. \n",
        "\n",
        "**Alerta 1:** Deberías trabajar únicamente con tipos **integer**\n",
        "\n",
        "**Alerta 2:** Cuando los minutos pasan de 59, una nueva hora debe comenzar. Y después de 23:59 viene 00:00."
      ]
    },
    {
      "cell_type": "code",
      "metadata": {
        "id": "JBlvDKjBriUO",
        "colab_type": "code",
        "colab": {}
      },
      "source": [
        "hora_actual = 14\n",
        "minutos_actuales = 32\n",
        "minutos_suma = 40\n",
        "\n",
        "# Tu código a partir de aquí\n",
        "minutos_nuevos = (minutos_actuales + minutos_suma) % 60\n",
        "hora_nueva = (hora_actual + (minutos_actuales + minutos_suma) // 60) % 24"
      ],
      "execution_count": 0,
      "outputs": []
    },
    {
      "cell_type": "markdown",
      "metadata": {
        "id": "MgsQeNJ5rxSg",
        "colab_type": "text"
      },
      "source": [
        "Haz pruebas con varios valores para `hora_actual`, `minutos_actuales` y `minutos_suma`. Debes comprobar que tu código funciona para cualquier caso!"
      ]
    }
  ]
}