{
  "nbformat": 4,
  "nbformat_minor": 0,
  "metadata": {
    "colab": {
      "name": "6 iteradores.ipynb",
      "provenance": [],
      "collapsed_sections": [],
      "include_colab_link": true
    },
    "kernelspec": {
      "name": "python3",
      "display_name": "Python 3"
    }
  },
  "cells": [
    {
      "cell_type": "markdown",
      "metadata": {
        "id": "view-in-github",
        "colab_type": "text"
      },
      "source": [
        "<a href=\"https://colab.research.google.com/github/jjgarau/Python-Classes/blob/master/Spanish/notebooks/6_iteradores.ipynb\" target=\"_parent\"><img src=\"https://colab.research.google.com/assets/colab-badge.svg\" alt=\"Open In Colab\"/></a>"
      ]
    },
    {
      "cell_type": "markdown",
      "metadata": {
        "colab_type": "text",
        "id": "26IHzE7Rd4hz"
      },
      "source": [
        "# **Introducción a Python: Sesión 6**\n",
        "\n",
        "Material creado por Juanjo Garau (garau@mit.edu)"
      ]
    },
    {
      "cell_type": "markdown",
      "metadata": {
        "id": "hw2BPNFq3PJf",
        "colab_type": "text"
      },
      "source": [
        "## **Iteradores/Bucles**"
      ]
    },
    {
      "cell_type": "markdown",
      "metadata": {
        "id": "ztZRxxEBEDUx",
        "colab_type": "text"
      },
      "source": [
        "En este *notebook* aprenderás qué son **iteradores** o **bucles** y los implementarás en Python. \n",
        "\n",
        "Los iteradores son un tipo de estructura que permiten repetir instrucciones de código múltiples veces, para ahorrarte el tiempo y el espacio de tener que escribirlas tú. Existen dos tipos de iterador: **`while`** y **`for`**. Empezaremos viendo el primero.\n",
        "\n",
        "####**Iteradores While**\n",
        "\n",
        "La estructura de un iterador `while` en Python es la siguiente:\n",
        "\n",
        "```\n",
        "while condición:\n",
        "  código\n",
        "```\n",
        "\n",
        "Básicamente, dada una `condición` booleana, un iterador `while` va a ejecutar constantemente un `código` mientras esa `condición` sea `True`. Fíjate que el `código` debe estar **indentado** y también tiene que haber los **dos puntos** `:`. Veamos un ejemplo:"
      ]
    },
    {
      "cell_type": "code",
      "metadata": {
        "id": "jOxNHyR5U9R0",
        "colab_type": "code",
        "colab": {}
      },
      "source": [
        "a = 1\n",
        "while a <= 5:\n",
        "  print(a)\n",
        "  a = a + 1"
      ],
      "execution_count": 0,
      "outputs": []
    },
    {
      "cell_type": "markdown",
      "metadata": {
        "id": "gSyvu_Q-VDfd",
        "colab_type": "text"
      },
      "source": [
        "Mientras la condición se cumpla, cualquier cosa que esté indentada al nivel del `while` se va a repetir hasta que la condición no se cumpla. En el ejemplo superior podemos ver que la condición es `a <= 5` (`a` menor o igual que `5`). Como `a` se inicializa a `1`, en la primera iteración se muestra su valor y luego se aumenta éste en una unidad (`a = a + 1`). Esto va sucediendo hasta que `a` toma el valor `6`, cuando la condición `a <= 5` ya no se cumple y por tanto acaba el iterador. \n",
        "\n",
        "Veamos otro ejemplo:"
      ]
    },
    {
      "cell_type": "code",
      "metadata": {
        "id": "DlkaIXQTVC4w",
        "colab_type": "code",
        "colab": {}
      },
      "source": [
        "lista = [1, 2, 3, 4, 5, 6, 7, 8]\n",
        "elemento = 5\n",
        "\n",
        "while elemento in lista:\n",
        "  del(lista[0])\n",
        "  print(lista)"
      ],
      "execution_count": 0,
      "outputs": []
    },
    {
      "cell_type": "markdown",
      "metadata": {
        "id": "MQtnMHZ96vbX",
        "colab_type": "text"
      },
      "source": [
        "En este ejemplo se proporciona una `lista` inicial y un `elemento` elemento en cuenta. Nuestro iterador examina si el `elemento` está en la `lista` y si lo está elimina el primer elemento de la lista. Luego repite esta operación hasta que `elemento` ya no está en la lista.\n",
        "\n",
        "Una consideración importante es que las variables que están presentes en la condicición de iteración deben ir cambiando para que en algún momento se pare la iteración. Si no pasa lo que ocurre en el siguiente ejemplo:\n",
        "\n",
        "**AVISO:** Al ejecutar el siguiente código va a mostrar el número `1` por pantalla indefinidamente, debes pararlo tras varios segundos. Por el momento ignora las instrucciones `import time` y `time.sleep(1)`, esto únicamente hace que espere 1 segundo entre iteración e iteración. "
      ]
    },
    {
      "cell_type": "code",
      "metadata": {
        "id": "UL-NguWkVDvW",
        "colab_type": "code",
        "colab": {}
      },
      "source": [
        "import time\n",
        "\n",
        "a = 1\n",
        "while a <= 5:\n",
        "  print(a)\n",
        "  time.sleep(1)"
      ],
      "execution_count": 0,
      "outputs": []
    },
    {
      "cell_type": "markdown",
      "metadata": {
        "id": "Qa1qwvWlVFms",
        "colab_type": "text"
      },
      "source": [
        "Los iteradores `while` se pueden implementar para ver si se rellenan correctamente los campos de un cuestionario, por ejemplo un email.\n",
        "\n",
        "En el siguiente ejemplo el código pide un email al usuario, si el email no contiene una arroba `@` o una extensión `.com` el código identifica el email como erróneo y lo vuelve a pedir. Repetirá esta acción hasta que el usuario introduzca un email correcto:"
      ]
    },
    {
      "cell_type": "code",
      "metadata": {
        "id": "VJKeN2LXVF1o",
        "colab_type": "code",
        "colab": {}
      },
      "source": [
        "email = \"\"\n",
        "while \"@\" not in email or \".com\" not in email:\n",
        "  email = input('Introduce tu email:')\n",
        "print('Gracias! Tu email es ' + email)"
      ],
      "execution_count": 0,
      "outputs": []
    },
    {
      "cell_type": "markdown",
      "metadata": {
        "id": "l5Pq3otpVGgM",
        "colab_type": "text"
      },
      "source": [
        "Los iteradores `while` también son ideales para crear **contadores**, como en el ejemplo siguiente. \n",
        "\n",
        "Tenemos un generador de números aleatorios entre 0 y 1 y queremos saber cuántos números tenemos que generar hasta que obtengamos un número que esté entre dos valores llamados `inferior` y `superior`. Mediante un iterador `while` vamos a contar cuántos `intentos` necesita el código para obtener dicho número. \n",
        "\n",
        "**AVISO:** Ignora por el momento la instrucción `import random`. Luego, la instrucción `numero = random.random()` es la que genera el número aleatorio entre 0 y 1. "
      ]
    },
    {
      "cell_type": "code",
      "metadata": {
        "id": "yYqOSYnuVGyK",
        "colab_type": "code",
        "colab": {}
      },
      "source": [
        "import random\n",
        "# inferior debe ser menor que superior y ambos deben estar entre 0 y 1\n",
        "inferior = 0.2\n",
        "superior = 0.3\n",
        "\n",
        "intentos = 1\n",
        "numero = random.random()\n",
        "while numero < inferior or numero > superior:\n",
        "  intentos = intentos + 1\n",
        "  numero = random.random()\n",
        "\n",
        "print(\"Para lograr un número entre \" + str(inferior) + \" y \" + str(superior) + \" ha tomado \" + str(intentos) + \" intentos.\")"
      ],
      "execution_count": 0,
      "outputs": []
    },
    {
      "cell_type": "markdown",
      "metadata": {
        "id": "AbNaEY5obVlx",
        "colab_type": "text"
      },
      "source": [
        "Prueba tú mismo a cambiar los valores de `inferior` y `superior` para ver cuántos intentos toma! "
      ]
    },
    {
      "cell_type": "markdown",
      "metadata": {
        "id": "uMcSAvWkVG_g",
        "colab_type": "text"
      },
      "source": [
        "####**For loops**\n",
        "\n",
        "Ahora vamos a ver cómo funcionan los iteradores `for`. En este tipo de iteradores, a diferencia de un `while` la iteración se basa en un `iterable`, un objeto sobre el cual se puede iterar. Por ejemplo, una lista es un iterable. Más adelante en el curso veremos diferentes tipos de iterables. La sintaxis básica de un iterador `for` en Python es la siguiente:\n",
        "\n",
        "```\n",
        "for v in iterable:\n",
        "  código\n",
        "```\n",
        "\n",
        "Siguiendo esta sintaxis, `v` es una variable que, al contrario que las variables presentes en la condición de un iterador `while`, no necesita estar predefinida. `iterable` es un iterable, que como hemos dicho podría ser una lista. \n",
        "\n",
        "El `iterable` está compuesto de elementos distintos (por ejemplo una lista tiene diferentes elementos en su interior). El iterador `for` realiza tantas iteraciones como elementos tenga el `iterable`. En cada una de las iteraciones, la variable `v` irá tomando el valor del elemento en cuestión y repitiendo el `código` que se encuentra intendado bajo el iterador. \n",
        "\n",
        "Recuerda añadir la **indentación** y los dos puntos **`:`**. Veamos un ejemplo:"
      ]
    },
    {
      "cell_type": "code",
      "metadata": {
        "id": "A9E9X6BQVHKz",
        "colab_type": "code",
        "colab": {}
      },
      "source": [
        "for i in ['a', 'b', 'c', 'd', 'e']:\n",
        "  print(i)"
      ],
      "execution_count": 0,
      "outputs": []
    },
    {
      "cell_type": "markdown",
      "metadata": {
        "id": "md6xbj4JVHVX",
        "colab_type": "text"
      },
      "source": [
        "¿Qué está sucediendo? Lo siguiente:\n",
        "\n",
        "En este ejemplo tenemos que `i` es nuestra variable auxiliar y el `iterable` consiste en la lista `['a', 'b', 'c', 'd', 'e']`. Luego, el iterador `for` realiza lo siguiente:\n",
        "\n",
        "* Iteración 1: `i` toma el valor `'a'`, y por tanto `print(i)` va a mostrar `a`\n",
        "* Iteración 2: `i` toma el valor `'b'`, y por tanto `print(i)` va a mostrar `b`\n",
        "* Iteración 3: `i` toma el valor `'c'`, y por tanto `print(i)` va a mostrar `c`\n",
        "* Iteración 4: `i` toma el valor `'d'`, y por tanto `print(i)` va a mostrar `d`\n",
        "* Iteración 5: `i` toma el valor `'e'`, y por tanto `print(i)` va a mostrar `e`\n",
        "\n",
        "Luego no hay más iteraciones porque la lista sólo tiene 5 elementos. Veamos otro ejemplo:"
      ]
    },
    {
      "cell_type": "code",
      "metadata": {
        "id": "nJGmHVheKMOx",
        "colab_type": "code",
        "colab": {}
      },
      "source": [
        "for i in [6, 3, 8, 10]:\n",
        "  print(i + 10)"
      ],
      "execution_count": 0,
      "outputs": []
    },
    {
      "cell_type": "markdown",
      "metadata": {
        "id": "_DNbRRIdAC0H",
        "colab_type": "text"
      },
      "source": [
        "¿Podrías explicar por qué se muestran estos números? \n",
        "\n",
        "Otro tipo de `iterables` son las instrucciones `range`, que proporcionan una lista de números **integer** sobre la cual iterar, aquí tienes un ejemplo:"
      ]
    },
    {
      "cell_type": "code",
      "metadata": {
        "id": "O5WltlzldNgu",
        "colab_type": "code",
        "colab": {}
      },
      "source": [
        "for i in range(4):\n",
        "  print(i)"
      ],
      "execution_count": 0,
      "outputs": []
    },
    {
      "cell_type": "markdown",
      "metadata": {
        "id": "8uVnca7DdNwp",
        "colab_type": "text"
      },
      "source": [
        "Podemos ver que `range(numero)` corresponde a un rango de números **integer** entre `0` y `numero - 1`. No obstante, la función `range` nos ofrece más posibilidades, veamos varios ejemplos:"
      ]
    },
    {
      "cell_type": "code",
      "metadata": {
        "id": "RMOuUedVdOAh",
        "colab_type": "code",
        "colab": {}
      },
      "source": [
        "print(list(range(1, 6)))"
      ],
      "execution_count": 0,
      "outputs": []
    },
    {
      "cell_type": "code",
      "metadata": {
        "id": "gtsFqru_f0z9",
        "colab_type": "code",
        "colab": {}
      },
      "source": [
        "print(list(range(2, 8, 2)))"
      ],
      "execution_count": 0,
      "outputs": []
    },
    {
      "cell_type": "code",
      "metadata": {
        "id": "NOlqnBVhf50p",
        "colab_type": "code",
        "colab": {}
      },
      "source": [
        "print(list(range(9, 3, -1)))"
      ],
      "execution_count": 0,
      "outputs": []
    },
    {
      "cell_type": "markdown",
      "metadata": {
        "id": "H5b4sTcJdOYH",
        "colab_type": "text"
      },
      "source": [
        "Como ves, también puedes ir al revés! \n",
        "\n",
        "Existe una función muy interesante llamada `enumerate`. Esta función te permite iterar no solamente en una lista, sinó también el los índices de esta lista, como en el ejemplo que sigue:"
      ]
    },
    {
      "cell_type": "code",
      "metadata": {
        "id": "EM1zLN8cdOmc",
        "colab_type": "code",
        "colab": {}
      },
      "source": [
        "precios = [32.5, 45.2, 12.4, 67.9, 344.6]\n",
        "for idx, elem in enumerate(precios):\n",
        "  print(\"Item\", idx, \"cuesta\", elem, \"unidades.\")"
      ],
      "execution_count": 0,
      "outputs": []
    },
    {
      "cell_type": "markdown",
      "metadata": {
        "id": "z54ZjhsidO1m",
        "colab_type": "text"
      },
      "source": [
        "A veces es interesante parar un iterador antes de que este termine (por ejemplo estamos buscando un elemento concreto dentro de una lista y al encontrarlo ya no necesitamos seguir buscando). Para hacer eso, usaremos la instrucción `break`, como en el siguiente ejemplo:"
      ]
    },
    {
      "cell_type": "code",
      "metadata": {
        "id": "j22_jXsRdPJ_",
        "colab_type": "code",
        "colab": {}
      },
      "source": [
        "for i in range(10):\n",
        "  if i > 5:\n",
        "    break\n",
        "  print(i)"
      ],
      "execution_count": 0,
      "outputs": []
    },
    {
      "cell_type": "markdown",
      "metadata": {
        "id": "i93vhh1T9-93",
        "colab_type": "text"
      },
      "source": [
        "Finalmente, fíjate en que podemos tener iteradores dentro de otros iteradores, por ejemplo:"
      ]
    },
    {
      "cell_type": "code",
      "metadata": {
        "id": "8V6xuNFP-NYL",
        "colab_type": "code",
        "colab": {}
      },
      "source": [
        "for i in range(5):\n",
        "  for j in range(4):\n",
        "    print('(' + str(i) + ',' + str(j) + ')')"
      ],
      "execution_count": 0,
      "outputs": []
    },
    {
      "cell_type": "markdown",
      "metadata": {
        "id": "YVxj1s1S-Z9N",
        "colab_type": "text"
      },
      "source": [
        "Veamos un ejemplo más de este concepto con listas:"
      ]
    },
    {
      "cell_type": "code",
      "metadata": {
        "id": "FNmo-i3H-cda",
        "colab_type": "code",
        "colab": {}
      },
      "source": [
        "listas = [[1, 2, 3], [4, 5, 6], [7, 8, 9], [10, 11, 12]]\n",
        "for i, l in enumerate(listas):\n",
        "  print('Mostrando los contenidos de la lista ' + str(i) + '...')\n",
        "  for j in l:\n",
        "    print(j)"
      ],
      "execution_count": 0,
      "outputs": []
    },
    {
      "cell_type": "markdown",
      "metadata": {
        "id": "ogWyVBh9ByWl",
        "colab_type": "text"
      },
      "source": [
        "### **Ejercicios Sesión 6**"
      ]
    },
    {
      "cell_type": "markdown",
      "metadata": {
        "id": "B4c-6KDT8R_y",
        "colab_type": "text"
      },
      "source": [
        "**Ejercicio 1**\n",
        "\n",
        "Aunque los iteradores `while` y `for` tienen una estructura distinta, con ambos se pueden hacer las mismas funciones. Tu objetivo en este ejercicio es \"traducir\" el fragmento de código que sigue, que está basado en una estructura `for`, en uno con estructura `while`.\n",
        "\n",
        "El código con la estructura `for` es el siguiente:"
      ]
    },
    {
      "cell_type": "markdown",
      "metadata": {
        "id": "waON-VYo6g95",
        "colab_type": "text"
      },
      "source": [
        "```\n",
        "a = [1, 2, 3, 4, 5]\n",
        "b = []\n",
        "for i in a:\n",
        "  b.append(i ** 2)\n",
        "print(b)\n",
        "```"
      ]
    },
    {
      "cell_type": "markdown",
      "metadata": {
        "id": "eT0ooJhw62Sh",
        "colab_type": "text"
      },
      "source": [
        "Si ejecutáramos este código, su resultado sería el siguiente\n",
        "\n",
        "```\n",
        "[1, 4, 9, 16, 25]\n",
        "```\n",
        "\n",
        "Ahora complete la celda que sigue tal que se produzca el mismo resultado pero se use una estructura `while` en lugar de una `for`:"
      ]
    },
    {
      "cell_type": "code",
      "metadata": {
        "id": "Bq_7rTho6fPR",
        "colab_type": "code",
        "colab": {}
      },
      "source": [
        "a = [1, 2, 3, 4, 5]\n",
        "b = []\n",
        "\n",
        "# Completa con tu código\n",
        "\n"
      ],
      "execution_count": 0,
      "outputs": []
    },
    {
      "cell_type": "markdown",
      "metadata": {
        "id": "qSH6oU__9eGu",
        "colab_type": "text"
      },
      "source": [
        "**Ejercicio 2**\n",
        "\n",
        "De la misma manera, en este ejercicio vas a \"traducir\" una estructura `while` a una estructura `for`.\n",
        "\n",
        "El código que usa la estructura `while` es el siguiente:"
      ]
    },
    {
      "cell_type": "markdown",
      "metadata": {
        "id": "QQ3lDPSW7XW4",
        "colab_type": "text"
      },
      "source": [
        "```\n",
        "i = 20\n",
        "b = []\n",
        "while i > 1:\n",
        "  b.append(i)\n",
        "  i = i - 2\n",
        "print(b)\n",
        "```"
      ]
    },
    {
      "cell_type": "markdown",
      "metadata": {
        "id": "kMFxi4c578DX",
        "colab_type": "text"
      },
      "source": [
        "Si ejecutaramos este código obtendríamos el siguiente resultado\n",
        "\n",
        "```\n",
        "[20, 18, 16, 14, 12, 10, 8, 6, 4, 2]\n",
        "```\n",
        "\n",
        "Ahora completa la celda que sigue para que se obtenga el mismo resultado pero usando una estructura `for` en vez de una `while`:"
      ]
    },
    {
      "cell_type": "code",
      "metadata": {
        "id": "dJOpBjeo78Vd",
        "colab_type": "code",
        "colab": {}
      },
      "source": [
        "b = []\n",
        "\n",
        "# Completa con tu código\n",
        "\n"
      ],
      "execution_count": 0,
      "outputs": []
    },
    {
      "cell_type": "markdown",
      "metadata": {
        "id": "jiiSX3W4gB8o",
        "colab_type": "text"
      },
      "source": [
        "**Ejercicio 3**\n",
        "\n",
        "En este ejercicio tu tarea es escribir un código que sea capaz de encontrar el máximo en una lista de números llamada `lista`. Debes escribir instrucciones que puedan encontrar ese máximo sea cual sea la lista, y ese valor máximo se debe guardar en una variable. **No puedes usar la función `max()` para ello**."
      ]
    },
    {
      "cell_type": "code",
      "metadata": {
        "id": "7JE8CbuNk6yT",
        "colab_type": "code",
        "colab": {}
      },
      "source": [
        "lista = [1, 5, 9, 3, 2, 5, 0, 8, 3]\n",
        "\n",
        "# Completa con tu código\n",
        "# Guarda el valor máximo en una variable llamada `valor_maximo`\n",
        "\n"
      ],
      "execution_count": 0,
      "outputs": []
    },
    {
      "cell_type": "markdown",
      "metadata": {
        "id": "ULpIQdAE_yAA",
        "colab_type": "text"
      },
      "source": [
        "**Ejercicio 4**\n",
        "\n",
        "En este ejercicio tu objetivo es escribir unas instrucciones de código mediante las cuales se invierta el orden de los elementos de una lista guardada en la variable `lista`. Tu código debe funcionar sea cual sea la lista de entrada y debe guardar la lista invertida en una variable llamada `lista_invertida`."
      ]
    },
    {
      "cell_type": "code",
      "metadata": {
        "id": "ihGQPi1-mFSY",
        "colab_type": "code",
        "colab": {}
      },
      "source": [
        "lista = [1, 2, 3, 4, 5, 6, 7, 8]\n",
        "\n",
        "# Completa con tu código\n",
        "# Guarda la lista invertida en una variable que se llame `lista_invertida`\n",
        "\n"
      ],
      "execution_count": 0,
      "outputs": []
    },
    {
      "cell_type": "markdown",
      "metadata": {
        "id": "XEnwdl_xWayQ",
        "colab_type": "text"
      },
      "source": [
        "**Ejercicio 5**\n",
        "\n",
        "Este ejercicio te ayudará a ver la utilidad de la programación como herramienta matemática. El [Project Euler](https://projecteuler.net) es una web muy interesante que contiene multitud de problemas matemáticos que se resuelven mediante programación. Nosotros haremos el primero de ellos:\n",
        "\n",
        "¿Cuál es la suma de todos los números comprendidos entre 1 y 1000 que son múltiples o bien de 3 o de 5? Elabora un código que te de la respuesta:"
      ]
    },
    {
      "cell_type": "code",
      "metadata": {
        "id": "njKB5tANW_xj",
        "colab_type": "code",
        "colab": {}
      },
      "source": [
        "# Escribe tu código para encontrar la respuesta aquí\n",
        "\n"
      ],
      "execution_count": 0,
      "outputs": []
    },
    {
      "cell_type": "markdown",
      "metadata": {
        "id": "GsxNmW7Tnab2",
        "colab_type": "text"
      },
      "source": [
        "### **Solución a los Ejercicios de la Sesión 5**"
      ]
    },
    {
      "cell_type": "markdown",
      "metadata": {
        "id": "wfycNQ-jpI6F",
        "colab_type": "text"
      },
      "source": [
        "**Ejercicio 1**\n",
        "\n",
        "Seguidamente puedes encontrar 5 variables distintas: `a`, `b`, `c`, `d` y `e`."
      ]
    },
    {
      "cell_type": "markdown",
      "metadata": {
        "id": "23vc06bYdajm",
        "colab_type": "text"
      },
      "source": [
        "```\n",
        "a = 1\n",
        "b = 4.8\n",
        "c = \"String\"\n",
        "d = \"animal\"\n",
        "e = [4, 7, 2, 9, 5, 10, 2]\n",
        "```"
      ]
    },
    {
      "cell_type": "markdown",
      "metadata": {
        "id": "Os8VR8nxpQKJ",
        "colab_type": "text"
      },
      "source": [
        "Completa las siguientes expresiones booleanas con su resultado, o bien `True` o `False`:"
      ]
    },
    {
      "cell_type": "markdown",
      "metadata": {
        "id": "OOHxOO-zdaz6",
        "colab_type": "text"
      },
      "source": [
        "```\n",
        "1. a > 1                  --> False\n",
        "2. d >= c                 --> True\n",
        "3. 6 not in e             --> True\n",
        "4. 1 != 1.0               --> False\n",
        "5. 1 != \"1\"               --> True\n",
        "6. b > e.index(max(e))    --> False\n",
        "7. min(e) > a             --> True\n",
        "8. len(e + e) <= 10       --> False\n",
        "9. c + c > c              --> True\n",
        "10. max(e) in e or False  --> True\n",
        "11. 2**4 == 4**2          --> True\n",
        "12. len(e[1:3]) == 3      --> False\n",
        "```"
      ]
    },
    {
      "cell_type": "markdown",
      "metadata": {
        "id": "sGFcUQaJpqyD",
        "colab_type": "text"
      },
      "source": [
        "**Ejercicio 2**\n",
        "\n",
        "Este ejercicio es idéntico al que viste en la sesión de listas, **esta vez debes resolverlo con operadores `if`**: Las variables `hora_actual` y `minutos_actuales` contienen la hora y los minutos en cierto momento. Por otra parte, tenemos la variable `minutos_suma`, que es una cantidad de minutos que le queremos sumar a la hora actual. Nuestro objetivo es conocer cuál será la nueva hora después de añadir esos minutos. Para ello debes escribir una expresión para `hora_nueva` y `minutos_nuevos`, que contienen la hora y los minutos tras añadir la cantidad de minutos en `minutos_suma`. \n",
        "\n",
        "Por ejemplo, si son las 8:32 (`hora_acutal=8` y `minutos_actuales=32`) y queremos añadir 2 minutos (`minutos_suma=2`), tendríamos la nueva hora como 8:34. Por tanto al mostrar por pantalla `hora_nueva` y `minutos_nuevos` deberíamos ver `8` y `34` respectivamente. \n",
        "\n",
        "**Alerta 1:** Deberías trabajar únicamente con tipos **integer**\n",
        "\n",
        "**Alerta 2:** Cuando los minutos pasan de 59, una nueva hora debe comenzar. Y después de 23:59 viene 00:00.\n",
        "\n",
        "**Alerta 3:** Puedes asumir que `minutos_suma` siempre es menor o igual que 60."
      ]
    },
    {
      "cell_type": "code",
      "metadata": {
        "id": "XWAwWHW1TJul",
        "colab_type": "code",
        "colab": {}
      },
      "source": [
        "hora_actual = 14\n",
        "minutos_actuales = 32\n",
        "minutos_suma = 40\n",
        "\n",
        "# Tu código a partir de aquí\n",
        "minutos_nuevos = minutos_actuales + minutos_suma\n",
        "hora_nueva = hora_actual\n",
        "if minutos_nuevos >= 60:\n",
        "  minutos_nuevos = minutos_nuevos - 60\n",
        "  hora_nueva = hora_nueva + 1\n",
        "if hora_nueva >= 24:\n",
        "  hora_nueva = hora_nueva - 24\n",
        "print(hora_nueva, minutos_nuevos)"
      ],
      "execution_count": 0,
      "outputs": []
    },
    {
      "cell_type": "markdown",
      "metadata": {
        "id": "CyFU9J_FTdOx",
        "colab_type": "text"
      },
      "source": [
        "**Ejercicio 3**\n",
        "\n",
        "En la celda que sigue tienes una lista definida. Esta lista podría ser cualquiera, el objetivo de ejercicio es añadir código tal que si la longitud de la lista es par, el primer elemento de ésta sea eliminado. Por otra parte, si la longitud de la lista es impar, el segundo elemento debe ser el eliminado."
      ]
    },
    {
      "cell_type": "code",
      "metadata": {
        "id": "WN-X49LdTvbk",
        "colab_type": "code",
        "colab": {}
      },
      "source": [
        "lista = [1, 2, 3, 4, 5]\n",
        "\n",
        "# Tu código a partir de aquí\n",
        "if len(lista) % 2 == 0:\n",
        "  del(lista[0])\n",
        "else:\n",
        "  del(lista[1])\n",
        "print(lista)"
      ],
      "execution_count": 0,
      "outputs": []
    },
    {
      "cell_type": "markdown",
      "metadata": {
        "id": "3vkrVRMpT-C2",
        "colab_type": "text"
      },
      "source": [
        "**Ejercicio 4**\n",
        "\n",
        "El objetivo de este ejercicio es determinar si, dada una lista, su valor maximo está repetido o no. Debes completar el código en la celda que sigue para que, sea cuál sea la lista, se muestre por pantalla un mensaje que diga si el máximo esta repetido o no. Por ejemplo, si la lista es `[1, 2, 3, 4]` el máximo (`4`) no está repetido y por tanto debería mostrarse por pantalla: `El máximo no está repetido`. Por otra parte, si por ejemplo la lista es `[1, 2, 3, 3, 1]`, el máximo sí está repetido (`3`) y debe mostrarse por pantalla: `El máximo sí está repetido`."
      ]
    },
    {
      "cell_type": "code",
      "metadata": {
        "id": "gMcGKKyKUuot",
        "colab_type": "code",
        "colab": {}
      },
      "source": [
        "lista = [4, 6, 7, 9, 2, 9, 2, 4]\n",
        "\n",
        "# Tu código a partir de aquí\n",
        "max_lista = max(lista)\n",
        "del(lista[lista.index(max_lista)])\n",
        "if max_lista in lista:\n",
        "  print('El máximo sí está repetido')\n",
        "else:\n",
        "  print('El máximo no está repetido')"
      ],
      "execution_count": 0,
      "outputs": []
    }
  ]
}