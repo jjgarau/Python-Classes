{
  "nbformat": 4,
  "nbformat_minor": 0,
  "metadata": {
    "colab": {
      "name": "7.ipynb",
      "provenance": [],
      "collapsed_sections": [],
      "include_colab_link": true
    },
    "kernelspec": {
      "name": "python3",
      "display_name": "Python 3"
    }
  },
  "cells": [
    {
      "cell_type": "markdown",
      "metadata": {
        "id": "view-in-github",
        "colab_type": "text"
      },
      "source": [
        "<a href=\"https://colab.research.google.com/github/jjgarau/Python-Classes/blob/master/Spanish/notebooks/7.ipynb\" target=\"_parent\"><img src=\"https://colab.research.google.com/assets/colab-badge.svg\" alt=\"Open In Colab\"/></a>"
      ]
    },
    {
      "cell_type": "markdown",
      "metadata": {
        "colab_type": "text",
        "id": "26IHzE7Rd4hz"
      },
      "source": [
        "# **Introducción a Python: Sesión 7**\n",
        "\n",
        "Material creado por Juanjo Garau (garau@mit.edu)"
      ]
    },
    {
      "cell_type": "markdown",
      "metadata": {
        "id": "ogWyVBh9ByWl",
        "colab_type": "text"
      },
      "source": [
        "### **Solución a los Ejercicios de la Sesión 6**"
      ]
    },
    {
      "cell_type": "markdown",
      "metadata": {
        "id": "B4c-6KDT8R_y",
        "colab_type": "text"
      },
      "source": [
        "**Ejercicio 1**\n",
        "\n",
        "Aunque los iteradores `while` y `for` tienen una estructura distinta, con ambos se pueden hacer las mismas funciones. Tu objetivo en este ejercicio es \"traducir\" el fragmento de código que sigue, que está basado en una estructura `for`, en uno con estructura `while`.\n",
        "\n",
        "El código con la estructura `for` es el siguiente:"
      ]
    },
    {
      "cell_type": "markdown",
      "metadata": {
        "id": "waON-VYo6g95",
        "colab_type": "text"
      },
      "source": [
        "```\n",
        "a = [1, 2, 3, 4, 5]\n",
        "b = []\n",
        "for i in a:\n",
        "  b.append(i ** 2)\n",
        "print(b)\n",
        "```"
      ]
    },
    {
      "cell_type": "markdown",
      "metadata": {
        "id": "eT0ooJhw62Sh",
        "colab_type": "text"
      },
      "source": [
        "Si ejecutáramos este código, su resultado sería el siguiente\n",
        "\n",
        "```\n",
        "[1, 4, 9, 16, 25]\n",
        "```\n",
        "\n",
        "Ahora complete la celda que sigue tal que se produzca el mismo resultado pero se use una estructura `while` en lugar de una `for`:"
      ]
    },
    {
      "cell_type": "code",
      "metadata": {
        "id": "Bq_7rTho6fPR",
        "colab_type": "code",
        "colab": {}
      },
      "source": [
        "a = [1, 2, 3, 4, 5]\n",
        "b = []\n",
        "\n",
        "# Completa con tu código\n",
        "i = 0\n",
        "while i < len(a):\n",
        "  b.append(a[i] ** 2)\n",
        "  i = i + 1\n",
        "print(b)"
      ],
      "execution_count": 0,
      "outputs": []
    },
    {
      "cell_type": "markdown",
      "metadata": {
        "id": "qSH6oU__9eGu",
        "colab_type": "text"
      },
      "source": [
        "**Ejercicio 2**\n",
        "\n",
        "De la misma manera, en este ejercicio vas a \"traducir\" una estructura `while` a una estructura `for`.\n",
        "\n",
        "El código que usa la estructura `while` es el siguiente:"
      ]
    },
    {
      "cell_type": "markdown",
      "metadata": {
        "id": "QQ3lDPSW7XW4",
        "colab_type": "text"
      },
      "source": [
        "```\n",
        "i = 20\n",
        "b = []\n",
        "while i > 1:\n",
        "  b.append(i)\n",
        "  i = i - 2\n",
        "print(b)\n",
        "```"
      ]
    },
    {
      "cell_type": "markdown",
      "metadata": {
        "id": "kMFxi4c578DX",
        "colab_type": "text"
      },
      "source": [
        "Si ejecutaramos este código obtendríamos el siguiente resultado\n",
        "\n",
        "```\n",
        "[20, 18, 16, 14, 12, 10, 8, 6, 4, 2]\n",
        "```\n",
        "\n",
        "Ahora completa la celda que sigue para que se obtenga el mismo resultado pero usando una estructura `for` en vez de una `while`:"
      ]
    },
    {
      "cell_type": "code",
      "metadata": {
        "id": "dJOpBjeo78Vd",
        "colab_type": "code",
        "colab": {}
      },
      "source": [
        "b = []\n",
        "\n",
        "# Completa con tu código\n",
        "for i in range(20, 0, -2):\n",
        "  b.append(i)\n",
        "print(b)"
      ],
      "execution_count": 0,
      "outputs": []
    },
    {
      "cell_type": "markdown",
      "metadata": {
        "id": "jiiSX3W4gB8o",
        "colab_type": "text"
      },
      "source": [
        "**Ejercicio 3**\n",
        "\n",
        "En este ejercicio tu tarea es escribir un código que sea capaz de encontrar el máximo en una lista de números llamada `lista`. Debes escribir instrucciones que puedan encontrar ese máximo sea cual sea la lista, y ese valor máximo se debe guardar en una variable. **No puedes usar la función `max()` para ello**."
      ]
    },
    {
      "cell_type": "code",
      "metadata": {
        "id": "7JE8CbuNk6yT",
        "colab_type": "code",
        "colab": {}
      },
      "source": [
        "lista = [1, 5, 9, 3, 2, 5, 0, 8, 3]\n",
        "\n",
        "# Completa con tu código\n",
        "# Guarda el valor máximo en una variable llamada `valor_maximo`\n",
        "valor_maximo = lista[0]\n",
        "for elemento in lista:\n",
        "  if elemento > valor_maximo:\n",
        "    valor_maximo = elemento\n",
        "print(valor_maximo)"
      ],
      "execution_count": 0,
      "outputs": []
    },
    {
      "cell_type": "markdown",
      "metadata": {
        "id": "ULpIQdAE_yAA",
        "colab_type": "text"
      },
      "source": [
        "**Ejercicio 4**\n",
        "\n",
        "En este ejercicio tu objetivo es escribir unas instrucciones de código mediante las cuales se invierta el orden de los elementos de una lista guardada en la variable `lista`. Tu código debe funcionar sea cual sea la lista de entrada y debe guardar la lista invertida en una variable llamada `lista_invertida`."
      ]
    },
    {
      "cell_type": "code",
      "metadata": {
        "id": "ihGQPi1-mFSY",
        "colab_type": "code",
        "colab": {}
      },
      "source": [
        "lista = [1, 2, 3, 4, 5, 6, 7, 8]\n",
        "\n",
        "# Completa con tu código\n",
        "# Guarda la lista invertida en una variable que se llame `lista_invertida`\n",
        "# Forma 1\n",
        "lista_invertida = []\n",
        "for elemento in lista:\n",
        "  lista_invertida = [elemento] + lista_invertida\n",
        "print(lista_invertida)\n",
        "\n",
        "# Forma 2\n",
        "lista_invertida = []\n",
        "for i in range(len(lista)-1, -1, -1):\n",
        "  lista_invertida.append(lista[i])\n",
        "print(lista_invertida)\n",
        "\n",
        "# Forma 3\n",
        "lista_invertida = lista[::-1]\n",
        "print(lista_invertida)"
      ],
      "execution_count": 0,
      "outputs": []
    },
    {
      "cell_type": "markdown",
      "metadata": {
        "id": "XEnwdl_xWayQ",
        "colab_type": "text"
      },
      "source": [
        "**Ejercicio 5**\n",
        "\n",
        "Este ejercicio te ayudará a ver la utilidad de la programación como herramienta matemática. El [Project Euler](https://projecteuler.net) es una web muy interesante que contiene multitud de problemas matemáticos que se resuelven mediante programación. Nosotros haremos el primero de ellos:\n",
        "\n",
        "¿Cuál es la suma de todos los números comprendidos entre 1 y 1000 que son múltiples o bien de 3 o de 5? Elabora un código que te de la respuesta:"
      ]
    },
    {
      "cell_type": "code",
      "metadata": {
        "id": "njKB5tANW_xj",
        "colab_type": "code",
        "colab": {}
      },
      "source": [
        "# Escribe tu código para encontrar la respuesta aquí\n",
        "suma = 0\n",
        "for i in range(1, 1001):\n",
        "  if i % 3 == 0 or i % 5 == 0:\n",
        "    suma = suma + i\n",
        "print(suma)"
      ],
      "execution_count": 0,
      "outputs": []
    }
  ]
}