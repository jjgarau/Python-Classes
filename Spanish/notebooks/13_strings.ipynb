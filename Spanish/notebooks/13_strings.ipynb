{
  "nbformat": 4,
  "nbformat_minor": 0,
  "metadata": {
    "colab": {
      "name": "13 strings.ipynb",
      "provenance": [],
      "collapsed_sections": [],
      "include_colab_link": true
    },
    "kernelspec": {
      "name": "python3",
      "display_name": "Python 3"
    }
  },
  "cells": [
    {
      "cell_type": "markdown",
      "metadata": {
        "id": "view-in-github",
        "colab_type": "text"
      },
      "source": [
        "<a href=\"https://colab.research.google.com/github/jjgarau/Python-Classes/blob/master/Spanish/notebooks/13_strings.ipynb\" target=\"_parent\"><img src=\"https://colab.research.google.com/assets/colab-badge.svg\" alt=\"Open In Colab\"/></a>"
      ]
    },
    {
      "cell_type": "markdown",
      "metadata": {
        "colab_type": "text",
        "id": "26IHzE7Rd4hz"
      },
      "source": [
        "# **Introducción a Python: Sesión 13**\n",
        "\n",
        "Material creado por Juanjo Garau (garau@mit.edu)"
      ]
    },
    {
      "cell_type": "markdown",
      "metadata": {
        "id": "hw2BPNFq3PJf",
        "colab_type": "text"
      },
      "source": [
        "## **Strings**\n",
        "\n",
        "En este *notebook* vas a profundizar en el concepto de **strings**, un tipo de variable que nos permite representar y trabajar con texto. \n",
        "\n",
        "Acuérdate que hay dos formas de definir un **string**:"
      ]
    },
    {
      "cell_type": "code",
      "metadata": {
        "id": "oGvgMwyr5Ycd",
        "colab_type": "code",
        "colab": {}
      },
      "source": [
        "s1 = \"casa\"\n",
        "s2 = 'casa'\n",
        "print(s1)\n",
        "print(s2)\n",
        "print(type(s1))\n",
        "print(type(s2))"
      ],
      "execution_count": 0,
      "outputs": []
    },
    {
      "cell_type": "markdown",
      "metadata": {
        "id": "hlIzRCdL5YxQ",
        "colab_type": "text"
      },
      "source": [
        "La primera de las formas es con comillas `\"` y la segunda es usando apóstrofes `'`. Esto se hace para poder incluir texto con comillas y/o apóstofres en nuestros strings! Mira el siguiente ejemplo:"
      ]
    },
    {
      "cell_type": "code",
      "metadata": {
        "id": "8_YIAuOe5ZA_",
        "colab_type": "code",
        "colab": {}
      },
      "source": [
        "t1 = '\"Este es un texto con comillas\"'\n",
        "print(t1)\n",
        "t2 = \"'Este es un texto que contiene apóstrofes'\"\n",
        "print(t2)"
      ],
      "execution_count": 0,
      "outputs": []
    },
    {
      "cell_type": "markdown",
      "metadata": {
        "id": "ogOQvbWB5ZMZ",
        "colab_type": "text"
      },
      "source": [
        "Así podemos trabajar con ambos carácteres. \n",
        "\n",
        "Podemos convertir cualquier elemento a **string** con la función `str()`:"
      ]
    },
    {
      "cell_type": "code",
      "metadata": {
        "id": "WjA3xC-P5Zc-",
        "colab_type": "code",
        "colab": {}
      },
      "source": [
        "a = 9\n",
        "b = 3e4\n",
        "c = True\n",
        "d = [1, 2, 3]\n",
        "print(str(a))\n",
        "print(str(b))\n",
        "print(str(c))\n",
        "print(str(d))\n",
        "print(type(str(c)))"
      ],
      "execution_count": 0,
      "outputs": []
    },
    {
      "cell_type": "markdown",
      "metadata": {
        "id": "iAnbEm5Z5Zsp",
        "colab_type": "text"
      },
      "source": [
        "Cómo ves, el tipo de todos estos elementos ahora es **string**. \n",
        "\n",
        "Otro concepto que ya vimos es cómo unir strings, mediante el operador `+`:"
      ]
    },
    {
      "cell_type": "code",
      "metadata": {
        "id": "bBOfGZgQ5aFt",
        "colab_type": "code",
        "colab": {}
      },
      "source": [
        "s1 = \"abc\"\n",
        "s2 = \"def\"\n",
        "s3 = \"ghi\"\n",
        "print(s1 + s2 + s3)\n",
        "print(type(s1 + s2 + s3))"
      ],
      "execution_count": 0,
      "outputs": []
    },
    {
      "cell_type": "markdown",
      "metadata": {
        "id": "C3oR3M975aT8",
        "colab_type": "text"
      },
      "source": [
        "Podemos construir strings que ocupen más de una línea definiéndolos con 3 comillas o con 3 apóstrofes al inicio y al final:"
      ]
    },
    {
      "cell_type": "code",
      "metadata": {
        "id": "FLwtCevi7MHV",
        "colab_type": "code",
        "colab": {}
      },
      "source": [
        "s1 = \"\"\"Hola\n",
        "qúe tal?\"\"\"\n",
        "s2 = '''Puedes\n",
        "construir strings\n",
        "que ocupen\n",
        "varias líneas'''\n",
        "print(s1)\n",
        "print(s2)"
      ],
      "execution_count": 0,
      "outputs": []
    },
    {
      "cell_type": "markdown",
      "metadata": {
        "id": "mXXz7-ZT7Mcp",
        "colab_type": "text"
      },
      "source": [
        "Fíjate que con sólo 1 comilla o apóstrofe no funciona, produce un **error**:"
      ]
    },
    {
      "cell_type": "code",
      "metadata": {
        "id": "paOHEt657M5T",
        "colab_type": "code",
        "colab": {}
      },
      "source": [
        "s1 = \"Hola\n",
        "qúe tal?\"\n",
        "s2 = 'Puedes\n",
        "construir strings\n",
        "que ocupen\n",
        "varias líneas'\n",
        "print(s1)\n",
        "print(s2)"
      ],
      "execution_count": 0,
      "outputs": []
    },
    {
      "cell_type": "markdown",
      "metadata": {
        "id": "Je28EI7y7NHe",
        "colab_type": "text"
      },
      "source": [
        "Para generar strings que ocupen varias líneas también podemos usar el carácter especial `\\n`, que significa **salto de línea**. Este carácter se puede usar con sólo un apóstrofe o comillas a cada lado:"
      ]
    },
    {
      "cell_type": "code",
      "metadata": {
        "id": "uWU5n1Ne7NZS",
        "colab_type": "code",
        "colab": {}
      },
      "source": [
        "s1 = \"Esto es un string\\nen dos líneas\"\n",
        "print(s1)"
      ],
      "execution_count": 0,
      "outputs": []
    },
    {
      "cell_type": "markdown",
      "metadata": {
        "id": "msyJgQf17N2M",
        "colab_type": "text"
      },
      "source": [
        "**Algunas funciones útiles**\n",
        "\n",
        "Vamos a ver algunas funciones que realizan operaciones que podríamos necesitar al trabajar con texto. \n",
        "\n",
        "La primera función es `lower()` que convierte un texto a un texto completamente en minúscula:"
      ]
    },
    {
      "cell_type": "code",
      "metadata": {
        "id": "KeCgHMyV7ODX",
        "colab_type": "code",
        "colab": {}
      },
      "source": [
        "s1 = \"AVIÓN\"\n",
        "s2 = \"Me llamo Pedro!\"\n",
        "s3 = \"E570 E5 UN 57R1NG\"\n",
        "print(s1.lower())\n",
        "print(s2.lower())\n",
        "print(s3.lower())"
      ],
      "execution_count": 0,
      "outputs": []
    },
    {
      "cell_type": "markdown",
      "metadata": {
        "id": "jnI2MVQ-8-qL",
        "colab_type": "text"
      },
      "source": [
        "Fíjate que los caracteres que no son letras no se ven afectados por la transformación. De la misma forma, la función `upper()` realiza la misma tarea pero esta vez convirtiendo el texto a mayúscula:"
      ]
    },
    {
      "cell_type": "code",
      "metadata": {
        "id": "bTVi9Ssh8-8p",
        "colab_type": "code",
        "colab": {}
      },
      "source": [
        "s1 = \"televisión\"\n",
        "s2 = \"Me llamo Pedro!\"\n",
        "s3 = \"E570 E5 UN 57R1NG\"\n",
        "print(s1.upper())\n",
        "print(s2.upper())\n",
        "print(s3.upper())"
      ],
      "execution_count": 0,
      "outputs": []
    },
    {
      "cell_type": "markdown",
      "metadata": {
        "id": "G8x-SIsW8_Xm",
        "colab_type": "text"
      },
      "source": [
        "Otra función interesante es la función `replace`, que cambia todos los caracteres de un mismo tipo por otro indicado. Su sintaxis es\n",
        "\n",
        "```\n",
        "s.replace(antiguo, nuevo)\n",
        "```\n",
        "\n",
        "`antiguo` es el carácter que queremos substituir por el carácter `nuevo`. Veamos algunos ejemplos:"
      ]
    },
    {
      "cell_type": "code",
      "metadata": {
        "id": "9oECjQsL8_yM",
        "colab_type": "code",
        "colab": {}
      },
      "source": [
        "s1 = \"La casa naranja\"\n",
        "s2 = s1.replace('a', 'e')\n",
        "print(s1)\n",
        "print(s2)"
      ],
      "execution_count": 0,
      "outputs": []
    },
    {
      "cell_type": "markdown",
      "metadata": {
        "id": "kMZU6PF19Al7",
        "colab_type": "text"
      },
      "source": [
        "Hemos cambiado la letra `a` por la letra `e`! Podemos realizar la misma operación para eliminar símbolos innecesarios, por ejemplo"
      ]
    },
    {
      "cell_type": "code",
      "metadata": {
        "id": "EIqwxtTb-k7e",
        "colab_type": "code",
        "colab": {}
      },
      "source": [
        "s1 = \"Este. es. un. mensaje. con. muchos. puntos.\"\n",
        "s2 = s1.replace('.', '')\n",
        "print(s1)\n",
        "print(s2)"
      ],
      "execution_count": 0,
      "outputs": []
    },
    {
      "cell_type": "markdown",
      "metadata": {
        "id": "e-_geN7r-lMA",
        "colab_type": "text"
      },
      "source": [
        "La función replace también sirve para substituir cadenas de caracteres además de cambiar un único carácter:"
      ]
    },
    {
      "cell_type": "code",
      "metadata": {
        "id": "vtR6j60s-lcb",
        "colab_type": "code",
        "colab": {}
      },
      "source": [
        "s1 = \"Quiero un café con leche, por favor\"\n",
        "s2 = s1.replace('con', 'sin')\n",
        "print(s1)\n",
        "print(s2)"
      ],
      "execution_count": 0,
      "outputs": []
    },
    {
      "cell_type": "markdown",
      "metadata": {
        "id": "SJGNNeaB-lp3",
        "colab_type": "text"
      },
      "source": [
        "Es una operación útil, verdad? Otra operación curiosa es la operación `strip`, que elimina los espacios al principio y al final de un **string**:"
      ]
    },
    {
      "cell_type": "code",
      "metadata": {
        "id": "O1346aEM_ttf",
        "colab_type": "code",
        "colab": {}
      },
      "source": [
        "s1 = \"        Hay un espacio  \"\n",
        "s2 = s1.strip()\n",
        "print(s1)\n",
        "print(s2)"
      ],
      "execution_count": 0,
      "outputs": []
    },
    {
      "cell_type": "markdown",
      "metadata": {
        "id": "3at2NiMe_t9Y",
        "colab_type": "text"
      },
      "source": [
        "Otra función extremadamente útil es la función `split()`, a la que le pasamos un carácter o cadena de caracteres sobre los que hacer una partición de un string. Su sintaxis es la siguiente\n",
        "\n",
        "```\n",
        "s.split(partición)\n",
        "```\n",
        "\n",
        "`partición` es un string que sirve para \"partir\" el string `s`. Lo veremos más claro con un ejemplo:"
      ]
    },
    {
      "cell_type": "code",
      "metadata": {
        "id": "KzAhWRa2_uLn",
        "colab_type": "code",
        "colab": {}
      },
      "source": [
        "s1 = \"Buenos días, buenas tardes\"\n",
        "s2 = s1.split(',')\n",
        "print(s1)\n",
        "print(s2)"
      ],
      "execution_count": 0,
      "outputs": []
    },
    {
      "cell_type": "markdown",
      "metadata": {
        "id": "HHx8jmXb_u3p",
        "colab_type": "text"
      },
      "source": [
        "Voilà! El método `split` hace cortes en los strings y coloca todos los cortes en una lista. \n",
        "\n",
        "Veamos un ejemplo sobre cómo separar una frase por palabras con el método `split`:"
      ]
    },
    {
      "cell_type": "code",
      "metadata": {
        "id": "l1clmCxj_vNl",
        "colab_type": "code",
        "colab": {}
      },
      "source": [
        "s1 = \"El perro pequeño tiene un collar rojo\"\n",
        "s2 = s1.split(' ')\n",
        "print(s1)\n",
        "print(s2)"
      ],
      "execution_count": 0,
      "outputs": []
    },
    {
      "cell_type": "markdown",
      "metadata": {
        "id": "2-rD3p3s_vo3",
        "colab_type": "text"
      },
      "source": [
        "También podemos hacer separaciones por secuencias de caracteres:"
      ]
    },
    {
      "cell_type": "code",
      "metadata": {
        "id": "LxwjLRJn_wE-",
        "colab_type": "code",
        "colab": {}
      },
      "source": [
        "s1 = \"El perro pequeño tiene un collar marrón\"\n",
        "s2 = s1.split('rr')\n",
        "print(s1)\n",
        "print(s2)"
      ],
      "execution_count": 0,
      "outputs": []
    },
    {
      "cell_type": "markdown",
      "metadata": {
        "id": "PfjB_QIXBnPr",
        "colab_type": "text"
      },
      "source": [
        "Como ves, el carácter que usamos para separar el **string** desaparece. \n",
        "\n",
        "**El string como iterable**\n",
        "\n",
        "Como vistes en la sesión de iteradores, un iterable es necesario para poder generar estructuras de iteración. Por ejemplo, las listas y los diccionarios son iterables. **Un string, también**. \n",
        "\n",
        "¿Sobre qué iteramos? Ahora lo verás:"
      ]
    },
    {
      "cell_type": "code",
      "metadata": {
        "id": "r7ZLPXNYBnfs",
        "colab_type": "code",
        "colab": {}
      },
      "source": [
        "s = \"Enchufe\"\n",
        "for c in s:\n",
        "  print(c)"
      ],
      "execution_count": 0,
      "outputs": []
    },
    {
      "cell_type": "markdown",
      "metadata": {
        "id": "ULFm58xNBnv_",
        "colab_type": "text"
      },
      "source": [
        "Exacto! Iteramos sobre cada uno de los caracteres individuales del **string**. Entonces, te preguntarás si existe alguna manera de acceder a ellos como en el caso de las listas o los diccionarios? La respuesta es sí. **Son elementos que usan el mismo mecanismo de acceso que las listas**:"
      ]
    },
    {
      "cell_type": "code",
      "metadata": {
        "id": "qrW0U34cBoCD",
        "colab_type": "code",
        "colab": {}
      },
      "source": [
        "s = \"Cepillo\"\n",
        "print(s)\n",
        "print(s[0])\n",
        "print(s[3])\n",
        "print(s[-1])"
      ],
      "execution_count": 0,
      "outputs": []
    },
    {
      "cell_type": "markdown",
      "metadata": {
        "id": "HpewMXL4BoaE",
        "colab_type": "text"
      },
      "source": [
        "Y también puedes hacer cortes mediante los índices, como hacemos con las listas:"
      ]
    },
    {
      "cell_type": "code",
      "metadata": {
        "id": "Rsn8iOmbBow7",
        "colab_type": "code",
        "colab": {}
      },
      "source": [
        "s = \"Cepillo\"\n",
        "print(s)\n",
        "print(s[2:4])\n",
        "print(s[-5:-1])"
      ],
      "execution_count": 0,
      "outputs": []
    },
    {
      "cell_type": "markdown",
      "metadata": {
        "id": "OFy-KJXtIQH3",
        "colab_type": "text"
      },
      "source": [
        "Y también puedes comprobar la longitud de un **string**:"
      ]
    },
    {
      "cell_type": "code",
      "metadata": {
        "id": "WOtsC9pgIUNr",
        "colab_type": "code",
        "colab": {}
      },
      "source": [
        "s = \"abecedario\"\n",
        "print(len(s))"
      ],
      "execution_count": 0,
      "outputs": []
    },
    {
      "cell_type": "markdown",
      "metadata": {
        "id": "hjn5uZ-RBo-g",
        "colab_type": "text"
      },
      "source": [
        "De la misma manera, al ser iterables, podemos crear estructuras `in` para ver si ciertos elementos están dentro del string:"
      ]
    },
    {
      "cell_type": "code",
      "metadata": {
        "id": "tF4ygJVdEIcN",
        "colab_type": "code",
        "colab": {}
      },
      "source": [
        "print(\"s\" in \"string\")\n",
        "print(\"u\" in \"cesta\")\n",
        "print(\"posa\" in \"mariposa\")\n",
        "print(\"Fan\" in \"fantasma\")"
      ],
      "execution_count": 0,
      "outputs": []
    },
    {
      "cell_type": "markdown",
      "metadata": {
        "id": "ukKonBbKEIqd",
        "colab_type": "text"
      },
      "source": [
        "Recuerda que los caracteres mayúscula y minúscula son distintos!\n",
        "\n",
        "Al ser iterable, también podemos usar la función `find` para encontrar en qué posición del string se encuentran caracteres concretos. Por ejemplo:"
      ]
    },
    {
      "cell_type": "code",
      "metadata": {
        "id": "-0eOvh1AEI7P",
        "colab_type": "code",
        "colab": {}
      },
      "source": [
        "s = \"abcdefghi\"\n",
        "i = s.find('d')\n",
        "print(i)"
      ],
      "execution_count": 0,
      "outputs": []
    },
    {
      "cell_type": "markdown",
      "metadata": {
        "id": "X0fdOIRgFnES",
        "colab_type": "text"
      },
      "source": [
        "O para buscar dónde comienza una secuencia concreta:"
      ]
    },
    {
      "cell_type": "code",
      "metadata": {
        "id": "9_cZ4RYGFnr7",
        "colab_type": "code",
        "colab": {}
      },
      "source": [
        "s = \"abcdefghi\"\n",
        "i = s.find('efgh')\n",
        "print(i)"
      ],
      "execution_count": 0,
      "outputs": []
    },
    {
      "cell_type": "markdown",
      "metadata": {
        "id": "Wx7OmOBREJIH",
        "colab_type": "text"
      },
      "source": [
        "Recuerda que sólo se muestra la posición de la primera ocurrencia en el string:"
      ]
    },
    {
      "cell_type": "code",
      "metadata": {
        "id": "zU4rjmuqEJYi",
        "colab_type": "code",
        "colab": {}
      },
      "source": [
        "s = \"Hola me llamo Marina\"\n",
        "i = s.find('a')\n",
        "print(i)"
      ],
      "execution_count": 0,
      "outputs": []
    },
    {
      "cell_type": "markdown",
      "metadata": {
        "id": "QPLYNZryEJl4",
        "colab_type": "text"
      },
      "source": [
        "Finalmente, la función `count` nos dice cuántas apariciones tiene un carácter o secuencia de caracteres en un string:"
      ]
    },
    {
      "cell_type": "code",
      "metadata": {
        "id": "9_MGA24MGArP",
        "colab_type": "code",
        "colab": {}
      },
      "source": [
        "s = \"El perro blanco juega con el perro marrón\"\n",
        "print(s.count('e'))\n",
        "print(s.count('perro'))"
      ],
      "execution_count": 0,
      "outputs": []
    },
    {
      "cell_type": "markdown",
      "metadata": {
        "id": "NvTZWAQ_GLGD",
        "colab_type": "text"
      },
      "source": [
        "Hay 4 letras `e` (minúscula) y la palabra `perro` aparece 2 veces!"
      ]
    },
    {
      "cell_type": "markdown",
      "metadata": {
        "colab_type": "text",
        "id": "cP5ktc4hF-q3"
      },
      "source": [
        "### **Ejercicios Sesión 13**"
      ]
    },
    {
      "cell_type": "markdown",
      "metadata": {
        "colab_type": "text",
        "id": "UxFueyq2F-q4"
      },
      "source": [
        "**Ejercicio 1**\n",
        "\n",
        "En este ejercicio tu tarea es construir un diccionario a modo de contador. Se proporciona un string `s`, que contiene una frase con todas las letras **minúsculas**. El diccionario debe contener una llave por cada carácter distinto y su valor debe ser el número de veces que aparece en el string. Recuerda que los espacios cuentan como carácter. "
      ]
    },
    {
      "cell_type": "code",
      "metadata": {
        "id": "CgsxHFypIHgu",
        "colab_type": "code",
        "colab": {}
      },
      "source": [
        "s = \"la sala no tiene ventanas\"\n",
        "\n",
        "# Completa con tu código\n",
        "\n",
        "\n"
      ],
      "execution_count": 0,
      "outputs": []
    },
    {
      "cell_type": "markdown",
      "metadata": {
        "id": "6ep7ah8kISRr",
        "colab_type": "text"
      },
      "source": [
        "**Ejercicio 2**\n",
        "\n",
        "En este ejercicio debes realizar la misma tarea que en el ejercicio anterior pero esta vez el string contiene letras **mayúsculas y minúsculas**. Debes construir el diccionario considerando que el número de apariciones no depende de si la letra es mayúscula o minúscula (es decir, `A` y `a` cuentan ambas como una ocurrencia del carácter `a`). Aparte, **no debes incluir el carácter espacio en el diccionario**, lo debes ignorar mientras examines la frase. "
      ]
    },
    {
      "cell_type": "code",
      "metadata": {
        "id": "FAnuYq5ZIq-l",
        "colab_type": "code",
        "colab": {}
      },
      "source": [
        "s = \"La sAla nO Tiene VenTAnas\"\n",
        "\n",
        "# Completa con tu código\n",
        "\n",
        "\n"
      ],
      "execution_count": 0,
      "outputs": []
    },
    {
      "cell_type": "markdown",
      "metadata": {
        "id": "oMh0_uHdI0OF",
        "colab_type": "text"
      },
      "source": [
        "**Ejercicio 3**\n",
        "\n",
        "En este ejercicio debes contar cuántas palabras pertenecientes a una misma frase `s` tienen un número de caracteres igual a `num`:"
      ]
    },
    {
      "cell_type": "code",
      "metadata": {
        "id": "MA_g1IWyJbg3",
        "colab_type": "code",
        "colab": {}
      },
      "source": [
        "s = \"La familia daba un paseo por el parque mientras el perro buscaba su hueso\"\n",
        "num = 5\n",
        "\n",
        "# Completa con tu código\n",
        "\n"
      ],
      "execution_count": 0,
      "outputs": []
    },
    {
      "cell_type": "markdown",
      "metadata": {
        "id": "bZ73jiZyJp2a",
        "colab_type": "text"
      },
      "source": [
        "**Ejercicio 4**\n",
        "\n",
        "En la misma línea que el ejercicio anterior, debes buscar cuántos caracteres tiene cada palabra en una frase y construir un diccionario tal que se cuenten el número de palabras que poseen un número determinado de caracteres. Es decir, cada llave es una longitdud distinta considerada (**integer**) y los valores son el número de palabras de esa longitud (**integer**). "
      ]
    },
    {
      "cell_type": "code",
      "metadata": {
        "id": "QbbzLIcqKdpN",
        "colab_type": "code",
        "colab": {}
      },
      "source": [
        "s = \"La familia daba un paseo por el parque mientras el perro buscaba su hueso\"\n",
        "\n",
        "# Completa con tu código\n",
        "\n"
      ],
      "execution_count": 0,
      "outputs": []
    }
  ]
}