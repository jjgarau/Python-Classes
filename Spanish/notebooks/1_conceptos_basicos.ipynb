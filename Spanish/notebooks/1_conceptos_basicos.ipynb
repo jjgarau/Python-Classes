{
  "nbformat": 4,
  "nbformat_minor": 0,
  "metadata": {
    "colab": {
      "name": "1 conceptos basicos.ipynb",
      "provenance": [],
      "collapsed_sections": [],
      "include_colab_link": true
    },
    "kernelspec": {
      "name": "python3",
      "display_name": "Python 3"
    }
  },
  "cells": [
    {
      "cell_type": "markdown",
      "metadata": {
        "id": "view-in-github",
        "colab_type": "text"
      },
      "source": [
        "<a href=\"https://colab.research.google.com/github/jjgarau/Python-Classes/blob/master/Spanish/notebooks/1_conceptos_basicos.ipynb\" target=\"_parent\"><img src=\"https://colab.research.google.com/assets/colab-badge.svg\" alt=\"Open In Colab\"/></a>"
      ]
    },
    {
      "cell_type": "markdown",
      "metadata": {
        "id": "34ZI9Fc9tuK1",
        "colab_type": "text"
      },
      "source": [
        "# **Introducción a Python**"
      ]
    },
    {
      "cell_type": "markdown",
      "metadata": {
        "id": "hw2BPNFq3PJf",
        "colab_type": "text"
      },
      "source": [
        "## **Conceptos básicos**"
      ]
    },
    {
      "cell_type": "markdown",
      "metadata": {
        "id": "ztZRxxEBEDUx",
        "colab_type": "text"
      },
      "source": [
        "Este *notebook* te va a guiar a través de los básicos del lenguaje Python, uno de los lenguajes de programación más usados en el mundo! Vamos a comezar: Hola, mundo! \n",
        "\n",
        "Para usar este *notebook*, debes ir haciendo click sobre la parte izquierda de las celdas de color grisáceo, donde aparecerá un icono con el símbolo de *play*. Para poder ejecutar la primera celda, el navegador te pedirá que guardes una copia del *notebook* en tu cuenta de Google Drive, hazlo para poder editarlo luego en tu sesión privada y hacer tus pruebas. \n",
        "\n",
        "Si en algún momento quieres reiniciar el *notebook* debes hacer dos cosas:\n",
        "\n",
        "* Runtime --> Restart runtime\n",
        "* Edit --> Clear all outputs\n",
        "\n",
        "Empecemos con la primera instrucción, dale al play en la siguiente celda!"
      ]
    },
    {
      "cell_type": "code",
      "metadata": {
        "id": "pEB0n2euEeuX",
        "colab_type": "code",
        "colab": {}
      },
      "source": [
        "print(\"Hola, mundo!\")"
      ],
      "execution_count": 0,
      "outputs": []
    },
    {
      "cell_type": "markdown",
      "metadata": {
        "id": "ZtBMDZrnElFD",
        "colab_type": "text"
      },
      "source": [
        "El comando `print` te permite mostrar lo que quieras por pantalla. Lo único que debes hacer es introducir aquello que quieras mostrar entre comillas `\"` o apóstrofes `'`. Quieres hacer tú una prueba?"
      ]
    },
    {
      "cell_type": "code",
      "metadata": {
        "id": "DNqVyCyxEwA1",
        "colab_type": "code",
        "colab": {}
      },
      "source": [
        "# Escribe lo que quieras mostrar por pantalla aquí, no te olvides de añadir las comillas!\n",
        "print()"
      ],
      "execution_count": 0,
      "outputs": []
    },
    {
      "cell_type": "markdown",
      "metadata": {
        "id": "tW0hcEp6FHZi",
        "colab_type": "text"
      },
      "source": [
        "Muy bien! Puedes insertar comentarios en un código usando el símbolo del hashtag `#`. Los comentarios son frases escritas que sirven para explicar cosas sobre el código, por ejemplo aclarar qué hacen unas instrucciones antes de ejecutarlas. Los comentarios no se tienen en cuenta a la hora de ejecutar el código, simplemente sirven para ayudar al programador al escribir el código. \n",
        "\n",
        "Fíjate en la siguiente celda."
      ]
    },
    {
      "cell_type": "code",
      "metadata": {
        "id": "FG4KQcrnFWXS",
        "colab_type": "code",
        "colab": {}
      },
      "source": [
        "print(\"Hola!\")\n",
        "# print(\"¿Cómo estás?\")\n",
        "print(\"¿Qué hora es?\")"
      ],
      "execution_count": 0,
      "outputs": []
    },
    {
      "cell_type": "markdown",
      "metadata": {
        "id": "Thsws302GB50",
        "colab_type": "text"
      },
      "source": [
        "Sólo ha mostrado por pantalla aquellas instrucciones que **no** están comentadas! \n",
        "\n",
        "Ahora ya sabes cómo escribir comentarios en Python! Te recomiendo que los uses, son muy útiles!\n",
        "\n",
        "Una vez hemos visto cómo mostrar frases por pantalla, vayamos a mostrar números y hacer algunas operaciones matemáticas. Ejecuta la siguiente celda."
      ]
    },
    {
      "cell_type": "code",
      "metadata": {
        "id": "ikhCa3u-GUBF",
        "colab_type": "code",
        "colab": {}
      },
      "source": [
        "print(10)\n",
        "print(3.14)\n",
        "print(-8)\n",
        "print(1e3)"
      ],
      "execution_count": 0,
      "outputs": []
    },
    {
      "cell_type": "markdown",
      "metadata": {
        "id": "88FYt_UtGeW3",
        "colab_type": "text"
      },
      "source": [
        "Bien! Se pueden escribir todo tipo de números: naturales, negativos, con decimal, en notación científica...\n",
        "\n",
        "Fíjate que no necesitas añadir comillas `\"` o apóstrofes `'` para mostrar números por pantalla. Hagamos un experimento:"
      ]
    },
    {
      "cell_type": "code",
      "metadata": {
        "id": "kmrCnAzdGmGF",
        "colab_type": "code",
        "colab": {}
      },
      "source": [
        "print(\"2\")\n",
        "print(2)"
      ],
      "execution_count": 0,
      "outputs": []
    },
    {
      "cell_type": "markdown",
      "metadata": {
        "id": "hkSDiVi3G2k8",
        "colab_type": "text"
      },
      "source": [
        "Parece ser que ambas opciones muestran el número 2, pero es exactamente lo mismo? Veamos..."
      ]
    },
    {
      "cell_type": "code",
      "metadata": {
        "id": "V6-9QcgaGuNr",
        "colab_type": "code",
        "colab": {}
      },
      "source": [
        "print(type(\"2\"))\n",
        "print(type(2))"
      ],
      "execution_count": 0,
      "outputs": []
    },
    {
      "cell_type": "markdown",
      "metadata": {
        "id": "9sHjA1aTG5AH",
        "colab_type": "text"
      },
      "source": [
        "Aparentemente no! El primer 2, en base a la forma en la que está escrito (comillas), se conoce como **string**, o secuencia de carácteres. El segundo 2 se llama **integer**, cuando se escribe sin comillas.\n",
        "\n",
        "Para ser más específicos, un **string** es una secuencia de carácteres entre comillas o apóstrofes. Esto son ejemplos de strings:\n",
        "\n",
        "* `\"Hola\"`\n",
        "* `'Soy un string`'\n",
        "* `\"1241234\"`\n",
        "\n",
        "Por otro lado, un **integer** es un número entero sin parte decimal, ya sea positivo o negativo. Por ejemplo:\n",
        "\n",
        "* `12`\n",
        "* `-98`\n",
        "* `1241234`\n",
        "\n",
        "Veámos unos cuantos ejemplos de string más:"
      ]
    },
    {
      "cell_type": "code",
      "metadata": {
        "id": "eTXg-fEGHXBI",
        "colab_type": "code",
        "colab": {}
      },
      "source": [
        "print(\"Esto es un string\")\n",
        "print(\"Esto también es un string\")\n",
        "print(\"50Y UN 57R1NG\")\n",
        "print(\"()(=!¿?{[]}=\")\n",
        "print('Los strings también se pueden definir con apóstrofes')"
      ],
      "execution_count": 0,
      "outputs": []
    },
    {
      "cell_type": "markdown",
      "metadata": {
        "id": "Jh9nI8ibH9qz",
        "colab_type": "text"
      },
      "source": [
        "Antes hemos usado lo que se conoce como la función `type()`, que nos dice de qué tipo es algún elemento en concreto. Vamos a volver a usarla para comprobar si los tipos de los números que antes hemos visto son los mismos o no:"
      ]
    },
    {
      "cell_type": "code",
      "metadata": {
        "id": "pvugUtX-H-AL",
        "colab_type": "code",
        "colab": {}
      },
      "source": [
        "print(type(10))\n",
        "print(type(3.14))\n",
        "print(type(-8))\n",
        "print(type(1e3))"
      ],
      "execution_count": 0,
      "outputs": []
    },
    {
      "cell_type": "markdown",
      "metadata": {
        "id": "xkUFO2oPH-fA",
        "colab_type": "text"
      },
      "source": [
        "No lo son! Dos de ellos (`10` y `-8`) son **integers** mientras que los otros dos (`3.14` y `1e3`) son lo que se conoce como **float**. Un número float es un número que tiene una parte decimal, aunque el número en si sea entero:"
      ]
    },
    {
      "cell_type": "code",
      "metadata": {
        "id": "28rlx79rH-yv",
        "colab_type": "code",
        "colab": {}
      },
      "source": [
        "print(type(7))\n",
        "print(type(7.0))"
      ],
      "execution_count": 0,
      "outputs": []
    },
    {
      "cell_type": "markdown",
      "metadata": {
        "id": "JWYcZSo_JbhV",
        "colab_type": "text"
      },
      "source": [
        "Fíjate que aunque el `7.0` sea un número entero, tiene un punto decimal y por tanto se considera **float**, a diferencia del `7`, que se considera **integer**.\n",
        "\n",
        "Ahora vamos a ver que Python es una calculadora muy útil! Vamos a hacer algunas operaciones matemáticas:"
      ]
    },
    {
      "cell_type": "code",
      "metadata": {
        "id": "Yo7Ie92tJcAP",
        "colab_type": "code",
        "colab": {}
      },
      "source": [
        "print(1 + 2)\n",
        "print(9 - 3)\n",
        "print(6 * 3)\n",
        "print(15 / 3)"
      ],
      "execution_count": 0,
      "outputs": []
    },
    {
      "cell_type": "markdown",
      "metadata": {
        "id": "58Zq_N0_JcXZ",
        "colab_type": "text"
      },
      "source": [
        "¿Qué observas del tipo de los resultados de estas operaciones? Sólo hemos usado números del tipo **integer**, ¿son los resultados del tipo **ineger** también?\n",
        "\n",
        "Veámos qué ocurre si usamos números del tipo **float**:"
      ]
    },
    {
      "cell_type": "code",
      "metadata": {
        "id": "LzZrE-05Jcov",
        "colab_type": "code",
        "colab": {}
      },
      "source": [
        "print(1 + 2.0)\n",
        "print(9.0 - 3.0)\n",
        "print(4.5 * 2.3)\n",
        "print(13 / 7)"
      ],
      "execution_count": 0,
      "outputs": []
    },
    {
      "cell_type": "markdown",
      "metadata": {
        "id": "YhNC-0e4Krrg",
        "colab_type": "text"
      },
      "source": [
        "El resultado son floats! Es muy importante que aprendas los tipos de elementos que existen en Python, más adelante verás que existen ciertas instrucciones que sólo funcionan con strings, o con integers, o con floats.\n",
        "\n",
        "¿Qué pasa si tenemos un **float** y queremos transformarlo en un **integer**? Lo podemos hacer mediante la instrucción `int()`."
      ]
    },
    {
      "cell_type": "code",
      "metadata": {
        "id": "IYv_9iRFKr9C",
        "colab_type": "code",
        "colab": {}
      },
      "source": [
        "print(3.0)\n",
        "print(type(3.0))\n",
        "print(int(3.0))\n",
        "print(type(int(3.0)))"
      ],
      "execution_count": 0,
      "outputs": []
    },
    {
      "cell_type": "markdown",
      "metadata": {
        "id": "sgm_NeQlKsT3",
        "colab_type": "text"
      },
      "source": [
        "Si añades `int()` a cualquier número **float** lo transformas en un **integer**. ¿Qué crees que pasa si hacemos lo mismo con un número que tenga parte decimal distinta de cero?\n"
      ]
    },
    {
      "cell_type": "code",
      "metadata": {
        "id": "5T1c2trMKsm3",
        "colab_type": "code",
        "colab": {}
      },
      "source": [
        "print(int(3.4))\n",
        "print(int(7.6))"
      ],
      "execution_count": 0,
      "outputs": []
    },
    {
      "cell_type": "markdown",
      "metadata": {
        "id": "ctl22sbhLYsG",
        "colab_type": "text"
      },
      "source": [
        "Los números pierden la parte decimal! En caso de que queramos hacer que el resultado de una división sea **integer** lo podemos hacer de la siguiente forma:\n"
      ]
    },
    {
      "cell_type": "code",
      "metadata": {
        "id": "Z5mdgwvcUM7v",
        "colab_type": "code",
        "colab": {}
      },
      "source": [
        "print(int(7 / 2))\n",
        "print(type(int(7 / 2)))"
      ],
      "execution_count": 0,
      "outputs": []
    },
    {
      "cell_type": "markdown",
      "metadata": {
        "id": "JXbTl8BBUSzG",
        "colab_type": "text"
      },
      "source": [
        "No obstante, existe otra forma de hacerlo, mediante la división con doble barra `//`:"
      ]
    },
    {
      "cell_type": "code",
      "metadata": {
        "id": "RtVWcxZ_LZHU",
        "colab_type": "code",
        "colab": {}
      },
      "source": [
        "print(7 // 2)\n",
        "print(type(7 // 2))"
      ],
      "execution_count": 0,
      "outputs": []
    },
    {
      "cell_type": "markdown",
      "metadata": {
        "id": "666-9CssLZaD",
        "colab_type": "text"
      },
      "source": [
        "Ambas formas son correctas, puedes aprender las dos o aprender aquella que te resulte más fácil o intuitiva. \n",
        "\n",
        "Antes de finalizar el *notebook* vayamos a ver dos operadores más. Empecemos con el operador *módulo* `%`, que devuelve el residuo de la división entera entre dos números. "
      ]
    },
    {
      "cell_type": "code",
      "metadata": {
        "id": "IPR4FdLiLZx2",
        "colab_type": "code",
        "colab": {}
      },
      "source": [
        "print(7 % 2)\n",
        "print(8 % 2)\n",
        "print(234 % 34)"
      ],
      "execution_count": 0,
      "outputs": []
    },
    {
      "cell_type": "markdown",
      "metadata": {
        "id": "GFZPhg3WMMOl",
        "colab_type": "text"
      },
      "source": [
        "Así pues, vemos que al hacer `7 % 2` el resultado es `1`, ya que 7 dividido entre 2 resulta en 3 más 1 en el residuo. \n",
        "\n",
        "¿Se te ocurre alguna aplicación en la que esta operación pueda ser útil? Si no, no te preocupes, veremos alguna más adelante!\n",
        "\n",
        "Ahora vayamos a ver cómo realizar potencias en Python."
      ]
    },
    {
      "cell_type": "code",
      "metadata": {
        "id": "j0UT5hxpMMll",
        "colab_type": "code",
        "colab": {}
      },
      "source": [
        "print(2 ** 4)\n",
        "print(5 ** 4)\n",
        "print(7 ** 8)"
      ],
      "execution_count": 0,
      "outputs": []
    },
    {
      "cell_type": "markdown",
      "metadata": {
        "id": "frmCo3hGMM6W",
        "colab_type": "text"
      },
      "source": [
        "¿Fácil, no? \n",
        "\n",
        "Hasta este momento has visto operaciones con números, con **integers** y **floats**. ¿Crees que podemos hacer alguna operación con strings? Veamos..."
      ]
    },
    {
      "cell_type": "code",
      "metadata": {
        "id": "KOZiK4oQMNMq",
        "colab_type": "code",
        "colab": {}
      },
      "source": [
        "print(\"a\" + \"b\")\n",
        "print(type(\"a\" + \"b\"))"
      ],
      "execution_count": 0,
      "outputs": []
    },
    {
      "cell_type": "markdown",
      "metadata": {
        "id": "z5toJnGINIY4",
        "colab_type": "text"
      },
      "source": [
        "Sí! Si sumamos dos **strings** simplemente los estamos concatenando. ¿Crees que los podemos \"restar\"?"
      ]
    },
    {
      "cell_type": "code",
      "metadata": {
        "id": "oi4atbmFNJ-J",
        "colab_type": "code",
        "colab": {}
      },
      "source": [
        "print(\"a\" - \"b\")"
      ],
      "execution_count": 0,
      "outputs": []
    },
    {
      "cell_type": "markdown",
      "metadata": {
        "id": "Z6PPxBYINmbU",
        "colab_type": "text"
      },
      "source": [
        "Desafortunadamente no podemos :( Los strings sólo pueden ser \"sumados\". \n",
        "\n",
        "Espero que este primer *notebook* te haya servido para entender algunos conceptos básicos sobre los elementos esenciales en Python, especialmente conocer los tipos **integer**, **float** y **string**. En el próximo *notebook* conocerás qué son las **variables** y para que sirven. \n",
        "\n",
        "A continuación te propongo unos ejercicios para que compruebes lo que has aprendido."
      ]
    },
    {
      "cell_type": "markdown",
      "metadata": {
        "id": "ncMXab3nWCTx",
        "colab_type": "text"
      },
      "source": [
        "### **Ejercicios**"
      ]
    },
    {
      "cell_type": "markdown",
      "metadata": {
        "id": "LEPx715LWb1D",
        "colab_type": "text"
      },
      "source": [
        "**Ejercicio 1**\n",
        "\n",
        "¿Puedes adivinar de qué tipo es cada elemento en la siguiente lista? Acuérdate que has visto 3 tipos de elementos distintos: **integer**, **float** y **string**.\n",
        "\n",
        "```\n",
        "a) \"i_am_an_integer\"\n",
        "b) 3.54\n",
        "c) 7 // 8\n",
        "d) 1\n",
        "e) \"hola\" + \"adiós\"\n",
        "f) 4e4\n",
        "g) 12 / 3\n",
        "```\n",
        "\n",
        "Completa la siguiente celda con el tipo de cada variable (por ejemplo, `a --> integer`)"
      ]
    },
    {
      "cell_type": "markdown",
      "metadata": {
        "id": "SHWC0YH_XMbV",
        "colab_type": "text"
      },
      "source": [
        "```\n",
        "# A completar\n",
        "a --> \n",
        "b --> \n",
        "c --> \n",
        "d --> \n",
        "e --> \n",
        "f --> \n",
        "g --> \n",
        "```"
      ]
    },
    {
      "cell_type": "markdown",
      "metadata": {
        "id": "9cAjc1EtXfOW",
        "colab_type": "text"
      },
      "source": [
        "**Ejercicio 2**\n",
        "\n",
        "Escribe las siguientes operaciones en Python:\n",
        "\n",
        "**1. Multiplica 3 por 2 y súmale 1**"
      ]
    },
    {
      "cell_type": "code",
      "metadata": {
        "id": "iGmheU4lXeZ7",
        "colab_type": "code",
        "colab": {}
      },
      "source": [
        "# Escribe tu operación aquí\n"
      ],
      "execution_count": 0,
      "outputs": []
    },
    {
      "cell_type": "markdown",
      "metadata": {
        "id": "mVmgT4NIXwIf",
        "colab_type": "text"
      },
      "source": [
        "**2. Calcula la división entre 1234321 y 1111**"
      ]
    },
    {
      "cell_type": "code",
      "metadata": {
        "id": "jkKaBf3XWBYG",
        "colab_type": "code",
        "colab": {}
      },
      "source": [
        "# Escribe tu operación aquí\n"
      ],
      "execution_count": 0,
      "outputs": []
    },
    {
      "cell_type": "markdown",
      "metadata": {
        "id": "j4nwFS2UYC6j",
        "colab_type": "text"
      },
      "source": [
        "**3. Calcula cuánto es 9 al cubo**"
      ]
    },
    {
      "cell_type": "code",
      "metadata": {
        "id": "iaOC1Pf-YIPU",
        "colab_type": "code",
        "colab": {}
      },
      "source": [
        "# Escribe tu operación aquí\n"
      ],
      "execution_count": 0,
      "outputs": []
    },
    {
      "cell_type": "markdown",
      "metadata": {
        "id": "YG0_dwTKYPMr",
        "colab_type": "text"
      },
      "source": [
        "**4. Calcula la parte entera y el residuo (por separado) que resulta al dividir 26 entre 4**"
      ]
    },
    {
      "cell_type": "code",
      "metadata": {
        "id": "5g2Q2gjTYdB1",
        "colab_type": "code",
        "colab": {}
      },
      "source": [
        "# Escribe tus operaciones aquí\n",
        "\n"
      ],
      "execution_count": 0,
      "outputs": []
    },
    {
      "cell_type": "markdown",
      "metadata": {
        "id": "KxQBEibqYgdc",
        "colab_type": "text"
      },
      "source": [
        "**5. Escribe la frase \"Me llamo .....\" a partir de las palabras que la componen. Pon tu nombre en vez de los puntos.**\n",
        "\n",
        "Pista: Un string que corresponda a un espacio se escribe así `\" \"`."
      ]
    },
    {
      "cell_type": "code",
      "metadata": {
        "id": "708LUghAY0Ls",
        "colab_type": "code",
        "colab": {}
      },
      "source": [
        "# Escribe tu operación aquí\n"
      ],
      "execution_count": 0,
      "outputs": []
    }
  ]
}