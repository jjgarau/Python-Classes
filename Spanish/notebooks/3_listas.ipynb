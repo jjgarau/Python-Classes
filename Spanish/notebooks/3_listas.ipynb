{
  "nbformat": 4,
  "nbformat_minor": 0,
  "metadata": {
    "colab": {
      "name": "3 listas.ipynb",
      "provenance": [],
      "collapsed_sections": [],
      "include_colab_link": true
    },
    "kernelspec": {
      "name": "python3",
      "display_name": "Python 3"
    }
  },
  "cells": [
    {
      "cell_type": "markdown",
      "metadata": {
        "id": "view-in-github",
        "colab_type": "text"
      },
      "source": [
        "<a href=\"https://colab.research.google.com/github/jjgarau/Python-Classes/blob/master/Spanish/notebooks/3_listas.ipynb\" target=\"_parent\"><img src=\"https://colab.research.google.com/assets/colab-badge.svg\" alt=\"Open In Colab\"/></a>"
      ]
    },
    {
      "cell_type": "markdown",
      "metadata": {
        "colab_type": "text",
        "id": "26IHzE7Rd4hz"
      },
      "source": [
        "# **Introducción a Python: Sesión 3**\n",
        "\n",
        "Material creado por Juanjo Garau (garau@mit.edu)"
      ]
    },
    {
      "cell_type": "markdown",
      "metadata": {
        "id": "VvOQ1HxOx9Kq",
        "colab_type": "text"
      },
      "source": [
        "## **Listas**\n",
        "\n",
        "Las variables son útiles, pero a veces necesitamos controlar muchas unidades de información a la vez. Imagina que quisieramos controlar la temperatura media diraria de cada estado en los EEUU, usando variables. ¿Crees que es cómodo escribir\n",
        "\n",
        "```\n",
        "print(temperatura_alabama)\n",
        "print(temperatura_alaska)\n",
        "print(temperatura_arizona)\n",
        "...\n",
        "```\n",
        "? ¡Claro que no! Las **listas** son un elemento de Python que nos ayudan a controlar mútliples unidades de información simultáneamente, por ejemplo"
      ]
    },
    {
      "cell_type": "code",
      "metadata": {
        "id": "c3WWIWTVwAB1",
        "colab_type": "code",
        "colab": {}
      },
      "source": [
        "mi_lista = [1, 2, 3, 4, 5, 6, 7, 8, 9, 10]\n",
        "print(mi_lista)\n",
        "print(type(mi_lista))"
      ],
      "execution_count": 0,
      "outputs": []
    },
    {
      "cell_type": "markdown",
      "metadata": {
        "id": "f2oqAs7tw_9b",
        "colab_type": "text"
      },
      "source": [
        "Todo lo que está definido entre *brackets* `[]` y separado por comas es parte de una **lista**. Podemos guardar distintos tipos de información en una lista"
      ]
    },
    {
      "cell_type": "code",
      "metadata": {
        "id": "B6txs_oAxAQz",
        "colab_type": "code",
        "colab": {}
      },
      "source": [
        "lista_de_la_compra = [\"manzanas\", \"cebollas\", \"arroz\", \"chocolate\"]\n",
        "temperaturas_de_la_semana = [23.4, 20.0, 21.1, 25.5, 26.7, 20.0, 23.9]\n",
        "informacion_aleatoria = [4, \"frío\", 9.0, 4*5, \"café\"]\n",
        "es_fin_de_semana = [False, False, False, False, False, True, True] "
      ],
      "execution_count": 0,
      "outputs": []
    },
    {
      "cell_type": "markdown",
      "metadata": {
        "id": "RF0ouPobxApu",
        "colab_type": "text"
      },
      "source": [
        "Date cuenta del cambio en la lista `informacion_aleatoria`"
      ]
    },
    {
      "cell_type": "code",
      "metadata": {
        "id": "oWHZjcVbxA8d",
        "colab_type": "code",
        "colab": {}
      },
      "source": [
        "print(informacion_aleatoria)"
      ],
      "execution_count": 0,
      "outputs": []
    },
    {
      "cell_type": "markdown",
      "metadata": {
        "id": "BQe3elBfxBMM",
        "colab_type": "text"
      },
      "source": [
        "Como ves, puedes definir elementos de las **listas** como operaciones (por ejemplo `4*5`), de la misma forma que puedes definir **variables** como operaciones entre otras variables. Realmente, puedes imaginar que cada elemento dentro de una lista es una variable. A partir de ahí, uno de los atributos más importantes de una lista es su **longitud**, a la que accedemos mediante la función `len()`:"
      ]
    },
    {
      "cell_type": "code",
      "metadata": {
        "id": "3LTwiFEMxBuA",
        "colab_type": "code",
        "colab": {}
      },
      "source": [
        "print(len(lista_de_la_compra))\n",
        "print(len(informacion_aleatoria))\n",
        "print(type(len(informacion_aleatoria)))"
      ],
      "execution_count": 0,
      "outputs": []
    },
    {
      "cell_type": "markdown",
      "metadata": {
        "id": "DjQW6D-w0ILg",
        "colab_type": "text"
      },
      "source": [
        "La función `len()` devuelve el número de elementos dentro de una lista, en forma de **integer**. A su vez, podemos crear una lista vacía de las siguientes formas:"
      ]
    },
    {
      "cell_type": "code",
      "metadata": {
        "id": "4Rq2ud5K0IdM",
        "colab_type": "code",
        "colab": {}
      },
      "source": [
        "soy_una_lista_vacia = []\n",
        "yo_tambien_soy_una_lista_vacia = list()\n",
        "print(len(soy_una_lista_vacia))\n",
        "print(len(yo_tambien_soy_una_lista_vacia))"
      ],
      "execution_count": 0,
      "outputs": []
    },
    {
      "cell_type": "markdown",
      "metadata": {
        "id": "rP_KOGID0Izv",
        "colab_type": "text"
      },
      "source": [
        "Luego podemos añadir elementos a las listas usando la función `append()`, así como en el siguiente ejemplo:"
      ]
    },
    {
      "cell_type": "code",
      "metadata": {
        "id": "a2j4q_TK0JKQ",
        "colab_type": "code",
        "colab": {}
      },
      "source": [
        "soy_una_lista_vacia.append(1)\n",
        "print(soy_una_lista_vacia)\n",
        "soy_una_lista_vacia.append(2)\n",
        "print(soy_una_lista_vacia)"
      ],
      "execution_count": 0,
      "outputs": []
    },
    {
      "cell_type": "markdown",
      "metadata": {
        "id": "pJybbxfV0Jxm",
        "colab_type": "text"
      },
      "source": [
        "Dato curioso: puedes guardar listas dentro de listas (y listas dentro de listas dentro de listas...). A eso se le llaman *nested lists*"
      ]
    },
    {
      "cell_type": "code",
      "metadata": {
        "id": "oJ43V-dg0KHv",
        "colab_type": "code",
        "colab": {}
      },
      "source": [
        "soy_una_nested_list = [[1, 2, 3], [4, 5, 6]]\n",
        "yo_tambien_soy_una_nested_list = [\"a\", \"b\", [\"c\", \"d\", \"e\"], \"f\"]"
      ],
      "execution_count": 0,
      "outputs": []
    },
    {
      "cell_type": "markdown",
      "metadata": {
        "id": "8wWqOX--AQsh",
        "colab_type": "text"
      },
      "source": [
        "Has visto que puedes mostrar una lista entera por pantalla con el comando `print()`, pero qué pasa cuando necesitas la información de un elemento específico de la lista? Por ejemplo, tengo la lista con la temperatura media en cada estado de EEUU pero sólo me interesa el estado de California. Eso se puede hacer fácilmente con los *brackets* `[]`, así como vemos en el siguiente ejemplo:"
      ]
    },
    {
      "cell_type": "code",
      "metadata": {
        "id": "exfo9n-6AQ-H",
        "colab_type": "code",
        "colab": {}
      },
      "source": [
        "lst = ['a', 'b', 'c', 'd', 'e', 'f']\n",
        "print(lst)\n",
        "print(lst[0])\n",
        "print(lst[3])\n",
        "print(lst[-1])\n",
        "print(lst[-3])"
      ],
      "execution_count": 0,
      "outputs": []
    },
    {
      "cell_type": "markdown",
      "metadata": {
        "id": "IcXH4veuAROL",
        "colab_type": "text"
      },
      "source": [
        "Como puedes ver, los elementos en una lista se enumeran del `0` a la longitud de la lista menos uno ( por ejemplo, si la lista tiene longitud 10 el primer elemento tiene el índice `0` mientras que el último elemento tiene el índice `9`). Si quieres acceder al último elemento de una lista puedes hacerlo con el índice `-1` (luego el penúltimo elemento tiene el índice `-2`, el antepenúltimo el índice `-3`, etc). Por tanto cada elemento en una lista puede ser accedido usando dos índices distintos, uno positivo y otro negativo. \n",
        "\n",
        "Usando estos índices podemos hacer cortes a una lista y obtener sublistas:"
      ]
    },
    {
      "cell_type": "code",
      "metadata": {
        "id": "QhnQuu7DARfx",
        "colab_type": "code",
        "colab": {}
      },
      "source": [
        "sublist1 = lst[0:3]\n",
        "sublist2 = lst[:3]\n",
        "sublist3 = lst[3:5]\n",
        "sublist4 = lst[:-1]\n",
        "sublist5 = lst[-5:-2]\n",
        "sublist6 = lst[3:]"
      ],
      "execution_count": 0,
      "outputs": []
    },
    {
      "cell_type": "markdown",
      "metadata": {
        "id": "cDCdAtVOARtR",
        "colab_type": "text"
      },
      "source": [
        "¿Qué crees que contiene cada una de las sublistas? Veamos..."
      ]
    },
    {
      "cell_type": "code",
      "metadata": {
        "id": "te_nbsg3CTy_",
        "colab_type": "code",
        "colab": {}
      },
      "source": [
        "print(sublist1)\n",
        "print(sublist2)\n",
        "print(sublist3)\n",
        "print(sublist4)\n",
        "print(sublist5)\n",
        "print(sublist6)"
      ],
      "execution_count": 0,
      "outputs": []
    },
    {
      "cell_type": "markdown",
      "metadata": {
        "id": "2KGRH_v5CUfD",
        "colab_type": "text"
      },
      "source": [
        "Si tienes una lista *nested* puedes acceder a elementos individuales usando doble *bracket* `[][]`, como en el siguiente ejemplo:"
      ]
    },
    {
      "cell_type": "code",
      "metadata": {
        "id": "Wy5bN8ijCUu1",
        "colab_type": "code",
        "colab": {}
      },
      "source": [
        "nested_list = [[1, 2, 3], [4, 5, 6]]\n",
        "print(nested_list[0][1])\n",
        "print(nested_list[-1][-1])\n",
        "print(nested_list[1][2])"
      ],
      "execution_count": 0,
      "outputs": []
    },
    {
      "cell_type": "markdown",
      "metadata": {
        "id": "FujX96BYCVF5",
        "colab_type": "text"
      },
      "source": [
        "Los índices también nos sirven para modificar el contenido de una lista, como si le cambiaramos los valores a variables"
      ]
    },
    {
      "cell_type": "code",
      "metadata": {
        "id": "YqRVx165CVV4",
        "colab_type": "code",
        "colab": {}
      },
      "source": [
        "mi_lista = [1, 2, 3, 4, 5, 6, 7, 8]\n",
        "print(mi_lista)\n",
        "mi_lista[2] = 67\n",
        "mi_lista[5] = 102\n",
        "print(mi_lista)"
      ],
      "execution_count": 0,
      "outputs": []
    },
    {
      "cell_type": "markdown",
      "metadata": {
        "id": "VwQMQWZPCVty",
        "colab_type": "text"
      },
      "source": [
        "O también puedes escoger eliminar ciertos elementos dentro de las listas, usando la función `del()`, como en el siguiente ejemplo:"
      ]
    },
    {
      "cell_type": "code",
      "metadata": {
        "id": "roJfNx9rCV_S",
        "colab_type": "code",
        "colab": {}
      },
      "source": [
        "print(\"La longitud inicial de la lista es\", len(mi_lista))\n",
        "print(mi_lista)\n",
        "del(mi_lista[0])\n",
        "print(mi_lista)\n",
        "del(mi_lista[-1])\n",
        "print(mi_lista)\n",
        "print(\"La longitud final de la lista es\", len(mi_lista))"
      ],
      "execution_count": 0,
      "outputs": []
    },
    {
      "cell_type": "markdown",
      "metadata": {
        "id": "96l2fxlHDS98",
        "colab_type": "text"
      },
      "source": [
        "Cuando trabajamos con listas, uno de los errores más comunes es no copiar las listas correctamente. Veamos por qué es importante copiar una lista correctamente:"
      ]
    },
    {
      "cell_type": "code",
      "metadata": {
        "id": "_njCo9nrDTOb",
        "colab_type": "code",
        "colab": {}
      },
      "source": [
        "numeros = [1, 2, 3, 4, 5]\n",
        "numeros2 = numeros\n",
        "print(numeros)\n",
        "print(numeros2)"
      ],
      "execution_count": 0,
      "outputs": []
    },
    {
      "cell_type": "markdown",
      "metadata": {
        "id": "_enzehH0DTn6",
        "colab_type": "text"
      },
      "source": [
        "Hasta aquí todo bien, parece ser que la lista `numeros` se ha copiado correctamente a `numeros2`, ahora podemos realizar cambios a `numeros` sin preocuparnos por perder la información original, ya que la tenemos guardada en `numeros2`, ¿no? Veamos..."
      ]
    },
    {
      "cell_type": "code",
      "metadata": {
        "id": "MeBh6uqkDT73",
        "colab_type": "code",
        "colab": {}
      },
      "source": [
        "print(numeros)\n",
        "print(numeros2)\n",
        "numeros[2] = 1000\n",
        "print(numeros)"
      ],
      "execution_count": 0,
      "outputs": []
    },
    {
      "cell_type": "markdown",
      "metadata": {
        "id": "l8qJev3fDUSY",
        "colab_type": "text"
      },
      "source": [
        "Perfecto, hemos cambiado el `3` por un `1000`. Pero ahora recuerdo que necesitaba ese 3, por suerte he realizado una copia de la lista original en `numeros2`"
      ]
    },
    {
      "cell_type": "code",
      "metadata": {
        "id": "ZxkhEXfmEcqW",
        "colab_type": "code",
        "colab": {}
      },
      "source": [
        "print(numeros[2])"
      ],
      "execution_count": 0,
      "outputs": []
    },
    {
      "cell_type": "markdown",
      "metadata": {
        "id": "CDrx6A8EEdAo",
        "colab_type": "text"
      },
      "source": [
        "¿Cómo? Probemos de nuevo"
      ]
    },
    {
      "cell_type": "code",
      "metadata": {
        "id": "xx2UF5M7EddR",
        "colab_type": "code",
        "colab": {}
      },
      "source": [
        "print(numeros2)\n",
        "print(numeros)"
      ],
      "execution_count": 0,
      "outputs": []
    },
    {
      "cell_type": "markdown",
      "metadata": {
        "id": "ijW1Zez7Ed4X",
        "colab_type": "text"
      },
      "source": [
        "Como ves, no hemos hecho una copia de la lista sino hacer que la misma lista sea \"llamada\" por dos aliases distintos, `numeros` y `numeros2`. La forma correcta de copiar una lista es añadiendo `[:]` justo después de la expresión que hemos usado para copiar:"
      ]
    },
    {
      "cell_type": "code",
      "metadata": {
        "id": "T9cqu8RLEwZU",
        "colab_type": "code",
        "colab": {}
      },
      "source": [
        "# Podemos copiar correctamente una lista añadiendo [:] al final de la expresión\n",
        "numeros3 = numeros2[:]\n",
        "print(numeros2)\n",
        "print(numeros3)\n",
        "numeros2[2] = 45.6\n",
        "print(numeros2)\n",
        "print(numeros3)"
      ],
      "execution_count": 0,
      "outputs": []
    },
    {
      "cell_type": "markdown",
      "metadata": {
        "id": "zg5UiuT3xqth",
        "colab_type": "text"
      },
      "source": [
        "Veamos algunas funcionalidades interesantes que podemos hacer con listas. Por ejemplo, podemos comprobar si una lista contiene un elemento específico o no:"
      ]
    },
    {
      "cell_type": "code",
      "metadata": {
        "id": "uYLpmmqYxrDV",
        "colab_type": "code",
        "colab": {}
      },
      "source": [
        "mi_lista = [1, 2, 3, 4, 5]\n",
        "a = 4 in mi_lista\n",
        "print(a)"
      ],
      "execution_count": 0,
      "outputs": []
    },
    {
      "cell_type": "markdown",
      "metadata": {
        "id": "WS58lzyKxre4",
        "colab_type": "text"
      },
      "source": [
        "La variable `a` se ha convertido en una variable **booleana** (`True` o `False`) en base a si `mi_lista` contiene el número `4` o no. Como sí lo contiene, la variable `a` es `True` (verdadero). \n",
        "\n",
        "Podemos comprobar si elementos están dentro de nuestras listas mediante la variable booleana. Como ves, para ello tenemos que usar el operador `in`. Veamos más ejemplos:"
      ]
    },
    {
      "cell_type": "code",
      "metadata": {
        "id": "oico1cjyxrvF",
        "colab_type": "code",
        "colab": {}
      },
      "source": [
        "lista_de_la_compra = ['cebollas', 'pasta', 'salsa', 'pan']\n",
        "print('pasta' in lista_de_la_compra)\n",
        "print('chocolate' in lista_de_la_compra)"
      ],
      "execution_count": 0,
      "outputs": []
    },
    {
      "cell_type": "markdown",
      "metadata": {
        "id": "69USLcYFxr-f",
        "colab_type": "text"
      },
      "source": [
        "Si añadimos el operador `not` delante de el operador `in` obtendremos el resultado opuesto:"
      ]
    },
    {
      "cell_type": "code",
      "metadata": {
        "id": "kU5Q40GTxsPG",
        "colab_type": "code",
        "colab": {}
      },
      "source": [
        "print('pasta' not in lista_de_la_compra)\n",
        "print('chocolate' not in lista_de_la_compra)"
      ],
      "execution_count": 0,
      "outputs": []
    },
    {
      "cell_type": "markdown",
      "metadata": {
        "id": "VH9p1lJlyyO0",
        "colab_type": "text"
      },
      "source": [
        "Básicamente, añadir el operadot `not` delante de cualquier variable o expresión **booleana** hace que ésta se vuelva en lo opuesto. Por tanto, `not True` se convierte en `False` y `not False` se convierte en `True`, tiene sentido, ¿no?"
      ]
    },
    {
      "cell_type": "code",
      "metadata": {
        "id": "CKYQJNKDyzb7",
        "colab_type": "code",
        "colab": {}
      },
      "source": [
        "print(not True)\n",
        "print(not False)"
      ],
      "execution_count": 0,
      "outputs": []
    },
    {
      "cell_type": "markdown",
      "metadata": {
        "id": "l0VaCaJEyzzS",
        "colab_type": "text"
      },
      "source": [
        "Otra cosa que podemos hacer con listas es fusionarlas, por ejemplo:"
      ]
    },
    {
      "cell_type": "code",
      "metadata": {
        "id": "wXWM6n4IzRHX",
        "colab_type": "code",
        "colab": {}
      },
      "source": [
        "list1 = [1, 2, 3]\n",
        "list2 = [4, 5, 6]\n",
        "list3 = list1 + list2\n",
        "print(list1)\n",
        "print(list2)\n",
        "print(list3)"
      ],
      "execution_count": 0,
      "outputs": []
    },
    {
      "cell_type": "markdown",
      "metadata": {
        "id": "3AXHwJfBzvf8",
        "colab_type": "text"
      },
      "source": [
        "También podemos encontrar el mínimo y máximo de los elementos de una lista mediante las funciones `min()` y `max()`:"
      ]
    },
    {
      "cell_type": "code",
      "metadata": {
        "id": "Qrksprn9zvvK",
        "colab_type": "code",
        "colab": {}
      },
      "source": [
        "mi_lista = [1, 2, 3, 4, 5, 6, 7, 8, 9, 10]\n",
        "print(min(mi_lista))\n",
        "print(max(mi_lista))"
      ],
      "execution_count": 0,
      "outputs": []
    },
    {
      "cell_type": "markdown",
      "metadata": {
        "id": "sdRuLDMuzwNy",
        "colab_type": "text"
      },
      "source": [
        "Veamos qué pasa cuando usamos los mismos operadores en una lista que contiene exclusivamente **strings**:"
      ]
    },
    {
      "cell_type": "code",
      "metadata": {
        "id": "CJIcPNaL0geO",
        "colab_type": "code",
        "colab": {}
      },
      "source": [
        "lista_con_strings = ['asombroso', 'ballena', 'candado', 'dragon']\n",
        "print(min(lista_con_strings))\n",
        "print(max(lista_con_strings))"
      ],
      "execution_count": 0,
      "outputs": []
    },
    {
      "cell_type": "markdown",
      "metadata": {
        "id": "Yp7J7jOI0gus",
        "colab_type": "text"
      },
      "source": [
        "Básicamente, la función `min()` va a devolver aquel string que sea primero en orden alfabético (el que aparecería primero en el diccionario) y la función `max()` devolverá el elemento que sea último en orden alfabético (el que aparecería último en el diccionario). \n",
        "\n",
        "Otra cosa que podemos hacer con listas es localizar la posición de elementos específicos dentro de ellas. Para ello usaremos la función `index()` de la siguiente manera:"
      ]
    },
    {
      "cell_type": "code",
      "metadata": {
        "id": "zx13sX8O1pS3",
        "colab_type": "code",
        "colab": {}
      },
      "source": [
        "meses = ['enero', 'febrero', 'marzo', 'abril', 'mayo', 'junio', 'julio', 'agosto', 'setiembre', 'octubre', 'noviembre', 'diciembre']\n",
        "print(meses.index('marzo'))"
      ],
      "execution_count": 0,
      "outputs": []
    },
    {
      "cell_type": "markdown",
      "metadata": {
        "id": "rnb7cZkv1prX",
        "colab_type": "text"
      },
      "source": [
        "La función `index()` devuelve la posición del elemento que se especifica en su interior (acuérdate que el primer elemento tiene el índice 0). Si ese elemento no está en la lista, la función lanzará un error de ejecución y lo tendremos que corregir.\n",
        "\n",
        "Si combinamos la función `index()` con las funciones `max()` y `min()` podemos localizar de forma fácil dónde están los máximos y mínimos de una lista:"
      ]
    },
    {
      "cell_type": "code",
      "metadata": {
        "id": "0S9dyGU117Ny",
        "colab_type": "code",
        "colab": {}
      },
      "source": [
        "numeros = [23, 456, 56, 23, 987, 24, 67, 2, 567, 34]\n",
        "print(min(numeros))\n",
        "print(numeros.index(min(numeros)))\n",
        "print(max(numeros))\n",
        "print(numeros.index(max(numeros)))"
      ],
      "execution_count": 0,
      "outputs": []
    },
    {
      "cell_type": "markdown",
      "metadata": {
        "id": "MnnVlsJK17oR",
        "colab_type": "text"
      },
      "source": [
        "Esto es muy útil cuando las listas contienen miles o millones de elementos! Una cosa que hay que tener en cuenta es qué pasa cuando el elemento que estamos buscando aparece más de una vez en la lista:"
      ]
    },
    {
      "cell_type": "code",
      "metadata": {
        "id": "bH_PKFz-2L4i",
        "colab_type": "code",
        "colab": {}
      },
      "source": [
        "numeros2 = [4, 5, 7, 3, 8, 10, 3, 6]\n",
        "print(min(numeros2))\n",
        "print(numeros2.index(min(numeros2)))"
      ],
      "execution_count": 0,
      "outputs": []
    },
    {
      "cell_type": "markdown",
      "metadata": {
        "id": "SFNQed7s2MJI",
        "colab_type": "text"
      },
      "source": [
        "La función `index()` devolverá la posición de la primera aparición de ese elemento dentro de la lista. Lo mismo pasa cuando usamos la función `del()` (eliminar) en una lista con elementos repetidos:"
      ]
    },
    {
      "cell_type": "code",
      "metadata": {
        "id": "BKzdxrV-6BHs",
        "colab_type": "code",
        "colab": {}
      },
      "source": [
        "del(numeros2[numeros2.index(min(numeros2))])\n",
        "print(numeros2)"
      ],
      "execution_count": 0,
      "outputs": []
    },
    {
      "cell_type": "markdown",
      "metadata": {
        "id": "ugg5_Z5e6BeF",
        "colab_type": "text"
      },
      "source": [
        "Este es el fin del tutorial de **listas** en Python, puedes encontrar más información sobre listas en Python [aquí](https://www.w3schools.com/python/python_lists.asp). "
      ]
    },
    {
      "cell_type": "markdown",
      "metadata": {
        "id": "GsxNmW7Tnab2",
        "colab_type": "text"
      },
      "source": [
        "### **Ejercicios Sesión 3**"
      ]
    },
    {
      "cell_type": "markdown",
      "metadata": {
        "id": "4w0MEfYlnycE",
        "colab_type": "text"
      },
      "source": [
        "Una cosa útil para estos ejercicios son el uso de paréntesis en Python. Si añadimos paréntesis en Python, éstos actúan de la misma forma que lo hacen en las operaciones matemáticas, nos dicen qué operaciones se deberían llevar a cabo primero. Veamos algunos ejemplos:"
      ]
    },
    {
      "cell_type": "code",
      "metadata": {
        "id": "X4XxO7reVYNS",
        "colab_type": "code",
        "colab": {}
      },
      "source": [
        "a = (7 + 1) / 2\n",
        "b = (4 - 2) % 1\n",
        "c = ((4 % 3) + 4) // 3\n",
        "print(a)\n",
        "print(b)\n",
        "print(c)"
      ],
      "execution_count": 0,
      "outputs": []
    },
    {
      "cell_type": "markdown",
      "metadata": {
        "id": "26CAnV85oMX1",
        "colab_type": "text"
      },
      "source": [
        "**Ejercicio 1**\n",
        "\n",
        "En este ejercicio debes completar la celda de código tal que corrijas lo siguiente. La variable `nested_list` contiene una lista *nested* con el siguiente formato\n",
        "\n",
        "```\n",
        "[[['a', 'b'], ['c', 'd']], ['e', 'f']]\n",
        "```\n",
        "\n",
        "Tu objetivo es crear la variable `single_list`, que debe guardar una lista, creada a partir de `nested_list` con el siguiente formato:\n",
        "\n",
        "```\n",
        "['a', 'b', 'c', 'd', 'e', 'f']\n",
        "```\n",
        "\n",
        "Hay varias formas correctas de hacer este ejercicio."
      ]
    },
    {
      "cell_type": "code",
      "metadata": {
        "id": "SSfnPEi2ovOo",
        "colab_type": "code",
        "colab": {}
      },
      "source": [
        "nested_list = [[['a', 'b'], ['c', 'd']], ['e', 'f']]\n",
        "# Tu código a partir de aquí\n"
      ],
      "execution_count": 0,
      "outputs": []
    },
    {
      "cell_type": "markdown",
      "metadata": {
        "id": "dwisOhyIo3gC",
        "colab_type": "text"
      },
      "source": [
        "**Ejercicio 2**\n",
        "\n",
        "En este ejercicio tienes la lista `numeros`. Tu objetivo es crear dos listas llamadas `sublista1` y `sublista2` que contengan la primera y la segunda mitad de la lista `numeros`. \n",
        "\n",
        "Esto lo debes hacer haciendo cortes a la lista original. Pista: tendrás que usar la función `len()`."
      ]
    },
    {
      "cell_type": "code",
      "metadata": {
        "id": "G33i40MhpS9-",
        "colab_type": "code",
        "colab": {}
      },
      "source": [
        "numeros = [1, 2, 3, 4, 5, 6]\n",
        "# Tu código a partir de aquí\n",
        "\n"
      ],
      "execution_count": 0,
      "outputs": []
    },
    {
      "cell_type": "markdown",
      "metadata": {
        "id": "mdbUiR0GpcxL",
        "colab_type": "text"
      },
      "source": [
        "Luego puedes hacer pruebas cambiando la lista `numeros` por listas distintas."
      ]
    },
    {
      "cell_type": "markdown",
      "metadata": {
        "id": "sGFcUQaJpqyD",
        "colab_type": "text"
      },
      "source": [
        "**Ejercicio 3**\n",
        "\n",
        "Este ejercicio es de repaso de lo que ya has visto. Las variables `hora_actual` y `minutos_actuales` contienen la hora y los minutos en cierto momento. Por otra parte, tenemos la variable `minutos_suma`, que es una cantidad de minutos que le queremos sumar a la hora actual. Nuestro objetivo es conocer cuál será la nueva hora después de añadir esos minutos. Para ello debes escribir una expresión para `hora_nueva` y `minutos_nuevos`, que contienen la hora y los minutos tras añadir la cantidad de minutos en `minutos_suma`. \n",
        "\n",
        "Por ejemplo, si son las 8:32 (`hora_acutal=8` y `minutos_actuales=32`) y queremos añadir 2 minutos (`minutos_suma=2`), tendríamos la nueva hora como 8:34. Por tanto al mostrar por pantalla `hora_nueva` y `minutos_nuevos` deberíamos ver `8` y `34` respectivamente. \n",
        "\n",
        "**Alerta 1:** Deberías trabajar únicamente con tipos **integer**\n",
        "\n",
        "**Alerta 2:** Cuando los minutos pasan de 59, una nueva hora debe comenzar. Y después de 23:59 viene 00:00."
      ]
    },
    {
      "cell_type": "code",
      "metadata": {
        "id": "JBlvDKjBriUO",
        "colab_type": "code",
        "colab": {}
      },
      "source": [
        "hora_actual = 14\n",
        "minutos_actuales = 32\n",
        "minutos_suma = 40\n",
        "\n",
        "# Tu código a partir de aquí\n",
        "hora_nueva = # Completa\n",
        "minutos_nuevos = # Completa"
      ],
      "execution_count": 0,
      "outputs": []
    },
    {
      "cell_type": "markdown",
      "metadata": {
        "id": "MgsQeNJ5rxSg",
        "colab_type": "text"
      },
      "source": [
        "Haz pruebas con varios valores para `hora_actual`, `minutos_actuales` y `minutos_suma`. Debes comprobar que tu código funciona para cualquier caso!"
      ]
    },
    {
      "cell_type": "markdown",
      "metadata": {
        "id": "Yo7y5ekRMpcn",
        "colab_type": "text"
      },
      "source": [
        "### **Solución a los Ejercicios de la Sesión 2**"
      ]
    },
    {
      "cell_type": "markdown",
      "metadata": {
        "id": "BnqT__W_MszJ",
        "colab_type": "text"
      },
      "source": [
        "**Ejercicio 1**\n",
        "\n",
        "En este primer ejercicio hay 10 variables que han sido inicializadas de alguna forma. Debes responder cuál será el resultado de mostrar por pantalla cada una de estas variables (por ejemplo, si `a = 1` entonces `print(a) --> 1`)\n",
        "\n",
        "```\n",
        "a = 12 // 8\n",
        "b = int(4.8)\n",
        "c = 2 ** 3\n",
        "d = 10 % 7\n",
        "e = True + True + True\n",
        "f = True * False * True\n",
        "g = float(\"3.4\")\n",
        "h = str(c) + \"8\"  # Ojo! En este caso c equivale a la variable c\n",
        "i = 5 + 3.0\n",
        "j = float(int(5.6) - int(2.3))\n",
        "```\n",
        "\n",
        "Completa la siguiente celda con el resultado que generaría la instrucción `print()` para cada una de las variables. "
      ]
    },
    {
      "cell_type": "markdown",
      "metadata": {
        "id": "lqkXDifd8TiR",
        "colab_type": "text"
      },
      "source": [
        "\n",
        "```\n",
        "# Completa\n",
        "print(a) --> 1\n",
        "print(b) --> 4\n",
        "print(c) --> 8\n",
        "print(d) --> 3\n",
        "print(e) --> 3\n",
        "print(f) --> 0\n",
        "print(g) --> 3.4\n",
        "print(h) --> \"88\"\n",
        "print(i) --> 8.0\n",
        "print(j) --> 3.0\n",
        "```"
      ]
    },
    {
      "cell_type": "markdown",
      "metadata": {
        "id": "1mamRPMqb2HQ",
        "colab_type": "text"
      },
      "source": [
        "**Ejercicio 2**\n",
        "\n",
        "La variable `temp_A` representa la temperatura de la ciudad A. Sabemos que en cualquier momento, la temperatura de la ciudad B es siempre 5 grados menor que la de la ciudad A. Tu objetivo es completar la celda de código para determinar la expresión de `temp_B` (la variable que representa la temperatura de la ciudad B) y añadir dos instrucciones `print()` en las que se muestre las temperaturas de cada ciudad. Por ejemplo:\n",
        "\n",
        "\n",
        "Si `temp_A` es `21.5`, entonces la celda, al ejecutarse, debe mostrar por pantalla:\n",
        "\n",
        "```\n",
        "\"La temperatura de la ciudad A es 21.5 grados\"\n",
        "\"La temperatura de la ciudad B es 16.5 grados\"\n",
        "```\n",
        "\n",
        "Ahora es tu turno de completar la celda!"
      ]
    },
    {
      "cell_type": "code",
      "metadata": {
        "id": "qhAijxJGdIq_",
        "colab_type": "code",
        "colab": {}
      },
      "source": [
        "temp_A = 21.5\n",
        "\n",
        "# A partir de aquí escribe tu código\n",
        "\n",
        "temp_B = temp_A - 5\n",
        "print(\"La temperatura de la ciudad A es\", temp_A, \"grados\")\n",
        "print(\"La temperatura de la ciudad B es\", temp_B, \"grados\")"
      ],
      "execution_count": 0,
      "outputs": []
    },
    {
      "cell_type": "markdown",
      "metadata": {
        "id": "UICfqarSdUo3",
        "colab_type": "text"
      },
      "source": [
        "Puedes probar tu código con distintos valores para `temp_A` y ver lo que pasa!"
      ]
    },
    {
      "cell_type": "markdown",
      "metadata": {
        "id": "VkgX5OqCsZjf",
        "colab_type": "text"
      },
      "source": [
        "**Ejercicio 3**\n",
        "\n",
        "En este ejercicio resolverás el siguiente problema: hay un camión que realiza viajes entre una granja con naranjos y una ciudad cercana. El camión puede cargar un total de `capacidad` de naranjas (aquí `capacidad` representa una variable que guarda un número). Cierto día, el número de naranjas que se recogen es `num_naranjas`. Queremos calcular cuántos viajes completos el camión debe realizar entre la granja y la ciudad (un viaje completo es un viaje en el que el camión no puede cargar más naranjas) y cuántas naranjas quedan en la granja cuando el camión finaliza su último viaje completo.\n",
        "\n",
        "Completa la celda de código que viene a continuación en la que se inicializan las variables `capacidad` y `num_naranjas`. Debes crear 2 variables adicionales llamadas `num_viajes_completos` y `naranjas_granja`, que representan el número total de viajes completos y el número de naranjas que quedan en la granja. **Todas las variables en este ejercicio deben ser del tipo `integer`**."
      ]
    },
    {
      "cell_type": "code",
      "metadata": {
        "id": "LSsECukVtrqC",
        "colab_type": "code",
        "colab": {}
      },
      "source": [
        "capacidad = 15\n",
        "num_naranjas = 50\n",
        "\n",
        "# A partir de aquí tu código \n",
        "# Añade las variables num_viajes_completos y naranjas_granja (en función de las variables ya creadas)\n",
        "\n",
        "num_viajes_completos = num_naranjas // capacidad   # También sirve int(num_naranjas / capacidad)\n",
        "naranjas_granja = num_naranjas % capacidad\n",
        "\n",
        "print(num_viajes_completos)\n",
        "print(naranjas_granja) "
      ],
      "execution_count": 0,
      "outputs": []
    },
    {
      "cell_type": "markdown",
      "metadata": {
        "id": "eKNn30gtuLXt",
        "colab_type": "text"
      },
      "source": [
        "Prueba a ver qué pasa si cambias los valores de `capacidad` y `num_naranjas`!"
      ]
    },
    {
      "cell_type": "markdown",
      "metadata": {
        "id": "4kuLi1_uqh47",
        "colab_type": "text"
      },
      "source": [
        "**Ejercicio 4**\n",
        "\n",
        "Las variables `a`, `b` y `c` contienen los números 1, 2 y 3, respectivamente. ¿Podrías hacer que se intercambiaran los números entre ellas? Debes completar la celda de código que viene a continuación y añadir líneas de código para conseguir que `b` valga 1, `c` valga 2 y finalmente `a` valga 3. Para ello **no** puedes volver a asignar los números a las variables, el objetivo es que tu código funcione para valores distintos que no sean 1, 2 y 3. *Pista*: si haces `a = b`, `a` tomará el valor 2.\n",
        "\n",
        "Al final de la celda añadimos una instrucción `print()` para comprobar el resultado. Si está bien deberías ver lo siguiente: `3 1 2`."
      ]
    },
    {
      "cell_type": "code",
      "metadata": {
        "id": "HQg3OnKhrnrb",
        "colab_type": "code",
        "colab": {}
      },
      "source": [
        "a = 1\n",
        "b = 2\n",
        "c = 3\n",
        "\n",
        "# A partir de aquí escribe tu código\n",
        "variable_auxiliar = a\n",
        "a = c \n",
        "c = b\n",
        "b = variable_auxiliar\n",
        "\n",
        "# Instrucción print (no añadas nada más a partir de aquí)\n",
        "print(a, b, c)"
      ],
      "execution_count": 0,
      "outputs": []
    }
  ]
}