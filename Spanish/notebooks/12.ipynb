{
  "nbformat": 4,
  "nbformat_minor": 0,
  "metadata": {
    "colab": {
      "name": "12.ipynb",
      "provenance": [],
      "collapsed_sections": [],
      "include_colab_link": true
    },
    "kernelspec": {
      "name": "python3",
      "display_name": "Python 3"
    }
  },
  "cells": [
    {
      "cell_type": "markdown",
      "metadata": {
        "id": "view-in-github",
        "colab_type": "text"
      },
      "source": [
        "<a href=\"https://colab.research.google.com/github/jjgarau/Python-Classes/blob/master/Spanish/notebooks/12.ipynb\" target=\"_parent\"><img src=\"https://colab.research.google.com/assets/colab-badge.svg\" alt=\"Open In Colab\"/></a>"
      ]
    },
    {
      "cell_type": "markdown",
      "metadata": {
        "colab_type": "text",
        "id": "26IHzE7Rd4hz"
      },
      "source": [
        "# **Introducción a Python: Sesión 12**\n",
        "\n",
        "Material creado por Juanjo Garau (garau@mit.edu)"
      ]
    },
    {
      "cell_type": "markdown",
      "metadata": {
        "colab_type": "text",
        "id": "cP5ktc4hF-q3"
      },
      "source": [
        "### **Solución a los Ejercicios de la Sesión 11**"
      ]
    },
    {
      "cell_type": "markdown",
      "metadata": {
        "colab_type": "text",
        "id": "UxFueyq2F-q4"
      },
      "source": [
        "**Ejercicio 1**\n",
        "\n",
        "El diccionario `d` contiene diferentes productos como llaves y sus precios como valores. Completa la celda que sigue para que se vayan mostrando uno a uno cada producto con su precio de la siguiente forma:\n",
        "\n",
        "```\n",
        "El precio del producto .... es ....\n",
        "```\n",
        "\n",
        "Completa la celda y haz pruebas para distintos diccionarios."
      ]
    },
    {
      "cell_type": "code",
      "metadata": {
        "id": "CgsxHFypIHgu",
        "colab_type": "code",
        "colab": {}
      },
      "source": [
        "d = {'nevera': 300, 'horno': 250, 'microondas': 50}\n",
        "\n",
        "# Completa con tu código\n",
        "for k, v in d.items():\n",
        "  print('El precio del producto', k, 'es', v)"
      ],
      "execution_count": 0,
      "outputs": []
    },
    {
      "cell_type": "markdown",
      "metadata": {
        "id": "6ep7ah8kISRr",
        "colab_type": "text"
      },
      "source": [
        "**Ejercicio 2**\n",
        "\n",
        "En la celda que sigue hay dos listas llamadas `lista_llaves` y `lista_valores`. Tu tarea es construir un diccionario a partir de estas dos listas. Los elementos en las listas están ordenados, es decir, la el primer elemento de `lista_llaves` es la llave del primer elemento en `lista_valores`."
      ]
    },
    {
      "cell_type": "code",
      "metadata": {
        "id": "FAnuYq5ZIq-l",
        "colab_type": "code",
        "colab": {}
      },
      "source": [
        "lista_llaves = [3, 9, 12, 56, 90, 101, 234]\n",
        "lista_valores = [4.55, 23.44, 2.23, 6.75, 4.69, 34.53, 35.23]\n",
        "\n",
        "# Completa con tu código\n",
        "d = {}\n",
        "for i in range(len(lista_llaves)):\n",
        "  d[lista_llaves[i]] = lista_valores[i]\n",
        "print(d)"
      ],
      "execution_count": 0,
      "outputs": []
    },
    {
      "cell_type": "markdown",
      "metadata": {
        "id": "oMh0_uHdI0OF",
        "colab_type": "text"
      },
      "source": [
        "**Ejercicio 3**\n",
        "\n",
        "Tu objetivo en este ejercicio es escribir un código para generar un diccionario que sirva como contador. A partir de la lista `l` debes construir un diccionario que cuente cuántas veces aparece cada elemento distinto en la lista. Las llaves deben ser cada uno de los elementos únicos y los valores el número de veces que aparece ese elemento en la lista `l`. Por ejemplo, si la lista es `['a', 'b', 'b']`, el diccionario sería:\n",
        "\n",
        "```\n",
        "d = {'a': 1, 'b': 2}\n",
        "```\n",
        "\n",
        "Completa la siguiente celda para que tu código funcione sea cual sea la lista `l`y luego haz pruebas con diferentes listas:"
      ]
    },
    {
      "cell_type": "code",
      "metadata": {
        "id": "MA_g1IWyJbg3",
        "colab_type": "code",
        "colab": {}
      },
      "source": [
        "l = [2, 4, 6, 3, 9, 2, 4, 6, 2, 6, 7, 3, 5, 7, 1, 3, 5, 6, 3, 5, 5, 7, 2, 9, 0, 2, 3]\n",
        "\n",
        "# Completa con tu código\n",
        "d = {}\n",
        "for elem in l:\n",
        "  if elem in d:\n",
        "    d[elem] = d[elem] + 1\n",
        "  else:\n",
        "    d[elem] = 1\n",
        "print(d)"
      ],
      "execution_count": 0,
      "outputs": []
    },
    {
      "cell_type": "markdown",
      "metadata": {
        "id": "bZ73jiZyJp2a",
        "colab_type": "text"
      },
      "source": [
        "**Ejercicio 4**\n",
        "\n",
        "En este ejercicio hay dos listas con **integers** llamadas `numeros` y `divisores`. Tu objetivo es, a partir de ellas, crear un diccionario que cumpla las condiciones siguientes:\n",
        "\n",
        "* Debe haber una llave por cada elemento en `divisores``\n",
        "* `diccionario[k]` debe contener el número de números de la lista `numeros` que son divisibles por `k`\n",
        "\n",
        "Por ejemplo, si tuvieramos\n",
        "\n",
        "```\n",
        "numeros = [10, 15, 20]\n",
        "divisores = [2, 3]\n",
        "```\n",
        "\n",
        "El diccionario debería ser el siguiente\n",
        "\n",
        "```\n",
        "diccionario = {2: 2, 3: 1}\n",
        "```\n",
        "\n",
        "Ya que dos números (10 y 20) son divisibles entre 2 y sólo un número (15) es divisible por 3. \n",
        "\n",
        "Completa la siguiente celda con tu código y haz pruebas para varias listas distintas."
      ]
    },
    {
      "cell_type": "code",
      "metadata": {
        "id": "QbbzLIcqKdpN",
        "colab_type": "code",
        "colab": {}
      },
      "source": [
        "numeros = [38, 52, 55, 59, 69, 76, 77, 90, 97, 121, 135, 141, 153, 159, 162, 173, 174, 178, 191, 194]\n",
        "divisores = [2, 5, 7, 10, 11, 14, 15, 16]\n",
        "# Para el ejemplo por defecto la solución es {2: 8, 5: 3, 7: 1, 10: 1, 11: 3, 14: 0, 15: 2, 16: 0}\n",
        "\n",
        "# Completa con tu código\n",
        "d = {}\n",
        "for i in divisores:\n",
        "  d[i] = 0\n",
        "for j in numeros:\n",
        "  for k in divisores:\n",
        "    if j % k == 0:\n",
        "      d[k] = d[k] + 1\n",
        "print(d)"
      ],
      "execution_count": 0,
      "outputs": []
    }
  ]
}