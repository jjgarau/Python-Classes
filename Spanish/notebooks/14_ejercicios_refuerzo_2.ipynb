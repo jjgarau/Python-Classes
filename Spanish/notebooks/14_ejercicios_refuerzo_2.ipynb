{
  "nbformat": 4,
  "nbformat_minor": 0,
  "metadata": {
    "colab": {
      "name": "14 ejercicios refuerzo 2.ipynb",
      "provenance": [],
      "collapsed_sections": [],
      "include_colab_link": true
    },
    "kernelspec": {
      "name": "python3",
      "display_name": "Python 3"
    }
  },
  "cells": [
    {
      "cell_type": "markdown",
      "metadata": {
        "id": "view-in-github",
        "colab_type": "text"
      },
      "source": [
        "<a href=\"https://colab.research.google.com/github/jjgarau/Python-Classes/blob/master/Spanish/notebooks/14_ejercicios_refuerzo_2.ipynb\" target=\"_parent\"><img src=\"https://colab.research.google.com/assets/colab-badge.svg\" alt=\"Open In Colab\"/></a>"
      ]
    },
    {
      "cell_type": "markdown",
      "metadata": {
        "colab_type": "text",
        "id": "26IHzE7Rd4hz"
      },
      "source": [
        "# **Introducción a Python: Sesión 14**\n",
        "\n",
        "Material creado por Juanjo Garau (garau@mit.edu)"
      ]
    },
    {
      "cell_type": "markdown",
      "metadata": {
        "id": "hw2BPNFq3PJf",
        "colab_type": "text"
      },
      "source": [
        "## **Sesión de repaso/refuerzo 2**\n",
        "\n",
        "En esta sesión repasaremos todo lo que hemos visto hasta el momento: básicos, variables, listas, estructuras condicionales, iteradores, visualización, diccionarios y strings. La estructura del *notebook* es a base de preguntas cortas que cubren aquellos conceptos básicos de todo lo que hemos visto y que es muy útil si se recuerdan con cierta soltura (aunque siempre es necesario práctica y tiempo, no te preocupes!)"
      ]
    },
    {
      "cell_type": "markdown",
      "metadata": {
        "id": "kjKcfCwT1JAd",
        "colab_type": "text"
      },
      "source": [
        "**Pregunta 1**\n",
        "\n",
        "Muestra por pantalla: `Hola, mundo!`"
      ]
    },
    {
      "cell_type": "code",
      "metadata": {
        "id": "RZBrKDhQ1IcR",
        "colab_type": "code",
        "colab": {}
      },
      "source": [
        "# Tu código aquí\n"
      ],
      "execution_count": 0,
      "outputs": []
    },
    {
      "cell_type": "markdown",
      "metadata": {
        "id": "c8BeeEihB9sh",
        "colab_type": "text"
      },
      "source": [
        "**Pregunta 2**\n",
        "\n",
        "Escribe un comentario en Python:"
      ]
    },
    {
      "cell_type": "code",
      "metadata": {
        "id": "fx3b0EgvCG38",
        "colab_type": "code",
        "colab": {}
      },
      "source": [
        ""
      ],
      "execution_count": 0,
      "outputs": []
    },
    {
      "cell_type": "markdown",
      "metadata": {
        "id": "G6L2G2bWCH30",
        "colab_type": "text"
      },
      "source": [
        "**Pregunta 3**\n",
        "\n",
        "Corrige todos los errores en el siguiente código:"
      ]
    },
    {
      "cell_type": "code",
      "metadata": {
        "id": "3by8nyWnCgVu",
        "colab_type": "code",
        "colab": {}
      },
      "source": [
        "if 8 > 5\n",
        "print('Eight is greater than five!')"
      ],
      "execution_count": 0,
      "outputs": []
    },
    {
      "cell_type": "markdown",
      "metadata": {
        "id": "5cvAg1ndCo3r",
        "colab_type": "text"
      },
      "source": [
        "**Pregunta 4**\n",
        "\n",
        "Crea una variable y asígnale un valor **float**"
      ]
    },
    {
      "cell_type": "code",
      "metadata": {
        "id": "tb6B0oLMCpvC",
        "colab_type": "code",
        "colab": {}
      },
      "source": [
        "# Tu código aquí\n"
      ],
      "execution_count": 0,
      "outputs": []
    },
    {
      "cell_type": "markdown",
      "metadata": {
        "id": "7p_G2-BpCqCW",
        "colab_type": "text"
      },
      "source": [
        "**Pregunta 5**\n",
        "\n",
        "Crea una **lista** con valores **integer** que vaya de 3 a 8 (incluido), debes escribir todos los números uno a uno."
      ]
    },
    {
      "cell_type": "code",
      "metadata": {
        "id": "uYa-FqtVCqR1",
        "colab_type": "code",
        "colab": {}
      },
      "source": [
        "# Tu código aquí\n"
      ],
      "execution_count": 0,
      "outputs": []
    },
    {
      "cell_type": "markdown",
      "metadata": {
        "id": "5ZHjo9RbCqeI",
        "colab_type": "text"
      },
      "source": [
        "**Pregunta 6**\n",
        "\n",
        "Crea la misma lista que la pregunta 5, esta vez usando la función `range`."
      ]
    },
    {
      "cell_type": "code",
      "metadata": {
        "id": "3Og-3CbgCqtl",
        "colab_type": "code",
        "colab": {}
      },
      "source": [
        "# Tu código aquí\n"
      ],
      "execution_count": 0,
      "outputs": []
    },
    {
      "cell_type": "markdown",
      "metadata": {
        "id": "0YID1AGiCq5u",
        "colab_type": "text"
      },
      "source": [
        "**Pregunta 7**\n",
        "\n",
        "Cuál es el **tipo** de los siguientes elementos?\n",
        "\n",
        "```\n",
        "a = 3e4\n",
        "b = \"9\"\n",
        "c = 9 > 9\n",
        "d = []\n",
        "e = {'a': 1, 'b': 2}\n",
        "f = int(str(9))\n",
        "g = [1, 2, 3][0]\n",
        "h = list({'a': 1, 'b': 2}.keys())[0]\n",
        "```"
      ]
    },
    {
      "cell_type": "markdown",
      "metadata": {
        "id": "CVvQwfq-ERor",
        "colab_type": "text"
      },
      "source": [
        "**Pregunta 8**\n",
        "\n",
        "Cuál es el **valor** que cada una de las siguientes variables guarda?\n",
        "\n",
        "```\n",
        "a = 3.0 + 4\n",
        "b = True + False\n",
        "c = a // 1\n",
        "d = str(8) + \"a\"\n",
        "e = list(range(7, 3, -1))\n",
        "f = e[1:2]\n",
        "g = 9.0 == 9\n",
        "h = 2 * 2 ** 2\n",
        "```"
      ]
    },
    {
      "cell_type": "markdown",
      "metadata": {
        "id": "mk5nNudYE6QP",
        "colab_type": "text"
      },
      "source": [
        "**Pregunta 9**\n",
        "\n",
        "Muestra por pantalla el **tipo** de la variable `a`:"
      ]
    },
    {
      "cell_type": "code",
      "metadata": {
        "id": "m2fV_BsQCrUY",
        "colab_type": "code",
        "colab": {}
      },
      "source": [
        "a = 1\n",
        "# Tu código aquí\n"
      ],
      "execution_count": 0,
      "outputs": []
    },
    {
      "cell_type": "markdown",
      "metadata": {
        "id": "kLjO5TYrCrhy",
        "colab_type": "text"
      },
      "source": [
        "**Pregunta 10**\n",
        "\n",
        "El siguiente código resultaría en un **error**, por qué?\n",
        "\n",
        "```\n",
        "a = [1, 2, 3]\n",
        "b = [4, 5, 6]\n",
        "c = a[0] + b[2]\n",
        "d = a[-1] + b[3]\n",
        "```"
      ]
    },
    {
      "cell_type": "markdown",
      "metadata": {
        "id": "IVESR17rCr9R",
        "colab_type": "text"
      },
      "source": [
        "**Pregunta 11**\n",
        "\n",
        "Escribe **dos** formas para convertir el número **float** `3.0` en un **integer**."
      ]
    },
    {
      "cell_type": "code",
      "metadata": {
        "id": "KEcbjedSCsL7",
        "colab_type": "code",
        "colab": {}
      },
      "source": [
        "num = 3.0\n",
        "# Tu código aquí\n",
        "\n"
      ],
      "execution_count": 0,
      "outputs": []
    },
    {
      "cell_type": "markdown",
      "metadata": {
        "id": "AoiFJtfDFG9b",
        "colab_type": "text"
      },
      "source": [
        "**Pregunta 12**\n",
        "\n",
        "Muestra por pantalla la **longitud** de la siguiente lista:"
      ]
    },
    {
      "cell_type": "code",
      "metadata": {
        "id": "29-2Q1t3FHNA",
        "colab_type": "code",
        "colab": {}
      },
      "source": [
        "l = [1, 2, 3, 4]\n",
        "# Tu código aquí\n"
      ],
      "execution_count": 0,
      "outputs": []
    },
    {
      "cell_type": "markdown",
      "metadata": {
        "id": "3oAm_xUBFHlw",
        "colab_type": "text"
      },
      "source": [
        "**Pregunta 13**\n",
        "\n",
        "Usando las variables dadas, muestra la siguiente frase por pantalla:\n",
        "\n",
        "```\n",
        "Hola, me llamo Jaime y tengo 30 años.\n",
        "```"
      ]
    },
    {
      "cell_type": "code",
      "metadata": {
        "id": "wMvWHGYEFHyB",
        "colab_type": "code",
        "colab": {}
      },
      "source": [
        "nombre = \"Jaime\"\n",
        "edad = 30\n",
        "# Tu código aquí (fíjate en el tipo de las variables)\n"
      ],
      "execution_count": 0,
      "outputs": []
    },
    {
      "cell_type": "markdown",
      "metadata": {
        "id": "06vmv4qGFH8X",
        "colab_type": "text"
      },
      "source": [
        "**Pregunta 14**\n",
        "\n",
        "Las siguientes variables se evaluarán a `True` o `False`?\n",
        "\n",
        "```\n",
        "a = 9 > 3\n",
        "b = 4 - 3 > 1\n",
        "c = 3 <= 2\n",
        "d = 2 ** 4 == 4 ** 2\n",
        "e = \"string\" != \"String\"\n",
        "f = \"food\" > \"zebra\"\n",
        "g = \"g\" > \"G\"\n",
        "h = len({'a': 1, 'b': 2}) < len([1, 2, 3])\n",
        "i = bool(True * False)\n",
        "```"
      ]
    },
    {
      "cell_type": "markdown",
      "metadata": {
        "id": "Ays0Lf05LBEe",
        "colab_type": "text"
      },
      "source": [
        "**Pregunta 15**\n",
        "\n",
        "Cuál es el cuociente entero y el residuo que resulta al dividir 23123 entre 23?"
      ]
    },
    {
      "cell_type": "code",
      "metadata": {
        "id": "6i0CgUzpFIHm",
        "colab_type": "code",
        "colab": {}
      },
      "source": [
        "# Tu código aquí\n",
        "\n"
      ],
      "execution_count": 0,
      "outputs": []
    },
    {
      "cell_type": "markdown",
      "metadata": {
        "id": "i5cdiPwmFISI",
        "colab_type": "text"
      },
      "source": [
        "**Pregunta 16**\n",
        "\n",
        "Escribe un código que mire si `'manzanas'` está en la lista dada y muestre por pntalla `SI`."
      ]
    },
    {
      "cell_type": "code",
      "metadata": {
        "id": "ahy4msD7FIlo",
        "colab_type": "code",
        "colab": {}
      },
      "source": [
        "l = ['manzanas', 'plátanos', 'peras']\n",
        "# Tu código aquí\n"
      ],
      "execution_count": 0,
      "outputs": []
    },
    {
      "cell_type": "markdown",
      "metadata": {
        "id": "dRpZJAArIPj1",
        "colab_type": "text"
      },
      "source": [
        "**Pregunta 17**\n",
        "\n",
        "Las siguientes variables se evaluarán a `True` o `False`?\n",
        "\n",
        "```\n",
        "a = (3 < 3) or (4 < 4)\n",
        "b = (3 >= 3) and ('a' == 'a')\n",
        "c = not (not (4 < 5))\n",
        "```"
      ]
    },
    {
      "cell_type": "markdown",
      "metadata": {
        "id": "Dj89cOxlMDa9",
        "colab_type": "text"
      },
      "source": [
        "**Pregunta 18**\n",
        "\n",
        "Muestra por pantalla el valor del último elemento de la siguiente lista **de dos formas distintas**:"
      ]
    },
    {
      "cell_type": "code",
      "metadata": {
        "id": "qOgX28ILIPvr",
        "colab_type": "code",
        "colab": {}
      },
      "source": [
        "l = [1, 2, 3, 4, 5]\n",
        "# Tu código aquí\n",
        "\n"
      ],
      "execution_count": 0,
      "outputs": []
    },
    {
      "cell_type": "markdown",
      "metadata": {
        "id": "_4ek2eh1IP8_",
        "colab_type": "text"
      },
      "source": [
        "**Pregunta 19**\n",
        "\n",
        "Cambia un valor de la siguiente lista y luego añade un elemento nuevo (es decir, incrementa la longitud de la lista por 1)"
      ]
    },
    {
      "cell_type": "code",
      "metadata": {
        "id": "Bg2vMon3IQN5",
        "colab_type": "code",
        "colab": {}
      },
      "source": [
        "l = [1, 2, 3, 4, 5]\n",
        "# Tu código aquí\n",
        "\n"
      ],
      "execution_count": 0,
      "outputs": []
    },
    {
      "cell_type": "markdown",
      "metadata": {
        "id": "1aDgmhkHIQku",
        "colab_type": "text"
      },
      "source": [
        "**Pregunta 20**\n",
        "\n",
        "Haz un corte a la lista que incluya los elementos tercero, cuarto y quinto:"
      ]
    },
    {
      "cell_type": "code",
      "metadata": {
        "id": "_KSJF2abIQxE",
        "colab_type": "code",
        "colab": {}
      },
      "source": [
        "l = ['león', 'elefante', 'cebra', 'tigre', 'oso', 'jirafa', 'cocodrilo']\n",
        "# Tu código aquí\n"
      ],
      "execution_count": 0,
      "outputs": []
    },
    {
      "cell_type": "markdown",
      "metadata": {
        "id": "2h42JHqqO3C0",
        "colab_type": "text"
      },
      "source": [
        "**Pregunta 21**\n",
        "\n",
        "Completa los puntos suspensivos con la palabra adecuada:"
      ]
    },
    {
      "cell_type": "code",
      "metadata": {
        "id": "8eBkWzlAO3eN",
        "colab_type": "code",
        "colab": {}
      },
      "source": [
        "t = 10\n",
        "... t > 20:\n",
        "  print(1)\n",
        "... t > 10:\n",
        "  print(2)\n",
        "...:\n",
        "  print(3)"
      ],
      "execution_count": 0,
      "outputs": []
    },
    {
      "cell_type": "markdown",
      "metadata": {
        "id": "SgtYWsM8IRSK",
        "colab_type": "text"
      },
      "source": [
        "**Pregunta 22**\n",
        "\n",
        "Escribe una estructura condicional que compruebe si un número es par o impar:"
      ]
    },
    {
      "cell_type": "code",
      "metadata": {
        "id": "98LYihdMIRuM",
        "colab_type": "code",
        "colab": {}
      },
      "source": [
        "# Tu código aquí\n",
        "\n"
      ],
      "execution_count": 0,
      "outputs": []
    },
    {
      "cell_type": "markdown",
      "metadata": {
        "id": "gZcx7ekTOi6A",
        "colab_type": "text"
      },
      "source": [
        "**Pregunta 23**\n",
        "\n",
        "**Dos** cosas faltan en el siguiente fragmento de código para que la estructura `while` **funcione** y **termine**. Añádelas."
      ]
    },
    {
      "cell_type": "code",
      "metadata": {
        "id": "70yoUNYyOjLO",
        "colab_type": "code",
        "colab": {}
      },
      "source": [
        "while i < 6:\n",
        "  print(i)"
      ],
      "execution_count": 0,
      "outputs": []
    },
    {
      "cell_type": "markdown",
      "metadata": {
        "id": "Ptt3kGfPOjWA",
        "colab_type": "text"
      },
      "source": [
        "**Pregunta 24**\n",
        "\n",
        "Toma la estructura `while` **corregida** de la pregunta anterior y añade líneas de código que obliguen al iterador a parar si `i` es mayor que `4`. No debes cambiar la condición de iteración, simplemente añadir nuevas instrucciones."
      ]
    },
    {
      "cell_type": "code",
      "metadata": {
        "id": "aQdXVeQ0Ojiy",
        "colab_type": "code",
        "colab": {}
      },
      "source": [
        "# Tu código aquí\n"
      ],
      "execution_count": 0,
      "outputs": []
    },
    {
      "cell_type": "markdown",
      "metadata": {
        "id": "p5I48yQIOjtd",
        "colab_type": "text"
      },
      "source": [
        "**Pregunta 25**\n",
        "\n",
        "Qué números se mostrarían por pantalla si ejecutáramos el código que sigue?\n",
        "\n",
        "```\n",
        "k = 1\n",
        "while k < 10:\n",
        "  if k % 3 == 0:\n",
        "    print(k)\n",
        "  elif k % 2 == 0:\n",
        "    print(k + 1)\n",
        "  k = k + 2\n",
        "```"
      ]
    },
    {
      "cell_type": "markdown",
      "metadata": {
        "id": "UYZi_yOGQvGV",
        "colab_type": "text"
      },
      "source": [
        "**Pregunta 26**\n",
        "\n",
        "Muestra los contenidos de la siguiente lista usando una estructura `for`:"
      ]
    },
    {
      "cell_type": "code",
      "metadata": {
        "id": "FHUnGzZaOj9P",
        "colab_type": "code",
        "colab": {}
      },
      "source": [
        "l = ['escritorio', 'silla', 'lámpara']\n",
        "# Tu código aquí\n",
        "\n"
      ],
      "execution_count": 0,
      "outputs": []
    },
    {
      "cell_type": "markdown",
      "metadata": {
        "id": "2-sfJTOAOkI1",
        "colab_type": "text"
      },
      "source": [
        "**Pregunta 27** \n",
        "\n",
        "Tienes que crear la siguiente lista usando una estructura `for`: `[1, 4, 9, 16, 25]`. Fíjate en que todos los números son los cuadrados de los 5 primeros números naturales."
      ]
    },
    {
      "cell_type": "code",
      "metadata": {
        "id": "LZi455bsOkYE",
        "colab_type": "code",
        "colab": {}
      },
      "source": [
        "# Tu código aquí\n",
        "\n"
      ],
      "execution_count": 0,
      "outputs": []
    },
    {
      "cell_type": "markdown",
      "metadata": {
        "id": "582F62mbRD2R",
        "colab_type": "text"
      },
      "source": [
        "**Pregunta 28**\n",
        "\n",
        "Qué hace el siguiente código?\n",
        "\n",
        "```\n",
        "num = 5\n",
        "for i in range(num):\n",
        "  line = ''\n",
        "  for j in range(i + 1):\n",
        "    line = line + '#'\n",
        "  print(line)\n",
        "```"
      ]
    },
    {
      "cell_type": "markdown",
      "metadata": {
        "id": "OTklOgXDR8WA",
        "colab_type": "text"
      },
      "source": [
        "**Pregunta 29**\n",
        "\n",
        "Importa la librería para realizar visualizaciones:"
      ]
    },
    {
      "cell_type": "code",
      "metadata": {
        "id": "2-ZZCwysREDd",
        "colab_type": "code",
        "colab": {}
      },
      "source": [
        "# Tu código aquí\n"
      ],
      "execution_count": 0,
      "outputs": []
    },
    {
      "cell_type": "markdown",
      "metadata": {
        "id": "_EGqwcLGREX4",
        "colab_type": "text"
      },
      "source": [
        "**Pregunta 30**\n",
        "\n",
        "Encuentra el índice de `manzanas` en la siguiente lista:"
      ]
    },
    {
      "cell_type": "code",
      "metadata": {
        "id": "P266dOHtREmb",
        "colab_type": "code",
        "colab": {}
      },
      "source": [
        "l = ['plátanos', 'peras', 'manzanas', 'kiwis']\n",
        "# Tu código aquí\n"
      ],
      "execution_count": 0,
      "outputs": []
    },
    {
      "cell_type": "markdown",
      "metadata": {
        "id": "Hpc9KK2TRE9E",
        "colab_type": "text"
      },
      "source": [
        "**Pregunta 31**\n",
        "\n",
        "Elimina el penúltimo elemento de la lista:"
      ]
    },
    {
      "cell_type": "code",
      "metadata": {
        "id": "N_u27mXJRFKH",
        "colab_type": "code",
        "colab": {}
      },
      "source": [
        "l = [1, 2, 3, 3, 4, 5, 6, 7]\n",
        "# Tu código aquí\n"
      ],
      "execution_count": 0,
      "outputs": []
    },
    {
      "cell_type": "markdown",
      "metadata": {
        "id": "wK_Nz4KCSC2k",
        "colab_type": "text"
      },
      "source": [
        "**Pregunta 32**\n",
        "\n",
        "Realiza una visualización con las listas `x` e `y` usando una línea:"
      ]
    },
    {
      "cell_type": "code",
      "metadata": {
        "id": "4f6et5fPSDGR",
        "colab_type": "code",
        "colab": {}
      },
      "source": [
        "x = [1, 2, 3, 4, 5]\n",
        "y = [1, 8, 27, 64, 125]\n",
        "# Tu código aquí\n"
      ],
      "execution_count": 0,
      "outputs": []
    },
    {
      "cell_type": "markdown",
      "metadata": {
        "id": "LCcVBp_dSDR7",
        "colab_type": "text"
      },
      "source": [
        "**Pregunta 33**\n",
        "\n",
        "Haz lo mismo que en la pregunta anterior pero esta vez usa un **scatter plot**"
      ]
    },
    {
      "cell_type": "code",
      "metadata": {
        "id": "k-hZeoL3SDeu",
        "colab_type": "code",
        "colab": {}
      },
      "source": [
        "x = [1, 2, 3, 4, 5]\n",
        "y = [1, 8, 27, 64, 125]\n",
        "# Tu código aquí\n"
      ],
      "execution_count": 0,
      "outputs": []
    },
    {
      "cell_type": "markdown",
      "metadata": {
        "id": "1Zab47loSDp2",
        "colab_type": "text"
      },
      "source": [
        "**Pregunta 34**\n",
        "\n",
        "Añade un elemento que tenga sentido en el siguiente diccionario:"
      ]
    },
    {
      "cell_type": "code",
      "metadata": {
        "id": "nnsZvElNSD6A",
        "colab_type": "code",
        "colab": {}
      },
      "source": [
        "d = {'enero': 1, 'marzo': 3, 'julio': 7, 'octubre': 10}\n",
        "# Tu código aquí\n"
      ],
      "execution_count": 0,
      "outputs": []
    },
    {
      "cell_type": "markdown",
      "metadata": {
        "id": "AMBHxYvNTAS3",
        "colab_type": "text"
      },
      "source": [
        "**Pregunta 35**\n",
        "\n",
        "Itera a través de todos los pares de llaves y valores del siguiente diccionario y muéstralos por pantalla:"
      ]
    },
    {
      "cell_type": "code",
      "metadata": {
        "id": "hR5O9ZJ9TAhu",
        "colab_type": "code",
        "colab": {}
      },
      "source": [
        "d = {'a': 1, 'b': 2, 'c': 3, 'd': 4, 'e': 5}\n",
        "# Tu código aquí\n"
      ],
      "execution_count": 0,
      "outputs": []
    },
    {
      "cell_type": "markdown",
      "metadata": {
        "id": "a8hcWgIWTAte",
        "colab_type": "text"
      },
      "source": [
        "**Pregunta 36**\n",
        "\n",
        "Crea un elemento con algunos elementos y luego vacíalo."
      ]
    },
    {
      "cell_type": "code",
      "metadata": {
        "id": "fMR6b-J8TA6w",
        "colab_type": "code",
        "colab": {}
      },
      "source": [
        "# Tu código aquí\n"
      ],
      "execution_count": 0,
      "outputs": []
    },
    {
      "cell_type": "markdown",
      "metadata": {
        "colab_type": "text",
        "id": "cP5ktc4hF-q3"
      },
      "source": [
        "### **Ejercicios Sesión 14**"
      ]
    },
    {
      "cell_type": "markdown",
      "metadata": {
        "id": "boSzZGclHneL",
        "colab_type": "text"
      },
      "source": [
        "**Ejercicio 1**\n",
        "\n",
        "Crea un código que dada una lista, o bien cree una nueva lista ordenada, o ordene la lista original. Los valores de la lista deben estar ordenados de menor a mayor. Luego haz pruebas con otras listas! "
      ]
    },
    {
      "cell_type": "code",
      "metadata": {
        "id": "WBAWCTRXHmtc",
        "colab_type": "code",
        "colab": {}
      },
      "source": [
        "lista = [4, 8, 0, 2, 3, 5, 1, 9, 8]\n",
        "# Tu código aquí\n",
        "\n"
      ],
      "execution_count": 0,
      "outputs": []
    },
    {
      "cell_type": "markdown",
      "metadata": {
        "id": "dSZo86RwILR1",
        "colab_type": "text"
      },
      "source": [
        "**Ejercicio 2**\n",
        "\n",
        "Dados dos diccionarios `d1` y `d2`, debes construir un diccionario `d3` que cumpla con las siguientes condiciones:\n",
        "\n",
        "* Si una llave está o bien en `d1` o bien en `d2` (o en ambos), entonces tiene que estar en `d3`.\n",
        "* Una llave que solamente esté en **uno** de los diccionarios `d1` o `d2`, debe aparecer en `d3` con el valor que tiene en el diccionario original. \n",
        "* Si una llave está en `d1` y `d2`, entonces su valor en `d3` debe ser el mayor de ambos valores (el valor en `d1` y el valor en `d2`)."
      ]
    },
    {
      "cell_type": "code",
      "metadata": {
        "id": "wmrCO1s8K7l3",
        "colab_type": "code",
        "colab": {}
      },
      "source": [
        "d1 = {'a': 3, 'b': 2, 'c': 4, 'e': 9}\n",
        "d2 = {'b': 5, 'd': 7, 'e': 1}\n",
        "# Tu código aquí\n",
        "\n"
      ],
      "execution_count": 0,
      "outputs": []
    },
    {
      "cell_type": "markdown",
      "metadata": {
        "id": "cD5G9APRLK4w",
        "colab_type": "text"
      },
      "source": [
        "**Ejercicio 3**\n",
        "\n",
        "En este ejercicio debes conseguir un código que realice la siguiente tarea: dado un número **integer** `num`, mostrar por pantalla un cuadrado de dimensiones `num x num` de la siguiente manera:\n",
        "\n",
        "Por ejemplo si `num=3` debes mostrar por pantalla:\n",
        "\n",
        "```\n",
        "012\n",
        "345\n",
        "678\n",
        "```\n",
        "\n",
        "En cambio, si `num=6`:\n",
        "\n",
        "```\n",
        "012345\n",
        "678901\n",
        "234567\n",
        "890123\n",
        "456789\n",
        "012345\n",
        "```\n",
        "\n",
        "Completa la siguiente celda con el código que realiza la funcionalidad descrita:"
      ]
    },
    {
      "cell_type": "code",
      "metadata": {
        "id": "5v8NOTBOMBei",
        "colab_type": "code",
        "colab": {}
      },
      "source": [
        "num = 8\n",
        "# Tu código aquí\n",
        "\n"
      ],
      "execution_count": 0,
      "outputs": []
    },
    {
      "cell_type": "markdown",
      "metadata": {
        "colab_type": "text",
        "id": "uAywimOnHjn7"
      },
      "source": [
        "### **Solución a los Ejercicios de la Sesión 13**"
      ]
    },
    {
      "cell_type": "markdown",
      "metadata": {
        "colab_type": "text",
        "id": "UxFueyq2F-q4"
      },
      "source": [
        "**Ejercicio 1**\n",
        "\n",
        "En este ejercicio tu tarea es construir un diccionario a modo de contador. Se proporciona un string `s`, que contiene una frase con todas las letras **minúsculas**. El diccionario debe contener una llave por cada carácter distinto y su valor debe ser el número de veces que aparece en el string. Recuerda que los espacios cuentan como carácter. "
      ]
    },
    {
      "cell_type": "code",
      "metadata": {
        "id": "CgsxHFypIHgu",
        "colab_type": "code",
        "colab": {}
      },
      "source": [
        "s = \"la sala no tiene ventanas\"\n",
        "\n",
        "# Completa con tu código\n",
        "d = {}\n",
        "for c in s:\n",
        "  if c not in d:\n",
        "    d[c] = 1\n",
        "  else:\n",
        "    d[c] = d[c] + 1\n",
        "print(d)"
      ],
      "execution_count": 0,
      "outputs": []
    },
    {
      "cell_type": "markdown",
      "metadata": {
        "id": "6ep7ah8kISRr",
        "colab_type": "text"
      },
      "source": [
        "**Ejercicio 2**\n",
        "\n",
        "En este ejercicio debes realizar la misma tarea que en el ejercicio anterior pero esta vez el string contiene letras **mayúsculas y minúsculas**. Debes construir el diccionario considerando que el número de apariciones no depende de si la letra es mayúscula o minúscula (es decir, `A` y `a` cuentan ambas como una ocurrencia del carácter `a`). Aparte, **no debes incluir el carácter espacio en el diccionario**, lo debes ignorar mientras examines la frase. "
      ]
    },
    {
      "cell_type": "code",
      "metadata": {
        "id": "FAnuYq5ZIq-l",
        "colab_type": "code",
        "colab": {}
      },
      "source": [
        "s = \"La sAla nO Tiene VenTAnas\"\n",
        "\n",
        "# Completa con tu código\n",
        "d = {}\n",
        "for c in s:\n",
        "  c_m = c.lower()\n",
        "  if c_m != ' ':\n",
        "    if c_m not in d:\n",
        "      d[c_m] = 1\n",
        "    else:\n",
        "      d[c_m] = d[c_m] + 1\n",
        "print(d)"
      ],
      "execution_count": 0,
      "outputs": []
    },
    {
      "cell_type": "markdown",
      "metadata": {
        "id": "oMh0_uHdI0OF",
        "colab_type": "text"
      },
      "source": [
        "**Ejercicio 3**\n",
        "\n",
        "En este ejercicio debes contar cuántas palabras pertenecientes a una misma frase `s` tienen un número de caracteres igual a `num`:"
      ]
    },
    {
      "cell_type": "code",
      "metadata": {
        "id": "MA_g1IWyJbg3",
        "colab_type": "code",
        "colab": {}
      },
      "source": [
        "s = \"La familia daba un paseo por el parque mientras el perro buscaba su hueso\"\n",
        "num = 5\n",
        "\n",
        "# Completa con tu código\n",
        "contador = 0\n",
        "palabras = s.split(' ')\n",
        "for p in palabras:\n",
        "  if len(p) == num:\n",
        "    contador = contador + 1\n",
        "print(contador)"
      ],
      "execution_count": 0,
      "outputs": []
    },
    {
      "cell_type": "markdown",
      "metadata": {
        "id": "bZ73jiZyJp2a",
        "colab_type": "text"
      },
      "source": [
        "**Ejercicio 4**\n",
        "\n",
        "En la misma línea que el ejercicio anterior, debes buscar cuántos caracteres tiene cada palabra en una frase y construir un diccionario tal que se cuenten el número de palabras que poseen un número determinado de caracteres. Es decir, cada llave es una longitdud distinta considerada (**integer**) y los valores son el número de palabras de esa longitud (**integer**). "
      ]
    },
    {
      "cell_type": "code",
      "metadata": {
        "id": "QbbzLIcqKdpN",
        "colab_type": "code",
        "colab": {}
      },
      "source": [
        "s = \"La familia daba un paseo por el parque mientras el perro buscaba su hueso\"\n",
        "\n",
        "# Completa con tu código\n",
        "d = {}\n",
        "palabras = s.split(' ')\n",
        "for p in palabras:\n",
        "  l = len(p)\n",
        "  if l in d:\n",
        "    d[l] = d[l] + 1\n",
        "  else:\n",
        "    d[l] = 1\n",
        "print(d)"
      ],
      "execution_count": 0,
      "outputs": []
    }
  ]
}