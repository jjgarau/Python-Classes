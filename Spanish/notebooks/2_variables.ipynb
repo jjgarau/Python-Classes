{
  "nbformat": 4,
  "nbformat_minor": 0,
  "metadata": {
    "colab": {
      "name": "2 variables.ipynb",
      "provenance": [],
      "collapsed_sections": [],
      "include_colab_link": true
    },
    "kernelspec": {
      "name": "python3",
      "display_name": "Python 3"
    }
  },
  "cells": [
    {
      "cell_type": "markdown",
      "metadata": {
        "id": "view-in-github",
        "colab_type": "text"
      },
      "source": [
        "<a href=\"https://colab.research.google.com/github/jjgarau/Python-Classes/blob/master/Spanish/notebooks/2_variables.ipynb\" target=\"_parent\"><img src=\"https://colab.research.google.com/assets/colab-badge.svg\" alt=\"Open In Colab\"/></a>"
      ]
    },
    {
      "cell_type": "markdown",
      "metadata": {
        "id": "34ZI9Fc9tuK1",
        "colab_type": "text"
      },
      "source": [
        "# **Introducción a Python: Sesión 2**\n",
        "\n",
        "Material creado por Juanjo Garau (garau@mit.edu)"
      ]
    },
    {
      "cell_type": "markdown",
      "metadata": {
        "id": "FF3gZ24vtVEs",
        "colab_type": "text"
      },
      "source": [
        "## **Variables**\n",
        "\n",
        "Generalmente, en los lenguajes de programación, las unidades de información (un número, un string...) se guardan en **variables**. Las variables son elementos que guardan esas unidades de información bajo un alias o nombre para controlarlas durante la ejecución del programa. Veamos cómo podemos definir las variables:"
      ]
    },
    {
      "cell_type": "code",
      "metadata": {
        "id": "MGQXP6pTNm8x",
        "colab_type": "code",
        "colab": {}
      },
      "source": [
        "soy_una_variable = 1"
      ],
      "execution_count": 0,
      "outputs": []
    },
    {
      "cell_type": "markdown",
      "metadata": {
        "id": "Y5SHSJnENnzY",
        "colab_type": "text"
      },
      "source": [
        "Ahora podemos realizar operaciones con esa variable \"olvidando\" lo que realmente guarda:"
      ]
    },
    {
      "cell_type": "code",
      "metadata": {
        "id": "cERB29a7NoJj",
        "colab_type": "code",
        "colab": {}
      },
      "source": [
        "print(soy_una_variable)\n",
        "print(type(soy_una_variable))\n",
        "print(soy_una_variable + 2)"
      ],
      "execution_count": 0,
      "outputs": []
    },
    {
      "cell_type": "markdown",
      "metadata": {
        "id": "zQ4q_uk2t6qn",
        "colab_type": "text"
      },
      "source": [
        "Hemos inicializado `soy_una_variable` a `1` y por tanto al realizar la instrucción `print()` se muestra el número `1` por la pantalla. Igualmente, el tipo de esa variable es **integer**, ya que hemos escrito `1` (acuérdate que para que fuera un **float** deberíamos haber escrito `1.0` con la parte decimal). También podemos realizar operaciones con esa variable, al escribir `soy_una_variable + 2` realmente estamos evaluando `1 + 2`, que resulta en `3`.\n",
        "\n",
        "Fíjate en que en una **variable** se usan carácteres como en un **string**, pero se diferencia de este último en que no lleva comillas `\"` o apóstrofe `'`.\n",
        "\n",
        "Veamos más ejemplos:"
      ]
    },
    {
      "cell_type": "code",
      "metadata": {
        "id": "7ZhlYD6ot6_w",
        "colab_type": "code",
        "colab": {}
      },
      "source": [
        "temperatura = 23.2\n",
        "nombre = \"Juan\"\n",
        "edad = 16\n",
        "temperatura_string = str(temperatura) + \" C\"\n",
        "b = True"
      ],
      "execution_count": 0,
      "outputs": []
    },
    {
      "cell_type": "markdown",
      "metadata": {
        "id": "wfK5pcRQq_WA",
        "colab_type": "text"
      },
      "source": [
        "Estos también los puedes mostrar por pantalla:"
      ]
    },
    {
      "cell_type": "code",
      "metadata": {
        "id": "6wpcKEHjrCIm",
        "colab_type": "code",
        "colab": {}
      },
      "source": [
        "print(temperatura)"
      ],
      "execution_count": 0,
      "outputs": []
    },
    {
      "cell_type": "markdown",
      "metadata": {
        "id": "lvQxGqYpt7bA",
        "colab_type": "text"
      },
      "source": [
        "Date cuenta que hemos creado la variable `temperatura_string` a partir de la variable `temperatura`, fíjate en lo que guarda esta variable:"
      ]
    },
    {
      "cell_type": "code",
      "metadata": {
        "id": "1d_S0Bogt7sY",
        "colab_type": "code",
        "colab": {}
      },
      "source": [
        "print(temperatura_string)"
      ],
      "execution_count": 0,
      "outputs": []
    },
    {
      "cell_type": "markdown",
      "metadata": {
        "id": "7JYdGpiUt77M",
        "colab_type": "text"
      },
      "source": [
        "Quizás también te has dado cuenta que a la variable `b` se le ha asignado el valor `True`. En Python, al igual que en la mayoría de lenguajes de programación, existen las llamadas variables binarias `True` y `False`, que son muy relevantes en las estructuras de condición (como verás dentro de algunas sesiones). Se las conoce como **variables booleanas**."
      ]
    },
    {
      "cell_type": "code",
      "metadata": {
        "id": "ZoP6J1qmt8QM",
        "colab_type": "code",
        "colab": {}
      },
      "source": [
        "print(b)\n",
        "print(type(b))\n",
        "c = False\n",
        "print(type(c))"
      ],
      "execution_count": 0,
      "outputs": []
    },
    {
      "cell_type": "markdown",
      "metadata": {
        "id": "ZeOLPzNru6kR",
        "colab_type": "text"
      },
      "source": [
        "Como ves, el tipo de estas variables es **bool**. Podemos realizar algunas operaciones matemáticas con ellas también:"
      ]
    },
    {
      "cell_type": "code",
      "metadata": {
        "id": "WWNXnZOdu61h",
        "colab_type": "code",
        "colab": {}
      },
      "source": [
        "print(False + False)\n",
        "print(True + False)\n",
        "print(True + True)"
      ],
      "execution_count": 0,
      "outputs": []
    },
    {
      "cell_type": "markdown",
      "metadata": {
        "id": "7PhCPzD-u7YC",
        "colab_type": "text"
      },
      "source": [
        "Se convierten en **integers**! Eso es porque las variables **booleanas** se pueden evaluar como **integers** tal que `True` se evalúa a `1` mientras que `False` se evalúa a `0`. Veamos más ejemplos:"
      ]
    },
    {
      "cell_type": "code",
      "metadata": {
        "id": "ZdXHC6pSu7qo",
        "colab_type": "code",
        "colab": {}
      },
      "source": [
        "print(False * False)\n",
        "print(False / True)\n",
        "print(True * False)\n",
        "print(True * True)"
      ],
      "execution_count": 0,
      "outputs": []
    },
    {
      "cell_type": "markdown",
      "metadata": {
        "id": "AGyMMSdlu7-D",
        "colab_type": "text"
      },
      "source": [
        "Volvamos ahora al concepto de variables. Muchas de las instrucciones o comandos en Python conllevan el uso de variables, por ejemplo hacer que un programa haga una presentación de una persona tras introducir su nombre y edad:"
      ]
    },
    {
      "cell_type": "code",
      "metadata": {
        "id": "tbld_Ls0v-rU",
        "colab_type": "code",
        "colab": {}
      },
      "source": [
        "nombre = \"Laura\"\n",
        "edad = 33\n",
        "print(\"Hola, me llamo \" + nombre + \" y tengo \" + str(edad) + \" años.\")"
      ],
      "execution_count": 0,
      "outputs": []
    },
    {
      "cell_type": "markdown",
      "metadata": {
        "id": "iiqtURDuv_Ga",
        "colab_type": "text"
      },
      "source": [
        "Date cuenta que necesitamos añadir la función `str()` a la variable `edad`, que es un **integer**, para convertirla en un **string** y poder unirla al resto de la frase. Otra forma de hacer lo mismo sería:"
      ]
    },
    {
      "cell_type": "code",
      "metadata": {
        "id": "rSV49BfHv_Y5",
        "colab_type": "code",
        "colab": {}
      },
      "source": [
        "print(\"Hola, me llamo\", nombre, \"y tengo\", edad, \"años.\")"
      ],
      "execution_count": 0,
      "outputs": []
    },
    {
      "cell_type": "markdown",
      "metadata": {
        "id": "mBm6_XVzv_vJ",
        "colab_type": "text"
      },
      "source": [
        "Esto produce exactamente el mismo resultado y no necesita ningún tipo de función de conversión para la variable `edad`. Fíjate en que tampoco necesitamos añadir espacios extra. \n",
        "\n",
        "Ahora veamos por qué es importante tener en cuenta qué información tiene cada variable y cómo la gestionamos. Aquí haremos algunas asignaciones a dos variables, `a` y `b`:"
      ]
    },
    {
      "cell_type": "code",
      "metadata": {
        "id": "GTKdUgt80oRU",
        "colab_type": "code",
        "colab": {}
      },
      "source": [
        "a = \"Esto es información importante, no la pierdas\"\n",
        "b = \"Esto también es información importante\"\n",
        "a = \"Información importante 2.0\""
      ],
      "execution_count": 0,
      "outputs": []
    },
    {
      "cell_type": "markdown",
      "metadata": {
        "id": "TnlPVhpa05-S",
        "colab_type": "text"
      },
      "source": [
        "Qué crees que pasará al mostrar por pantalla ambas variables? Veamos"
      ]
    },
    {
      "cell_type": "code",
      "metadata": {
        "id": "1_m2kXjP06W2",
        "colab_type": "code",
        "colab": {}
      },
      "source": [
        "print(a)\n",
        "print(b)"
      ],
      "execution_count": 0,
      "outputs": []
    },
    {
      "cell_type": "markdown",
      "metadata": {
        "id": "kQIaAQf_06pa",
        "colab_type": "text"
      },
      "source": [
        "Exacto, hemos perdido la primera información importante. Al hacer la asignación `a = \"Información importante 2.0\"` hemos eliminado la anterior asignación, que correspondía a `a = \"Esto es información importante, no la pierdas\"`.\n",
        "\n",
        "Es importante tener en cuenta cuando se sobreescriben variables en un código, no querríamos perder información que luego vayamos a necesitar!\n",
        "\n",
        "Lo que sí podemos hacer es copiar variables:"
      ]
    },
    {
      "cell_type": "code",
      "metadata": {
        "id": "995IdQAB2Rfw",
        "colab_type": "code",
        "colab": {}
      },
      "source": [
        "a = \"Esto es información importante, no la pierdas\"\n",
        "b = \"Esto también es información importante\"\n",
        "c = a\n",
        "a = \"Información importante 2.0\"\n",
        "\n",
        "print(a)\n",
        "print(b)\n",
        "print(c)"
      ],
      "execution_count": 0,
      "outputs": []
    },
    {
      "cell_type": "markdown",
      "metadata": {
        "id": "3Uq9K8Ml2d7Q",
        "colab_type": "text"
      },
      "source": [
        "Ahora la variable `c` guarda el contenido original de la variable `a`, así no lo perdemos al sobreescribir la variable `a`.\n",
        "\n",
        "Existen múltiples formas en que la información se puede pasar a las variables. Ya hemos visto que podemos asignar directamente un valor a una variable (por ejemplo `a = 1`) o hacer copias de otras variables (por ejemplo `c = a`). También podeos introducir nosotros la información desde el teclado:"
      ]
    },
    {
      "cell_type": "code",
      "metadata": {
        "id": "Qc_OBKAE9jfM",
        "colab_type": "code",
        "colab": {}
      },
      "source": [
        "inp = input(\"Escribe tu texto aquí: \")\n",
        "print(inp)\n",
        "print(type(inp))"
      ],
      "execution_count": 0,
      "outputs": []
    },
    {
      "cell_type": "markdown",
      "metadata": {
        "id": "_EASJ3eb-L-C",
        "colab_type": "text"
      },
      "source": [
        "Esto es útil! Veamos qué pasa si escribimos un número:"
      ]
    },
    {
      "cell_type": "code",
      "metadata": {
        "id": "Tu92_NHh9wWo",
        "colab_type": "code",
        "colab": {}
      },
      "source": [
        "inp = input(\"Ahora escribe un número: \")\n",
        "print(inp)\n",
        "print(type(inp))"
      ],
      "execution_count": 0,
      "outputs": []
    },
    {
      "cell_type": "markdown",
      "metadata": {
        "id": "v-uwT6gw-Xw-",
        "colab_type": "text"
      },
      "source": [
        "Los números son interpretados como **strings** si se escriben desde el teclado. Si luego quieres tratarlos como números y hacer operaciones matemáticas con ellos asegúrate de convertirlos a los tipos de variable adecuados usando `int()` para convertirlos a **integer** o `float()` para convertirlos a **float**.\n",
        "\n",
        "A continuación tienes algunos ejercicios para practicar los conceptos que has visto de variables:"
      ]
    },
    {
      "cell_type": "markdown",
      "metadata": {
        "id": "Yo7y5ekRMpcn",
        "colab_type": "text"
      },
      "source": [
        "### **Ejercicios Sesión 2**"
      ]
    },
    {
      "cell_type": "markdown",
      "metadata": {
        "id": "BnqT__W_MszJ",
        "colab_type": "text"
      },
      "source": [
        "**Ejercicio 1**\n",
        "\n",
        "En este primer ejercicio hay 10 variables que han sido inicializadas de alguna forma. Debes responder cuál será el resultado de mostrar por pantalla cada una de estas variables (por ejemplo, si `a = 1` entonces `print(a) --> 1`)\n",
        "\n",
        "```\n",
        "a = 12 // 8\n",
        "b = int(4.8)\n",
        "c = 2 ** 3\n",
        "d = 10 % 7\n",
        "e = True + True + True\n",
        "f = True * False * True\n",
        "g = float(\"3.4\")\n",
        "h = str(c) + \"8\"  # Ojo! En este caso c equivale a la variable c\n",
        "i = 5 + 3.0\n",
        "j = float(int(5.6) - int(2.3))\n",
        "```\n",
        "\n",
        "Completa la siguiente celda con el resultado que generaría la instrucción `print()` para cada una de las variables. "
      ]
    },
    {
      "cell_type": "markdown",
      "metadata": {
        "id": "lqkXDifd8TiR",
        "colab_type": "text"
      },
      "source": [
        "\n",
        "```\n",
        "# Completa\n",
        "print(a) --> \n",
        "print(b) --> \n",
        "print(c) --> \n",
        "print(d) --> \n",
        "print(e) --> \n",
        "print(f) --> \n",
        "print(g) --> \n",
        "print(h) --> \n",
        "print(i) --> \n",
        "print(j) --> \n",
        "```"
      ]
    },
    {
      "cell_type": "markdown",
      "metadata": {
        "id": "1mamRPMqb2HQ",
        "colab_type": "text"
      },
      "source": [
        "**Ejercicio 2**\n",
        "\n",
        "La variable `temp_A` representa la temperatura de la ciudad A. Sabemos que en cualquier momento, la temperatura de la ciudad B es siempre 5 grados menor que la de la ciudad A. Tu objetivo es completar la celda de código para determinar la expresión de `temp_B` (la variable que representa la temperatura de la ciudad B) y añadir dos instrucciones `print()` en las que se muestre las temperaturas de cada ciudad. Por ejemplo:\n",
        "\n",
        "\n",
        "Si `temp_A` es `21.5`, entonces la celda, al ejecutarse, debe mostrar por pantalla:\n",
        "\n",
        "```\n",
        "\"La temperatura de la ciudad A es 21.5 grados\"\n",
        "\"La temperatura de la ciudad B es 16.5 grados\"\n",
        "```\n",
        "\n",
        "Ahora es tu turno de completar la celda!"
      ]
    },
    {
      "cell_type": "code",
      "metadata": {
        "id": "qhAijxJGdIq_",
        "colab_type": "code",
        "colab": {}
      },
      "source": [
        "temp_A = 21.5\n",
        "\n",
        "# A partir de aquí escribe tu código\n",
        "\n",
        "temp_B = # Completa (tiene que estar en función de temp_A)\n",
        "# Añade las instrucciones print()"
      ],
      "execution_count": 0,
      "outputs": []
    },
    {
      "cell_type": "markdown",
      "metadata": {
        "id": "UICfqarSdUo3",
        "colab_type": "text"
      },
      "source": [
        "Puedes probar tu código con distintos valores para `temp_A` y ver lo que pasa!"
      ]
    },
    {
      "cell_type": "markdown",
      "metadata": {
        "id": "VkgX5OqCsZjf",
        "colab_type": "text"
      },
      "source": [
        "**Ejercicio 3**\n",
        "\n",
        "En este ejercicio resolverás el siguiente problema: hay un camión que realiza viajes entre una granja con naranjos y una ciudad cercana. El camión puede cargar un total de `capacidad` de naranjas (aquí `capacidad` representa una variable que guarda un número). Cierto día, el número de naranjas que se recogen es `num_naranjas`. Queremos calcular cuántos viajes completos el camión debe realizar entre la granja y la ciudad (un viaje completo es un viaje en el que el camión no puede cargar más naranjas) y cuántas naranjas quedan en la granja cuando el camión finaliza su último viaje completo.\n",
        "\n",
        "Completa la celda de código que viene a continuación en la que se inicializan las variables `capacidad` y `num_naranjas`. Debes crear 2 variables adicionales llamadas `num_viajes_completos` y `naranjas_granja`, que representan el número total de viajes completos y el número de naranjas que quedan en la granja. **Todas las variables en este ejercicio deben ser del tipo `integer`**."
      ]
    },
    {
      "cell_type": "code",
      "metadata": {
        "id": "LSsECukVtrqC",
        "colab_type": "code",
        "colab": {}
      },
      "source": [
        "capacidad = 15\n",
        "num_naranjas = 50\n",
        "\n",
        "# A partir de aquí tu código \n",
        "# Añade las variables num_viajes_completos y naranjas_granja (en función de las variables ya creadas)\n",
        "\n",
        "\n"
      ],
      "execution_count": 0,
      "outputs": []
    },
    {
      "cell_type": "markdown",
      "metadata": {
        "id": "eKNn30gtuLXt",
        "colab_type": "text"
      },
      "source": [
        "Prueba a ver qué pasa si cambias los valores de `capacidad` y `num_naranjas`!"
      ]
    },
    {
      "cell_type": "markdown",
      "metadata": {
        "id": "4kuLi1_uqh47",
        "colab_type": "text"
      },
      "source": [
        "**Ejercicio 4**\n",
        "\n",
        "Las variables `a`, `b` y `c` contienen los números 1, 2 y 3, respectivamente. ¿Podrías hacer que se intercambiaran los números entre ellas? Debes completar la celda de código que viene a continuación y añadir líneas de código para conseguir que `b` valga 1, `c` valga 2 y finalmente `a` valga 3. Para ello **no** puedes volver a asignar los números a las variables, el objetivo es que tu código funcione para valores distintos que no sean 1, 2 y 3. *Pista*: si haces `a = b`, `a` tomará el valor 2.\n",
        "\n",
        "Al final de la celda añadimos una instrucción `print()` para comprobar el resultado. Si está bien deberías ver lo siguiente: `3 1 2`."
      ]
    },
    {
      "cell_type": "code",
      "metadata": {
        "id": "HQg3OnKhrnrb",
        "colab_type": "code",
        "colab": {}
      },
      "source": [
        "a = 1\n",
        "b = 2\n",
        "c = 3\n",
        "\n",
        "# A partir de aquí escribe tu código\n",
        "\n",
        "\n",
        "\n",
        "# Instrucción print (no añadas nada más a partir de aquí)\n",
        "print(a, b, c)"
      ],
      "execution_count": 0,
      "outputs": []
    },
    {
      "cell_type": "markdown",
      "metadata": {
        "id": "ncMXab3nWCTx",
        "colab_type": "text"
      },
      "source": [
        "### **Solución a los ejercicios de la Sesión 1**"
      ]
    },
    {
      "cell_type": "markdown",
      "metadata": {
        "id": "LEPx715LWb1D",
        "colab_type": "text"
      },
      "source": [
        "**Ejercicio 1**\n",
        "\n",
        "¿Puedes adivinar de qué tipo es cada elemento en la siguiente lista? Acuérdate que has visto 3 tipos de elementos distintos: **integer**, **float** y **string**.\n",
        "\n",
        "```\n",
        "a) \"i_am_an_integer\"\n",
        "b) 3.54\n",
        "c) 7 // 8\n",
        "d) 1\n",
        "e) \"hola\" + \"adiós\"\n",
        "f) 4e4\n",
        "g) 12 / 3\n",
        "```\n",
        "\n",
        "Completa la siguiente celda con el tipo de cada variable (por ejemplo, `a --> integer`)"
      ]
    },
    {
      "cell_type": "markdown",
      "metadata": {
        "id": "SHWC0YH_XMbV",
        "colab_type": "text"
      },
      "source": [
        "```\n",
        "# A completar\n",
        "a -->  String\n",
        "b -->  Float\n",
        "c -->  Integer\n",
        "d -->  Integer\n",
        "e -->  String\n",
        "f -->  Float\n",
        "g -->  Float\n",
        "```"
      ]
    },
    {
      "cell_type": "markdown",
      "metadata": {
        "id": "9cAjc1EtXfOW",
        "colab_type": "text"
      },
      "source": [
        "**Ejercicio 2**\n",
        "\n",
        "Escribe las siguientes operaciones en Python:\n",
        "\n",
        "**1. Multiplica 3 por 2 y súmale 1**"
      ]
    },
    {
      "cell_type": "code",
      "metadata": {
        "id": "iGmheU4lXeZ7",
        "colab_type": "code",
        "colab": {}
      },
      "source": [
        "# Escribe tu operación aquí\n",
        "print(3 * 2 + 1)"
      ],
      "execution_count": 0,
      "outputs": []
    },
    {
      "cell_type": "markdown",
      "metadata": {
        "id": "mVmgT4NIXwIf",
        "colab_type": "text"
      },
      "source": [
        "**2. Calcula la división entre 1234321 y 1111**"
      ]
    },
    {
      "cell_type": "code",
      "metadata": {
        "id": "jkKaBf3XWBYG",
        "colab_type": "code",
        "colab": {}
      },
      "source": [
        "# Escribe tu operación aquí\n",
        "print(1234321 / 1111)"
      ],
      "execution_count": 0,
      "outputs": []
    },
    {
      "cell_type": "markdown",
      "metadata": {
        "id": "j4nwFS2UYC6j",
        "colab_type": "text"
      },
      "source": [
        "**3. Calcula cuánto es 9 al cubo**"
      ]
    },
    {
      "cell_type": "code",
      "metadata": {
        "id": "iaOC1Pf-YIPU",
        "colab_type": "code",
        "colab": {}
      },
      "source": [
        "# Escribe tu operación aquí\n",
        "print(9 ** 3)"
      ],
      "execution_count": 0,
      "outputs": []
    },
    {
      "cell_type": "markdown",
      "metadata": {
        "id": "YG0_dwTKYPMr",
        "colab_type": "text"
      },
      "source": [
        "**4. Calcula la parte entera y el residuo (por separado) que resulta al dividir 26 entre 4**"
      ]
    },
    {
      "cell_type": "code",
      "metadata": {
        "id": "5g2Q2gjTYdB1",
        "colab_type": "code",
        "colab": {}
      },
      "source": [
        "# Escribe tus operaciones aquí\n",
        "print(26 // 4)\n",
        "print(26 % 4)"
      ],
      "execution_count": 0,
      "outputs": []
    },
    {
      "cell_type": "markdown",
      "metadata": {
        "id": "KxQBEibqYgdc",
        "colab_type": "text"
      },
      "source": [
        "**5. Escribe la frase \"Me llamo .....\" a partir de las palabras que la componen. Pon tu nombre en vez de los puntos.**\n",
        "\n",
        "Pista: Un string que corresponda a un espacio se escribe así `\" \"`."
      ]
    },
    {
      "cell_type": "code",
      "metadata": {
        "id": "708LUghAY0Ls",
        "colab_type": "code",
        "colab": {}
      },
      "source": [
        "# Escribe tu operación aquí\n",
        "print(\"Me\" + \" \" + \"llamo\" + \" \" + \"......\")"
      ],
      "execution_count": 0,
      "outputs": []
    }
  ]
}