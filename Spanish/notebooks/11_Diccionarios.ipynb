{
  "nbformat": 4,
  "nbformat_minor": 0,
  "metadata": {
    "colab": {
      "name": "11 Diccionarios.ipynb",
      "provenance": [],
      "collapsed_sections": [],
      "include_colab_link": true
    },
    "kernelspec": {
      "name": "python3",
      "display_name": "Python 3"
    }
  },
  "cells": [
    {
      "cell_type": "markdown",
      "metadata": {
        "id": "view-in-github",
        "colab_type": "text"
      },
      "source": [
        "<a href=\"https://colab.research.google.com/github/jjgarau/Python-Classes/blob/master/Spanish/notebooks/11_Diccionarios.ipynb\" target=\"_parent\"><img src=\"https://colab.research.google.com/assets/colab-badge.svg\" alt=\"Open In Colab\"/></a>"
      ]
    },
    {
      "cell_type": "markdown",
      "metadata": {
        "colab_type": "text",
        "id": "26IHzE7Rd4hz"
      },
      "source": [
        "# **Introducción a Python: Sesión 11**\n",
        "\n",
        "Material creado por Juanjo Garau (garau@mit.edu)"
      ]
    },
    {
      "cell_type": "markdown",
      "metadata": {
        "id": "hw2BPNFq3PJf",
        "colab_type": "text"
      },
      "source": [
        "## **Diccionarios**\n",
        "\n",
        "En este *notebook* aprenderás qué es un **diccionario** en Python, conocidos como **mapas** o **tablas de hash** en otros lenguajes de programación. Los diccionarios son iteradores que nos permiten guardar la información de una forma muy útil. \n",
        "\n",
        "Empezaremos entendiendo qué es un diccionario mediante un pequeño ejemnplo. En el *notebook* sobre listas vimos que un ejemplo de lista podría ser la típica lista de la compra:"
      ]
    },
    {
      "cell_type": "code",
      "metadata": {
        "id": "twad4v1gfIdY",
        "colab_type": "code",
        "colab": {}
      },
      "source": [
        "lista_de_la_compra = ['leche', 'cebollas', 'chocolate', 'huevos']"
      ],
      "execution_count": 0,
      "outputs": []
    },
    {
      "cell_type": "markdown",
      "metadata": {
        "id": "AzCrdXuXfLx9",
        "colab_type": "text"
      },
      "source": [
        "de primeras podemos ver por qué esto es útil, pero qué pasaría si necesitaramos comprar diferentes cantidades de cada producto? Podríamos hacer lo siguiente:"
      ]
    },
    {
      "cell_type": "code",
      "metadata": {
        "id": "hLE1l49fKv34",
        "colab_type": "code",
        "colab": {}
      },
      "source": [
        "lista_de_la_compra = ['leche', 'cebollas', 'chocolate', 'huevos']\n",
        "cantidades = [1, 3, 10, 24]"
      ],
      "execution_count": 0,
      "outputs": []
    },
    {
      "cell_type": "markdown",
      "metadata": {
        "id": "MVPL1ko0fmVj",
        "colab_type": "text"
      },
      "source": [
        "Pero de esta forma tendríamos que tener en cuenta dos listas a la vez, una para los productos y otra para las cantidades. Esto podría ser ineficiente si hubiera que hacer cambios frecuentes a la lista de la compra.\n",
        "\n",
        "Otra opción sería simplemente tener una lista enorme que tuviera en cuenta todos los productos que nos podríamos encontrar en el (super)mercado y tener una `lista_de_la_compra` que únicamente vaya controlando las cantidades que necesitamos de cada producto. De esta manera, si no queremos comprar algún producto en concreto, simplemente ponemos un `0` en la posición de la lista que ocupa ese producto. Por ejemplo, en un mercado imaginario en el que sólo hubiera 10 productos tendríamos algo de este estilo:"
      ]
    },
    {
      "cell_type": "code",
      "metadata": {
        "id": "hONnzodhflvL",
        "colab_type": "code",
        "colab": {}
      },
      "source": [
        "productos = ['agua', 'leche', 'cebollas', 'zanahorias', 'pimientos', 'pasta', 'helado', 'chocolate', 'galletas', 'huevos']\n",
        "lista_de_la_compra = [0, 1, 3, 0, 0, 0, 0, 10, 0, 24]"
      ],
      "execution_count": 0,
      "outputs": []
    },
    {
      "cell_type": "markdown",
      "metadata": {
        "id": "D1oFg5bWgwkf",
        "colab_type": "text"
      },
      "source": [
        "No obstante, algunos supermercados tienen miles y miles de productos distintos, y por tanto guardar una lista tan grande no es la forma más eficiente de proceder. Además, cada semana hay productos nuevos y productos que desaparecen, y por tanto sería difícil adaptarse a todos esos cambios.\n",
        "\n",
        "Ahora que vemos el problema, no crees que sería fantástico tener algo que nos dejara hacer lo siguiente? \n",
        "\n",
        "```\n",
        "lista_de_la_compra['leche'] = 1\n",
        "lista_de_la_compra['cebollas'] = 3\n",
        "lista_de_la_compra['chocolate'] = 10\n",
        "lista_de_la_compra['huevos'] = 24\n",
        "```\n",
        "\n",
        "Esta estructura existe y se llama **diccionario**!\n",
        "\n",
        "**Conceptos básicos**\n",
        "\n",
        "Podemos crear/inicializar un diccionario de la siguiente forma:"
      ]
    },
    {
      "cell_type": "code",
      "metadata": {
        "id": "lIpSrhTxgv3A",
        "colab_type": "code",
        "colab": {}
      },
      "source": [
        "lista_de_la_compra = {}"
      ],
      "execution_count": 0,
      "outputs": []
    },
    {
      "cell_type": "markdown",
      "metadata": {
        "id": "xevhZqAfjrDs",
        "colab_type": "text"
      },
      "source": [
        "Es parecido a inicializar una **lista**:"
      ]
    },
    {
      "cell_type": "code",
      "metadata": {
        "id": "k7EV_aSRjnf_",
        "colab_type": "code",
        "colab": {}
      },
      "source": [
        "inicializacion_lista = []\n",
        "inicializacion_diccionario = {}"
      ],
      "execution_count": 0,
      "outputs": []
    },
    {
      "cell_type": "markdown",
      "metadata": {
        "id": "7PVqZ-NXj20E",
        "colab_type": "text"
      },
      "source": [
        "Una **lista** guarda elementos que pueden ser accedidos mediante el índice de su posición, por ejemplo `lista[3]` o `lista[-1]`. La forma de acceder a los elementos de una lista es mediante sus índices, que son números **integer**.\n",
        "\n",
        "Los **diccionarios** funcionan de forma similar pero pueden usar múltiples **tipos** de elementos para acceder a la información. En el ejemplo de la lista de la compra, usamos **strings** para acceder a valores **integer** (por ejemplo `lista_de_la_compra['cebollas'] = 3`).\n",
        "\n",
        "Los elementos que nos permiten acceder a la información se llaman **llaves** (*keys* en inglés) y la información guardada en el diccionario se llaman **valores** (*values* en inglés). Por ejemplo, en el caso de la lista de la compra, al hacer `lista_de_la_compra['cebollas'] = 3`, `'cebollas'` es la llave y `3` es el valor. \n",
        "\n",
        "Podemos añadir elementos a un diccionario vacío de la siguiente manera:"
      ]
    },
    {
      "cell_type": "code",
      "metadata": {
        "id": "xgcKMz1Hj1ps",
        "colab_type": "code",
        "colab": {}
      },
      "source": [
        "diccionario = {}\n",
        "print(diccionario)\n",
        "diccionario['cebollas'] = 3\n",
        "diccionario['chocolate'] = 10\n",
        "print(diccionario)"
      ],
      "execution_count": 0,
      "outputs": []
    },
    {
      "cell_type": "markdown",
      "metadata": {
        "id": "NhJb6TFBmljX",
        "colab_type": "text"
      },
      "source": [
        "Fíjate en cómo se muestra un diccionario por pantalla al usar la instrucción `print()`. Si copiamos esta estructura podemos inicializar diccionarios con algunos elementos iniciales dentro:"
      ]
    },
    {
      "cell_type": "code",
      "metadata": {
        "id": "jhZCTYiUkhWX",
        "colab_type": "code",
        "colab": {}
      },
      "source": [
        "diccionario = {'cebollas': 3, 'chocolate': 10, 'leche': 1, 'huevos': 24}\n",
        "print(diccionario)"
      ],
      "execution_count": 0,
      "outputs": []
    },
    {
      "cell_type": "markdown",
      "metadata": {
        "id": "JI19-2kamyP4",
        "colab_type": "text"
      },
      "source": [
        "Podemos cambiar el valor de algún elemento de la misma forma que se hace en una lista:"
      ]
    },
    {
      "cell_type": "code",
      "metadata": {
        "id": "Sh3zXdwykiFR",
        "colab_type": "code",
        "colab": {}
      },
      "source": [
        "diccionario = {'cebollas': 3, 'chocolate': 10, 'leche': 1, 'huevos': 24}\n",
        "print(diccionario)\n",
        "diccionario['chocolate'] = 100\n",
        "print(diccionario)"
      ],
      "execution_count": 0,
      "outputs": []
    },
    {
      "cell_type": "markdown",
      "metadata": {
        "id": "vreIG2WnnNas",
        "colab_type": "text"
      },
      "source": [
        "Únicamente podemos tener un valor asociado para cada llave y las llaves son únicas. \n",
        "\n",
        "**Longitud de un diccionario**\n",
        "\n",
        "Como en el caso de las listas, podemos mirar cuál es la longitud de un diccionario de la siguiente forma:"
      ]
    },
    {
      "cell_type": "code",
      "metadata": {
        "id": "535dw4TGnMik",
        "colab_type": "code",
        "colab": {}
      },
      "source": [
        "diccionario = {'cebollas': 3, 'chocolate': 10, 'leche': 1, 'huevos': 24}\n",
        "print(len(diccionario))\n",
        "diccionario['agua'] = 0\n",
        "print(len(diccionario))"
      ],
      "execution_count": 0,
      "outputs": []
    },
    {
      "cell_type": "markdown",
      "metadata": {
        "id": "OhAV8_CunwTs",
        "colab_type": "text"
      },
      "source": [
        "**Llaves y valores**\n",
        "\n",
        "Otra característica interesante de los diccionarios es que pdoemos obtener sus llaves y valores de forma separada, como ocurre en la siguiente celda:"
      ]
    },
    {
      "cell_type": "code",
      "metadata": {
        "id": "TO4Zn82Cnqzl",
        "colab_type": "code",
        "colab": {}
      },
      "source": [
        "diccionario = {'cebollas': 3, 'chocolate': 10, 'leche': 1, 'huevos': 24}\n",
        "print(diccionario)\n",
        "print(diccionario.keys())\n",
        "print(diccionario.values())"
      ],
      "execution_count": 0,
      "outputs": []
    },
    {
      "cell_type": "markdown",
      "metadata": {
        "id": "Ya7GU_Oon_XF",
        "colab_type": "text"
      },
      "source": [
        "`dict_keys` y `dict_values` son estructuras intermedias, si queremos obtener **listas** para las llaves y valores lo podemos hacer así:"
      ]
    },
    {
      "cell_type": "code",
      "metadata": {
        "id": "hjbX6aM2n-oH",
        "colab_type": "code",
        "colab": {}
      },
      "source": [
        "diccionario = {'cebollas': 3, 'chocolate': 10, 'leche': 1, 'huevos': 24}\n",
        "dict_keys = list(diccionario.keys())\n",
        "dict_values = list(diccionario.values())\n",
        "\n",
        "print(dict_keys)\n",
        "print(dict_values)"
      ],
      "execution_count": 0,
      "outputs": []
    },
    {
      "cell_type": "markdown",
      "metadata": {
        "id": "pFV9BlCCoLji",
        "colab_type": "text"
      },
      "source": [
        "**Iteraciones**\n",
        "\n",
        "Ya que los diccionarios son **iteradores**, podemos realizar iteraciones sobre ellos. La forma más sencilla es hacerlo con un iterador **for**:"
      ]
    },
    {
      "cell_type": "code",
      "metadata": {
        "id": "pCdA0_kTn74V",
        "colab_type": "code",
        "colab": {}
      },
      "source": [
        "diccionario = {'cebollas': 3, 'chocolate': 10, 'leche': 1, 'huevos': 24}\n",
        "for k in diccionario:\n",
        "  print(k)"
      ],
      "execution_count": 0,
      "outputs": []
    },
    {
      "cell_type": "markdown",
      "metadata": {
        "id": "sNe3JDeBocPK",
        "colab_type": "text"
      },
      "source": [
        "Como observas, al iterar sobre un diccionario estamos iterando sobre sus llaves. Si quisieramos acceder a sus valores haríamos:"
      ]
    },
    {
      "cell_type": "code",
      "metadata": {
        "id": "VULNj7B5obk0",
        "colab_type": "code",
        "colab": {}
      },
      "source": [
        "diccionario = {'cebollas': 3, 'chocolate': 10, 'leche': 1, 'huevos': 24}\n",
        "for k in diccionario:\n",
        "  print(diccionario[k])"
      ],
      "execution_count": 0,
      "outputs": []
    },
    {
      "cell_type": "markdown",
      "metadata": {
        "id": "nPEv4Wbyotrn",
        "colab_type": "text"
      },
      "source": [
        "O también podemos usar las listas que hemos generado anteriormente (`dict_keys` y `dict_values`).\n",
        "\n",
        "No obstante, existe un método para iterar, **simultáneamente**, sobre las llaves y los valores de un diccionario. Es la siguiente:"
      ]
    },
    {
      "cell_type": "code",
      "metadata": {
        "id": "fiScpNpFosSP",
        "colab_type": "code",
        "colab": {}
      },
      "source": [
        "diccionario = {'cebollas': 3, 'chocolate': 10, 'leche': 1, 'huevos': 24}\n",
        "for k, v in diccionario.items():\n",
        "  print(k, v)"
      ],
      "execution_count": 0,
      "outputs": []
    },
    {
      "cell_type": "markdown",
      "metadata": {
        "id": "8jXK330Fo_oC",
        "colab_type": "text"
      },
      "source": [
        "Exacto! Sólo tenemos que añadir el atributo `.items()` a `diccionario` cuando escribimos la estructura `for`.\n",
        "\n",
        "**Estructuras condicionales**\n",
        "\n",
        "Recuerdas que en una **lista** podemos comprobar si un elemento específico está contenido en ella? Lo hacemos de la siguiente forma:"
      ]
    },
    {
      "cell_type": "code",
      "metadata": {
        "id": "TVnF5Fdwo_WM",
        "colab_type": "code",
        "colab": {}
      },
      "source": [
        "lista = [1, 2, 3, 4, 5, 6]\n",
        "print(3 in lista)\n",
        "print(9 in lista)"
      ],
      "execution_count": 0,
      "outputs": []
    },
    {
      "cell_type": "markdown",
      "metadata": {
        "id": "rBhga6Expu-v",
        "colab_type": "text"
      },
      "source": [
        "En el caso de los diccionarios hay una estructura similar pero se comprueban las llaves de los diccionarios:"
      ]
    },
    {
      "cell_type": "code",
      "metadata": {
        "id": "AUccocJIorjV",
        "colab_type": "code",
        "colab": {}
      },
      "source": [
        "diccionario = {'cebollas': 3, 'chocolate': 10, 'leche': 1, 'huevos': 24}\n",
        "print('cebollas' in diccionario)\n",
        "print('agua' in diccionario)\n",
        "print(5 in diccionario)\n",
        "print(4.5 in diccionario)"
      ],
      "execution_count": 0,
      "outputs": []
    },
    {
      "cell_type": "markdown",
      "metadata": {
        "id": "lM6-nc9yqIMl",
        "colab_type": "text"
      },
      "source": [
        "**Eliminar elementos**\n",
        "\n",
        "Podemos eliminar elementos de un diccionario de la siguiente manera:"
      ]
    },
    {
      "cell_type": "code",
      "metadata": {
        "id": "XC-33hImqAHK",
        "colab_type": "code",
        "colab": {}
      },
      "source": [
        "diccionario = {'cebollas': 3, 'chocolate': 10, 'leche': 1, 'huevos': 24}\n",
        "print(diccionario)\n",
        "del diccionario['leche']\n",
        "print(diccionario)"
      ],
      "execution_count": 0,
      "outputs": []
    },
    {
      "cell_type": "markdown",
      "metadata": {
        "id": "ncKn2q6dqgob",
        "colab_type": "text"
      },
      "source": [
        "**Cuidado**! Si no especificas una llave en concreto vas a eliminar el diccionario en si:"
      ]
    },
    {
      "cell_type": "code",
      "metadata": {
        "id": "fWWJMmAxqXaE",
        "colab_type": "code",
        "colab": {}
      },
      "source": [
        "diccionario = {'cebollas': 3, 'chocolate': 10, 'leche': 1, 'huevos': 24}\n",
        "print(diccionario)\n",
        "del diccionario\n",
        "print(diccionario)"
      ],
      "execution_count": 0,
      "outputs": []
    },
    {
      "cell_type": "markdown",
      "metadata": {
        "id": "H-dmNkJ-qqlW",
        "colab_type": "text"
      },
      "source": [
        "Si quieres simplemente \"vaciar\" un diccionario lo tienes que hacer de la siguiente manera:"
      ]
    },
    {
      "cell_type": "code",
      "metadata": {
        "id": "5AOxWG6Nqo2-",
        "colab_type": "code",
        "colab": {}
      },
      "source": [
        "diccionario = {'cebollas': 3, 'chocolate': 10, 'leche': 1, 'huevos': 24}\n",
        "print(diccionario)\n",
        "diccionario.clear()\n",
        "print(diccionario)"
      ],
      "execution_count": 0,
      "outputs": []
    },
    {
      "cell_type": "markdown",
      "metadata": {
        "id": "jHkxaa4TrH17",
        "colab_type": "text"
      },
      "source": [
        "**Copiar un diccionario**\n",
        "\n",
        "Finalmente, los diccionarios tienen el mismo problema que las listas cuando intentamos hacer copias de ellos:"
      ]
    },
    {
      "cell_type": "code",
      "metadata": {
        "id": "vSrpx4GCqwkP",
        "colab_type": "code",
        "colab": {}
      },
      "source": [
        "diccionario1 = {'cebollas': 3, 'chocolate': 10, 'leche': 1, 'huevos': 24}\n",
        "diccionario2 = diccionario1\n",
        "diccionario1['agua'] = 9\n",
        "print(diccionario1)\n",
        "print(diccionario2)"
      ],
      "execution_count": 0,
      "outputs": []
    },
    {
      "cell_type": "markdown",
      "metadata": {
        "id": "6EHR9Q74r1d1",
        "colab_type": "text"
      },
      "source": [
        "Para copiar un diccionario correctamente, lo debemos hacer de la siguiente forma:"
      ]
    },
    {
      "cell_type": "code",
      "metadata": {
        "id": "JH4I0pAxr0aw",
        "colab_type": "code",
        "colab": {}
      },
      "source": [
        "diccionario1 = {'cebollas': 3, 'chocolate': 10, 'leche': 1, 'huevos': 24}\n",
        "diccionario2 = diccionario1.copy() # Añadimos el atributo .copy() al final\n",
        "diccionario1['agua'] = 9\n",
        "print(diccionario1)\n",
        "print(diccionario2)"
      ],
      "execution_count": 0,
      "outputs": []
    },
    {
      "cell_type": "markdown",
      "metadata": {
        "colab_type": "text",
        "id": "cP5ktc4hF-q3"
      },
      "source": [
        "### **Ejercicios Sesión 11**"
      ]
    },
    {
      "cell_type": "markdown",
      "metadata": {
        "colab_type": "text",
        "id": "UxFueyq2F-q4"
      },
      "source": [
        "**Ejercicio 1**\n",
        "\n",
        "El diccionario `d` contiene diferentes productos como llaves y sus precios como valores. Completa la celda que sigue para que se vayan mostrando uno a uno cada producto con su precio de la siguiente forma:\n",
        "\n",
        "```\n",
        "El precio del producto .... es ....\n",
        "```\n",
        "\n",
        "Completa la celda y haz pruebas para distintos diccionarios."
      ]
    },
    {
      "cell_type": "code",
      "metadata": {
        "id": "CgsxHFypIHgu",
        "colab_type": "code",
        "colab": {}
      },
      "source": [
        "d = {'nevera': 300, 'horno': 250, 'microondas': 50}\n",
        "\n",
        "# Completa con tu código\n"
      ],
      "execution_count": 0,
      "outputs": []
    },
    {
      "cell_type": "markdown",
      "metadata": {
        "id": "6ep7ah8kISRr",
        "colab_type": "text"
      },
      "source": [
        "**Ejercicio 2**\n",
        "\n",
        "En la celda que sigue hay dos listas llamadas `lista_llaves` y `lista_valores`. Tu tarea es construir un diccionario a partir de estas dos listas. Los elementos en las listas están ordenados, es decir, la el primer elemento de `lista_llaves` es la llave del primer elemento en `lista_valores`."
      ]
    },
    {
      "cell_type": "code",
      "metadata": {
        "id": "FAnuYq5ZIq-l",
        "colab_type": "code",
        "colab": {}
      },
      "source": [
        "lista_llaves = [3, 9, 12, 56, 90, 101, 234]\n",
        "lista_valores = [4.55, 23.44, 2.23, 6.75, 4.69, 34.53, 35.23]\n",
        "\n",
        "# Completa con tu código\n",
        "\n"
      ],
      "execution_count": 0,
      "outputs": []
    },
    {
      "cell_type": "markdown",
      "metadata": {
        "id": "oMh0_uHdI0OF",
        "colab_type": "text"
      },
      "source": [
        "**Ejercicio 3**\n",
        "\n",
        "Tu objetivo en este ejercicio es escribir un código para generar un diccionario que sirva como contador. A partir de la lista `l` debes construir un diccionario que cuente cuántas veces aparece cada elemento distinto en la lista. Las llaves deben ser cada uno de los elementos únicos y los valores el número de veces que aparece ese elemento en la lista `l`. Por ejemplo, si la lista es `['a', 'b', 'b']`, el diccionario sería:\n",
        "\n",
        "```\n",
        "d = {'a': 1, 'b': 2}\n",
        "```\n",
        "\n",
        "Completa la siguiente celda para que tu código funcione sea cual sea la lista `l`y luego haz pruebas con diferentes listas:"
      ]
    },
    {
      "cell_type": "code",
      "metadata": {
        "id": "MA_g1IWyJbg3",
        "colab_type": "code",
        "colab": {}
      },
      "source": [
        "l = [2, 4, 6, 3, 9, 2, 4, 6, 2, 6, 7, 3, 5, 7, 1, 3, 5, 6, 3, 5, 5, 7, 2, 9, 0, 2, 3]\n",
        "\n",
        "# Completa con tu código\n",
        "\n"
      ],
      "execution_count": 0,
      "outputs": []
    },
    {
      "cell_type": "markdown",
      "metadata": {
        "id": "bZ73jiZyJp2a",
        "colab_type": "text"
      },
      "source": [
        "**Ejercicio 4**\n",
        "\n",
        "En este ejercicio hay dos listas con **integers** llamadas `numeros` y `divisores`. Tu objetivo es, a partir de ellas, crear un diccionario que cumpla las condiciones siguientes:\n",
        "\n",
        "* Debe haber una llave por cada elemento en `divisores``\n",
        "* `diccionario[k]` debe contener el número de números de la lista `numeros` que son divisibles por `k`\n",
        "\n",
        "Por ejemplo, si tuvieramos\n",
        "\n",
        "```\n",
        "numeros = [10, 15, 20]\n",
        "divisores = [2, 3]\n",
        "```\n",
        "\n",
        "El diccionario debería ser el siguiente\n",
        "\n",
        "```\n",
        "diccionario = {2: 2, 3: 1}\n",
        "```\n",
        "\n",
        "Ya que dos números (10 y 20) son divisibles entre 2 y sólo un número (15) es divisible por 3. \n",
        "\n",
        "Completa la siguiente celda con tu código y haz pruebas para varias listas distintas."
      ]
    },
    {
      "cell_type": "code",
      "metadata": {
        "id": "QbbzLIcqKdpN",
        "colab_type": "code",
        "colab": {}
      },
      "source": [
        "numeros = [38, 52, 55, 59, 69, 76, 77, 90, 97, 121, 135, 141, 153, 159, 162, 173, 174, 178, 191, 194]\n",
        "divisores = [2, 5, 7, 10, 11, 14, 15, 16]\n",
        "# Para el ejemplo por defecto la solución es {2: 8, 5: 3, 7: 1, 10: 1, 11: 3, 14: 0, 15: 2, 16: 0}\n",
        "\n",
        "# Completa con tu código\n",
        "\n"
      ],
      "execution_count": 0,
      "outputs": []
    },
    {
      "cell_type": "markdown",
      "metadata": {
        "id": "ogWyVBh9ByWl",
        "colab_type": "text"
      },
      "source": [
        "### **Solución a los Ejercicios de la Sesión 10**"
      ]
    },
    {
      "cell_type": "markdown",
      "metadata": {
        "id": "B4c-6KDT8R_y",
        "colab_type": "text"
      },
      "source": [
        "**Ejercicio 1**\n",
        "\n",
        "Representa 16 puntos en una gráfica 2-D de tal forma que los puntos formen un **cuadrado 4 por 4**. Además, los puntos deben ser de **color negro**.\n",
        "\n",
        "Los puntos pueden estar en cualquier posición, lo importante es que formen un cuadrado 4 por 4. No te olvides de añadir `plt.show()`!"
      ]
    },
    {
      "cell_type": "code",
      "metadata": {
        "id": "11tmVv6sEDYo",
        "colab_type": "code",
        "colab": {}
      },
      "source": [
        "import matplotlib.pyplot as plt\n",
        "\n",
        "# Completa con tu código\n",
        "x = []\n",
        "y = []\n",
        "for i in range(4):\n",
        "  for j in range(4):\n",
        "    x.append(i)\n",
        "    y.append(j)\n",
        "print(x)\n",
        "print(y)\n",
        "plt.scatter(x, y, color='k')\n",
        "plt.show()"
      ],
      "execution_count": 0,
      "outputs": []
    },
    {
      "cell_type": "markdown",
      "metadata": {
        "id": "47HvmjfYEJZR",
        "colab_type": "text"
      },
      "source": [
        "**Ejercicio 2**\n",
        "\n",
        "Vuelve a representar un cuadrado en una gráfica 2-D, esta vez el cuadrado debe consistir de **4 líneas** que formen sus cuatro lados. Las líneas serán de diferente color, ya que debes representar 4 parejas de listas `x` e `y`. No te olvides de añadir `plt.show()`!\n",
        "\n"
      ]
    },
    {
      "cell_type": "code",
      "metadata": {
        "id": "2XfWv-6tEvE7",
        "colab_type": "code",
        "colab": {}
      },
      "source": [
        "import matplotlib.pyplot as plt\n",
        "\n",
        "# Completa con tu código\n",
        "x1 = [1, 1]\n",
        "y1 = [1, 2]\n",
        "x2 = [1, 2]\n",
        "y2 = [2, 2]\n",
        "x3 = [2, 2]\n",
        "y3 = [1, 2]\n",
        "x4 = [1, 2]\n",
        "y4 = [1, 1]\n",
        "plt.plot(x1, y1, x2, y2, x3, y3, x4, y4)\n",
        "plt.show()"
      ],
      "execution_count": 0,
      "outputs": []
    },
    {
      "cell_type": "markdown",
      "metadata": {
        "colab_type": "text",
        "id": "b5NzdLTUgYJK"
      },
      "source": [
        "**Ejercicio 3**\n",
        "\n",
        "En este ejercicio vas a representar datos sobre la temperatura media de una ciudad. En las listas `t_max` y `t_min` tienes las temperaturas medias máximas y mínimas por mes en esta ciudad, respectivamente. Por tanto `t_max_F` y `t_min_F` son listas con 12 valores cada una, uno por mes del año. Tu tarea consiste en visualizar cómo evolucionan estas temperaturas a lo largo de los meses.\n",
        "\n",
        "En tu gráfica, también debe aparecer la siguiente información:\n",
        "\n",
        "* Un eje `x` representando los meses, con los números del 1 al 12\n",
        "* Un título para el gráfico: `Temperaturas máxima y mínima medias en la ciudad por mes`\n",
        "* Un título para el eje `x`: `Mes`\n",
        "* Un título para el eje `y`: `Temperatura`\n",
        "* Una leyenda con las siguientes etiquetas: `Máximo` y `Mínimo`\n",
        "\n",
        "No te olvides de añadir `plt.show()`!\n"
      ]
    },
    {
      "cell_type": "code",
      "metadata": {
        "colab_type": "code",
        "id": "yLY5ulXGgYJL",
        "colab": {}
      },
      "source": [
        "import matplotlib.pyplot as plt\n",
        "t_max = [2.2, 3.9, 7.2, 13.3, 18.9, 24.4, 27.2, 26.7, 22.2, 16.1, 10.6, 5.0]\n",
        "t_min = [-5.6, -3.9, -0.6, 5.0, 10.0, 15.6, 18.3, 18.3, 13.9, 8.3, 3.3, -2.2]\n",
        "\n",
        "# Completa con tu código\n",
        "x = [1, 2, 3, 4, 5, 6, 7, 8, 9, 10, 11, 12]\n",
        "plt.plot(x, t_max, x, t_min)\n",
        "plt.title('Temperaturas máxima y mínima medias en la ciudad por mes')\n",
        "plt.xlabel('Mes')\n",
        "plt.ylabel('Temperatura')\n",
        "etiquetas = ['Máximo', 'Mínimo']\n",
        "plt.legend(etiquetas)\n",
        "plt.show()"
      ],
      "execution_count": 0,
      "outputs": []
    },
    {
      "cell_type": "markdown",
      "metadata": {
        "colab_type": "text",
        "id": "wLrxpfmUXjCu"
      },
      "source": [
        "**Ejercicio 4**\n",
        "\n",
        "En este ejercicio tu objetivo es identificar los puntos del espacio en el que dos funciones se cortan entre ellas, por medio de una visualización. Concretamente, tienes que comparar las funciones:\n",
        "\n",
        "* `y = f(x) = 0.1x^3 - x + 1`\n",
        "* `y = f(x) = x^2 + 4x + 4`\n",
        "\n",
        "Debes representar ambas funciones a la vez y examinar dónde se cortan. **Limita el eje `x` al rango de valores entre `[-5, 3]`. No te olvides de añadir `plt.show()`!"
      ]
    },
    {
      "cell_type": "code",
      "metadata": {
        "id": "Q-w9mul2Ib_m",
        "colab_type": "code",
        "colab": {}
      },
      "source": [
        "import matplotlib.pyplot as plt\n",
        "\n",
        "# Completa con tu código\n",
        "x = [-5, -4.5, -4, -3.5, -3, -2.5, -2, -1.5, -1, -0.5, 0, 0.5, 1, 1.5, 2, 2.5, 3]\n",
        "y1 = []\n",
        "y2 = []\n",
        "for valor in x:\n",
        "  y1.append(0.1 * valor ** 3 - valor + 1)\n",
        "  y2.append(valor ** 2 + 4 * valor + 4)\n",
        "plt.plot(x, y1, x, y2)\n",
        "plt.show()\n",
        "print('Aproximadamente se cortan en -3 y -1')"
      ],
      "execution_count": 0,
      "outputs": []
    }
  ]
}