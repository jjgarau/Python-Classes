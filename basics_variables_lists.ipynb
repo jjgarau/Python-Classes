{
  "nbformat": 4,
  "nbformat_minor": 0,
  "metadata": {
    "colab": {
      "name": "basics_variables_lists.ipynb",
      "provenance": [],
      "collapsed_sections": [
        "hw2BPNFq3PJf",
        "FF3gZ24vtVEs"
      ],
      "include_colab_link": true
    },
    "kernelspec": {
      "name": "python3",
      "display_name": "Python 3"
    }
  },
  "cells": [
    {
      "cell_type": "markdown",
      "metadata": {
        "id": "view-in-github",
        "colab_type": "text"
      },
      "source": [
        "<a href=\"https://colab.research.google.com/github/jjgarau/PythonClasses/blob/master/basics_variables_lists.ipynb\" target=\"_parent\"><img src=\"https://colab.research.google.com/assets/colab-badge.svg\" alt=\"Open In Colab\"/></a>"
      ]
    },
    {
      "cell_type": "markdown",
      "metadata": {
        "id": "34ZI9Fc9tuK1",
        "colab_type": "text"
      },
      "source": [
        "# **Introduction to Python**"
      ]
    },
    {
      "cell_type": "markdown",
      "metadata": {
        "id": "hw2BPNFq3PJf",
        "colab_type": "text"
      },
      "source": [
        "## **Basics**"
      ]
    },
    {
      "cell_type": "markdown",
      "metadata": {
        "id": "ztZRxxEBEDUx",
        "colab_type": "text"
      },
      "source": [
        "This notebook will guide you through the basics of Python language, the first step in your road to master the most used coding language in the world! Let's start: Hello, world!"
      ]
    },
    {
      "cell_type": "code",
      "metadata": {
        "id": "pEB0n2euEeuX",
        "colab_type": "code",
        "colab": {}
      },
      "source": [
        "print(\"Hello, world!\")"
      ],
      "execution_count": 0,
      "outputs": []
    },
    {
      "cell_type": "markdown",
      "metadata": {
        "id": "ZtBMDZrnElFD",
        "colab_type": "text"
      },
      "source": [
        "Do you want to print something?"
      ]
    },
    {
      "cell_type": "code",
      "metadata": {
        "id": "DNqVyCyxEwA1",
        "colab_type": "code",
        "colab": {}
      },
      "source": [
        "# Write whatever you would like to print, don't forget the quote marks!\n",
        "print()"
      ],
      "execution_count": 0,
      "outputs": []
    },
    {
      "cell_type": "markdown",
      "metadata": {
        "id": "tW0hcEp6FHZi",
        "colab_type": "text"
      },
      "source": [
        "Well done! You can insert coments in a code using the hashtag symbol, this might be useful to introduce or explain what a code snipet does. Comments are not evaluated by the Python interpreter"
      ]
    },
    {
      "cell_type": "code",
      "metadata": {
        "id": "FG4KQcrnFWXS",
        "colab_type": "code",
        "colab": {}
      },
      "source": [
        "print(\"Hi!\")\n",
        "# print(\"How are you?\")\n",
        "print(\"What time is it?\")"
      ],
      "execution_count": 0,
      "outputs": []
    },
    {
      "cell_type": "markdown",
      "metadata": {
        "id": "Thsws302GB50",
        "colab_type": "text"
      },
      "source": [
        "Now you know how to write comments in Python! Use them, they are really helpful!\n",
        "\n",
        "Now we will do some math, let's start by printing a couple of numbers"
      ]
    },
    {
      "cell_type": "code",
      "metadata": {
        "id": "ikhCa3u-GUBF",
        "colab_type": "code",
        "colab": {}
      },
      "source": [
        "print(10)\n",
        "print(3.14)\n",
        "print(-8)\n",
        "print(1e3)"
      ],
      "execution_count": 0,
      "outputs": []
    },
    {
      "cell_type": "markdown",
      "metadata": {
        "id": "88FYt_UtGeW3",
        "colab_type": "text"
      },
      "source": [
        "Nice! You can see you don't need to add quote marks to print numbers, let's do the experiment?"
      ]
    },
    {
      "cell_type": "code",
      "metadata": {
        "id": "kmrCnAzdGmGF",
        "colab_type": "code",
        "colab": {}
      },
      "source": [
        "print(\"2\")\n",
        "print(2)"
      ],
      "execution_count": 0,
      "outputs": []
    },
    {
      "cell_type": "markdown",
      "metadata": {
        "id": "hkSDiVi3G2k8",
        "colab_type": "text"
      },
      "source": [
        "Both lead to the same output, but are they the same thing? Let' see..."
      ]
    },
    {
      "cell_type": "code",
      "metadata": {
        "id": "V6-9QcgaGuNr",
        "colab_type": "code",
        "colab": {}
      },
      "source": [
        "print(type(\"2\"))\n",
        "print(type(2))"
      ],
      "execution_count": 0,
      "outputs": []
    },
    {
      "cell_type": "markdown",
      "metadata": {
        "id": "9sHjA1aTG5AH",
        "colab_type": "text"
      },
      "source": [
        "Apparently not! The first item is known as a **string** whereas the second one is an **integer**. A string is a sequence of characters between quotation marks:"
      ]
    },
    {
      "cell_type": "code",
      "metadata": {
        "id": "eTXg-fEGHXBI",
        "colab_type": "code",
        "colab": {}
      },
      "source": [
        "print(\"This is a string\")\n",
        "print(\"This is also a string\")\n",
        "print(\"1 4M 4 57R1NG 700\")\n",
        "print(\"()(=!¿?{[]}=\")\n",
        "print('Strings are also defined using apostrophes')"
      ],
      "execution_count": 0,
      "outputs": []
    },
    {
      "cell_type": "markdown",
      "metadata": {
        "id": "Jh9nI8ibH9qz",
        "colab_type": "text"
      },
      "source": [
        "Are the types of the numbers we have previously printed the same? "
      ]
    },
    {
      "cell_type": "code",
      "metadata": {
        "id": "pvugUtX-H-AL",
        "colab_type": "code",
        "colab": {}
      },
      "source": [
        "print(type(10))\n",
        "print(type(3.14))\n",
        "print(type(-8))\n",
        "print(type(1e3))"
      ],
      "execution_count": 0,
      "outputs": []
    },
    {
      "cell_type": "markdown",
      "metadata": {
        "id": "xkUFO2oPH-fA",
        "colab_type": "text"
      },
      "source": [
        "No, they are not! Two of them are integers while the other two are known as **floats**. A float number is a number that has a decimal point, it doesn't necessarily need to be decimal:"
      ]
    },
    {
      "cell_type": "code",
      "metadata": {
        "id": "28rlx79rH-yv",
        "colab_type": "code",
        "colab": {}
      },
      "source": [
        "print(type(7))\n",
        "print(type(7.0))"
      ],
      "execution_count": 0,
      "outputs": []
    },
    {
      "cell_type": "markdown",
      "metadata": {
        "id": "JWYcZSo_JbhV",
        "colab_type": "text"
      },
      "source": [
        "Python is a very good calculator! Let's do some math operations"
      ]
    },
    {
      "cell_type": "code",
      "metadata": {
        "id": "Yo7Ie92tJcAP",
        "colab_type": "code",
        "colab": {}
      },
      "source": [
        "print(1 + 2)\n",
        "print(9 - 3)\n",
        "print(6 * 3)\n",
        "print(15 / 3)"
      ],
      "execution_count": 0,
      "outputs": []
    },
    {
      "cell_type": "markdown",
      "metadata": {
        "id": "58Zq_N0_JcXZ",
        "colab_type": "text"
      },
      "source": [
        "What have you noticed about the type of the outcome of these operations? We only used integer variables, are the outcomes integer too?\n",
        "\n",
        "Let's see what happens when we use float numbers"
      ]
    },
    {
      "cell_type": "code",
      "metadata": {
        "id": "LzZrE-05Jcov",
        "colab_type": "code",
        "colab": {}
      },
      "source": [
        "print(1 + 2.0)\n",
        "print(9.0 - 3.0)\n",
        "print(4.5 * 2.3)\n",
        "print(13 / 7)"
      ],
      "execution_count": 0,
      "outputs": []
    },
    {
      "cell_type": "markdown",
      "metadata": {
        "id": "YhNC-0e4Krrg",
        "colab_type": "text"
      },
      "source": [
        "We have some nice floats as a result! Some tips to turn these guys into integers"
      ]
    },
    {
      "cell_type": "code",
      "metadata": {
        "id": "IYv_9iRFKr9C",
        "colab_type": "code",
        "colab": {}
      },
      "source": [
        "print(3.0)\n",
        "print(type(3.0))\n",
        "print(int(3.0))\n",
        "print(type(int(3.0)))"
      ],
      "execution_count": 0,
      "outputs": []
    },
    {
      "cell_type": "markdown",
      "metadata": {
        "id": "sgm_NeQlKsT3",
        "colab_type": "text"
      },
      "source": [
        "Exactly! If you add \n",
        "\n",
        "```\n",
        "int()\n",
        "```\n",
        "to any float number it turns into an integer number. What happens if we do that with a decimal number?\n"
      ]
    },
    {
      "cell_type": "code",
      "metadata": {
        "id": "5T1c2trMKsm3",
        "colab_type": "code",
        "colab": {}
      },
      "source": [
        "print(int(3.4))\n",
        "print(int(7.6))"
      ],
      "execution_count": 0,
      "outputs": []
    },
    {
      "cell_type": "markdown",
      "metadata": {
        "id": "ctl22sbhLYsG",
        "colab_type": "text"
      },
      "source": [
        "They drop the decimal part! In a division we can achieve the same result using a double slash:\n",
        "\n"
      ]
    },
    {
      "cell_type": "code",
      "metadata": {
        "id": "RtVWcxZ_LZHU",
        "colab_type": "code",
        "colab": {}
      },
      "source": [
        "print(7 // 2)\n",
        "print(type(7 // 2))"
      ],
      "execution_count": 0,
      "outputs": []
    },
    {
      "cell_type": "markdown",
      "metadata": {
        "id": "666-9CssLZaD",
        "colab_type": "text"
      },
      "source": [
        "Now we will look at two other operators. Let's start with the modulus operator, this returns the remainder of the division between two numbers"
      ]
    },
    {
      "cell_type": "code",
      "metadata": {
        "id": "IPR4FdLiLZx2",
        "colab_type": "code",
        "colab": {}
      },
      "source": [
        "print(7 % 2)\n",
        "print(8 % 2)\n",
        "print(234 % 34)"
      ],
      "execution_count": 0,
      "outputs": []
    },
    {
      "cell_type": "markdown",
      "metadata": {
        "id": "GFZPhg3WMMOl",
        "colab_type": "text"
      },
      "source": [
        "Can you think of any application in which this is useful?\n",
        "\n",
        "Now let's look at the power operator"
      ]
    },
    {
      "cell_type": "code",
      "metadata": {
        "id": "j0UT5hxpMMll",
        "colab_type": "code",
        "colab": {}
      },
      "source": [
        "print(2 ** 4)\n",
        "print(5 ** 4)\n",
        "print(7 ** 8)"
      ],
      "execution_count": 0,
      "outputs": []
    },
    {
      "cell_type": "markdown",
      "metadata": {
        "id": "frmCo3hGMM6W",
        "colab_type": "text"
      },
      "source": [
        "Now you have seen operations with numbers, integers and floats. Can we do any operations on strings? Let's see..."
      ]
    },
    {
      "cell_type": "code",
      "metadata": {
        "id": "KOZiK4oQMNMq",
        "colab_type": "code",
        "colab": {}
      },
      "source": [
        "print(\"a\" + \"b\")\n",
        "print(type(\"a\" + \"b\"))"
      ],
      "execution_count": 0,
      "outputs": []
    },
    {
      "cell_type": "markdown",
      "metadata": {
        "id": "z5toJnGINIY4",
        "colab_type": "text"
      },
      "source": [
        "Yes! Adding strings simply concatenates the strings. Can we substract them? "
      ]
    },
    {
      "cell_type": "code",
      "metadata": {
        "id": "oi4atbmFNJ-J",
        "colab_type": "code",
        "colab": {}
      },
      "source": [
        "print(\"a\" - \"b\")"
      ],
      "execution_count": 0,
      "outputs": []
    },
    {
      "cell_type": "markdown",
      "metadata": {
        "id": "Z6PPxBYINmbU",
        "colab_type": "text"
      },
      "source": [
        "Unfortunately we can't :(  Strings can only be added.\n"
      ]
    },
    {
      "cell_type": "markdown",
      "metadata": {
        "id": "FF3gZ24vtVEs",
        "colab_type": "text"
      },
      "source": [
        "## **Variables**\n",
        "\n",
        "In most coding languages information (a number, a string...) is stored in variables. We give a name to these information units to keep track of them, let's see how we can define variables"
      ]
    },
    {
      "cell_type": "code",
      "metadata": {
        "id": "MGQXP6pTNm8x",
        "colab_type": "code",
        "colab": {}
      },
      "source": [
        "i_am_a_variable = 1"
      ],
      "execution_count": 0,
      "outputs": []
    },
    {
      "cell_type": "markdown",
      "metadata": {
        "id": "Y5SHSJnENnzY",
        "colab_type": "text"
      },
      "source": [
        "Now we can play around with this variable \"forgetting\" what is actually inside"
      ]
    },
    {
      "cell_type": "code",
      "metadata": {
        "id": "cERB29a7NoJj",
        "colab_type": "code",
        "colab": {}
      },
      "source": [
        "print(i_am_a_variable)\n",
        "print(type(i_am_a_variable))\n",
        "print(i_am_a_variable + 2)"
      ],
      "execution_count": 0,
      "outputs": []
    },
    {
      "cell_type": "markdown",
      "metadata": {
        "id": "zQ4q_uk2t6qn",
        "colab_type": "text"
      },
      "source": [
        "Let's see more examples"
      ]
    },
    {
      "cell_type": "code",
      "metadata": {
        "id": "7ZhlYD6ot6_w",
        "colab_type": "code",
        "colab": {}
      },
      "source": [
        "temperature = 23.2\n",
        "name = \"John\"\n",
        "age = 54\n",
        "temperature_string = str(temperature) + \" C\"\n",
        "b = True"
      ],
      "execution_count": 0,
      "outputs": []
    },
    {
      "cell_type": "markdown",
      "metadata": {
        "id": "lvQxGqYpt7bA",
        "colab_type": "text"
      },
      "source": [
        "Notice we have created the `temperature_string` variable from the `name` variable, let's check it out\n"
      ]
    },
    {
      "cell_type": "code",
      "metadata": {
        "id": "1d_S0Bogt7sY",
        "colab_type": "code",
        "colab": {}
      },
      "source": [
        "print(temperature_string)"
      ],
      "execution_count": 0,
      "outputs": []
    },
    {
      "cell_type": "markdown",
      "metadata": {
        "id": "7JYdGpiUt77M",
        "colab_type": "text"
      },
      "source": [
        "You might have noticed that variable `b` is assigned the value `True`. In Python, as well as in most of coding languages, there exist the binary variables `True` and `False`, which are very helpful when dealing with conditional statements. These are known as **boolean variables**"
      ]
    },
    {
      "cell_type": "code",
      "metadata": {
        "id": "ZoP6J1qmt8QM",
        "colab_type": "code",
        "colab": {}
      },
      "source": [
        "print(b)\n",
        "print(type(b))\n",
        "c = False\n",
        "print(type(c))"
      ],
      "execution_count": 0,
      "outputs": []
    },
    {
      "cell_type": "markdown",
      "metadata": {
        "id": "ZeOLPzNru6kR",
        "colab_type": "text"
      },
      "source": [
        "We can do some math with these variables too"
      ]
    },
    {
      "cell_type": "code",
      "metadata": {
        "id": "WWNXnZOdu61h",
        "colab_type": "code",
        "colab": {}
      },
      "source": [
        "print(False + False)\n",
        "print(True + False)\n",
        "print(True + True)"
      ],
      "execution_count": 0,
      "outputs": []
    },
    {
      "cell_type": "markdown",
      "metadata": {
        "id": "7PhCPzD-u7YC",
        "colab_type": "text"
      },
      "source": [
        "They turn into integers! That is because these variables are evaluated as 1 if it is `True` and 0 if it is `False`, let's see more examples"
      ]
    },
    {
      "cell_type": "code",
      "metadata": {
        "id": "ZdXHC6pSu7qo",
        "colab_type": "code",
        "colab": {}
      },
      "source": [
        "print(False * False)\n",
        "print(False / True)\n",
        "print(True * False)\n",
        "print(True * True)"
      ],
      "execution_count": 0,
      "outputs": []
    },
    {
      "cell_type": "markdown",
      "metadata": {
        "id": "AGyMMSdlu7-D",
        "colab_type": "text"
      },
      "source": [
        "Most of the statements in Python involve the use of variables:"
      ]
    },
    {
      "cell_type": "code",
      "metadata": {
        "id": "tbld_Ls0v-rU",
        "colab_type": "code",
        "colab": {}
      },
      "source": [
        "name = \"Laura\"\n",
        "age = 33\n",
        "print(\"Hello, my name is \" + name + \" and I'm \" + str(age) + \" years old.\")"
      ],
      "execution_count": 0,
      "outputs": []
    },
    {
      "cell_type": "markdown",
      "metadata": {
        "id": "iiqtURDuv_Ga",
        "colab_type": "text"
      },
      "source": [
        "Notice we need to add the `str()` statement to be able to turn the `age` variable, an integer, into a string. Another way to do it is the following:\n",
        "\n"
      ]
    },
    {
      "cell_type": "code",
      "metadata": {
        "id": "rSV49BfHv_Y5",
        "colab_type": "code",
        "colab": {}
      },
      "source": [
        "print(\"Hello, my name is\", name, \"and I'm\", age, \"years old.\")"
      ],
      "execution_count": 0,
      "outputs": []
    },
    {
      "cell_type": "markdown",
      "metadata": {
        "id": "mBm6_XVzv_vJ",
        "colab_type": "text"
      },
      "source": [
        "This produces exactly the same output and it doesn't need any type conversion function for the `age` variable. Notice we have removed some of the spaces though. \n",
        "\n",
        "Now let's see that is important to keep in mind how we treat our variables"
      ]
    },
    {
      "cell_type": "code",
      "metadata": {
        "id": "GTKdUgt80oRU",
        "colab_type": "code",
        "colab": {}
      },
      "source": [
        "a = \"This is important information, don't lose it\"\n",
        "b = \"This is also important information\"\n",
        "a = \"Important information 2.0\""
      ],
      "execution_count": 0,
      "outputs": []
    },
    {
      "cell_type": "markdown",
      "metadata": {
        "id": "TnlPVhpa05-S",
        "colab_type": "text"
      },
      "source": [
        "Now what do you think we have access to? Let's check it out"
      ]
    },
    {
      "cell_type": "code",
      "metadata": {
        "id": "1_m2kXjP06W2",
        "colab_type": "code",
        "colab": {}
      },
      "source": [
        "print(a)\n",
        "print(b)"
      ],
      "execution_count": 0,
      "outputs": []
    },
    {
      "cell_type": "markdown",
      "metadata": {
        "id": "kQIaAQf_06pa",
        "colab_type": "text"
      },
      "source": [
        "Exactly, we have lost some important information. While you might want to override some variables in order to save memory (I'm sorry but we can't store an infinite amount of variables), you need to keep an eye on the information you're actually overriding, as you don't want to lose anything you will need in future parts of your code.\n",
        "\n",
        "You can copy variables though:"
      ]
    },
    {
      "cell_type": "code",
      "metadata": {
        "id": "995IdQAB2Rfw",
        "colab_type": "code",
        "colab": {}
      },
      "source": [
        "a = \"This is important information, don't lose it\"\n",
        "b = \"This is also important information\"\n",
        "c = a\n",
        "a = \"Important information 2.0\"\n",
        "\n",
        "print(a)\n",
        "print(b)\n",
        "print(c)"
      ],
      "execution_count": 0,
      "outputs": []
    },
    {
      "cell_type": "markdown",
      "metadata": {
        "id": "3Uq9K8Ml2d7Q",
        "colab_type": "text"
      },
      "source": [
        "As you will see, you can only copy integers, floats, strings, and booleans...\n",
        "\n",
        "There are multiple ways in which information can be passed to variables, we have already seen we can copy other variables or directly assigning the value to the variable. We can also make it be the input from keyboard:"
      ]
    },
    {
      "cell_type": "code",
      "metadata": {
        "id": "Qc_OBKAE9jfM",
        "colab_type": "code",
        "colab": {}
      },
      "source": [
        "inp = input(\"Write text here:\")\n",
        "print(inp)\n",
        "print(type(inp))"
      ],
      "execution_count": 0,
      "outputs": []
    },
    {
      "cell_type": "markdown",
      "metadata": {
        "id": "_EASJ3eb-L-C",
        "colab_type": "text"
      },
      "source": [
        "That is useful! Let's see what happens if we write a number"
      ]
    },
    {
      "cell_type": "code",
      "metadata": {
        "id": "Tu92_NHh9wWo",
        "colab_type": "code",
        "colab": {}
      },
      "source": [
        "inp = input(\"Now write a number:\")\n",
        "print(inp)\n",
        "print(type(inp))"
      ],
      "execution_count": 0,
      "outputs": []
    },
    {
      "cell_type": "markdown",
      "metadata": {
        "id": "v-uwT6gw-Xw-",
        "colab_type": "text"
      },
      "source": [
        "Numbers are read as strings if they are part of an input from the keyboard. You must make sure to convert them to numbers using either `int()` or `float()` before using them in the code.\n"
      ]
    },
    {
      "cell_type": "markdown",
      "metadata": {
        "id": "VvOQ1HxOx9Kq",
        "colab_type": "text"
      },
      "source": [
        "## **Lists**\n",
        "\n",
        "Variables are useful, but sometimes we need to keep track of a lot of information units. Imagine we would need to keep track of the average daily temperature in every state of the US. Do you think it is comfortable to write\n",
        "\n",
        "```\n",
        "print(temperature_alabama)\n",
        "print(temperature_alaska)\n",
        "print(temperature_arizona)\n",
        "...\n",
        "```\n",
        "? Obviously it isn't! **Lists** are used in Python to keep track of multiple information items, let's see an example\n"
      ]
    },
    {
      "cell_type": "code",
      "metadata": {
        "id": "c3WWIWTVwAB1",
        "colab_type": "code",
        "colab": {}
      },
      "source": [
        "my_list = [1, 2, 3, 4, 5, 6, 7, 8, 9, 10]\n",
        "print(my_list)\n",
        "print(type(my_list))"
      ],
      "execution_count": 0,
      "outputs": []
    },
    {
      "cell_type": "markdown",
      "metadata": {
        "id": "f2oqAs7tw_9b",
        "colab_type": "text"
      },
      "source": [
        "Everything that is defined within brackets `[]` is part of a list. We can store different types of information in a list"
      ]
    },
    {
      "cell_type": "code",
      "metadata": {
        "id": "B6txs_oAxAQz",
        "colab_type": "code",
        "colab": {}
      },
      "source": [
        "shopping_list = [\"apples\", \"onions\", \"rice\", \"chocolate\"]\n",
        "temperatures_of_the_week = [23.4, 20.0, 21.1, 25.5, 26.7, 20.0, 23.9]\n",
        "random_information = [4, \"cold\", 9.0, 4*5, \"coffee\"]\n",
        "is_it_weekend = [False, False, False, False, False, True, True] "
      ],
      "execution_count": 0,
      "outputs": []
    },
    {
      "cell_type": "markdown",
      "metadata": {
        "id": "RF0ouPobxApu",
        "colab_type": "text"
      },
      "source": [
        "Notice the change in the *random_information* list"
      ]
    },
    {
      "cell_type": "code",
      "metadata": {
        "id": "oWHZjcVbxA8d",
        "colab_type": "code",
        "colab": {}
      },
      "source": [
        "print(random_information)"
      ],
      "execution_count": 0,
      "outputs": []
    },
    {
      "cell_type": "markdown",
      "metadata": {
        "id": "BQe3elBfxBMM",
        "colab_type": "text"
      },
      "source": [
        "Yes! You can define elements inside lists as operations, just in the same way you can define variables as operations between two other variables. Actually, you can imagine that each element inside a list is a variable. One of the most important attributes of a list is its length:"
      ]
    },
    {
      "cell_type": "code",
      "metadata": {
        "id": "3LTwiFEMxBuA",
        "colab_type": "code",
        "colab": {}
      },
      "source": [
        "print(len(shopping_list))\n",
        "print(len(random_information))\n",
        "print(type(len(random_information)))"
      ],
      "execution_count": 0,
      "outputs": []
    },
    {
      "cell_type": "markdown",
      "metadata": {
        "id": "DjQW6D-w0ILg",
        "colab_type": "text"
      },
      "source": [
        "The `len()` function returns the number of elements inside a list. We can create empty lists as:\n"
      ]
    },
    {
      "cell_type": "code",
      "metadata": {
        "id": "4Rq2ud5K0IdM",
        "colab_type": "code",
        "colab": {}
      },
      "source": [
        "i_am_an_empty_list = []\n",
        "i_am_also_an_empty_list = list()\n",
        "print(len(i_am_an_empty_list))\n",
        "print(len(i_am_also_an_empty_list))"
      ],
      "execution_count": 0,
      "outputs": []
    },
    {
      "cell_type": "markdown",
      "metadata": {
        "id": "rP_KOGID0Izv",
        "colab_type": "text"
      },
      "source": [
        "We can add elements to a list using the `append()` function, let's check it out:\n"
      ]
    },
    {
      "cell_type": "code",
      "metadata": {
        "id": "a2j4q_TK0JKQ",
        "colab_type": "code",
        "colab": {}
      },
      "source": [
        "i_am_an_empty_list.append(1)\n",
        "print(i_am_an_empty_list)\n",
        "i_am_an_empty_list.append(2)\n",
        "print(i_am_an_empty_list)"
      ],
      "execution_count": 0,
      "outputs": []
    },
    {
      "cell_type": "markdown",
      "metadata": {
        "id": "pJybbxfV0Jxm",
        "colab_type": "text"
      },
      "source": [
        "Fun fact: you can store lists inside lists (and lists inside lists inside lists...)"
      ]
    },
    {
      "cell_type": "code",
      "metadata": {
        "id": "oJ43V-dg0KHv",
        "colab_type": "code",
        "colab": {}
      },
      "source": [
        "i_am_a_nested_list = [[1, 2, 3], [4, 5, 6]]\n",
        "i_am_also_a_nested_list = [\"a\", \"b\", [\"c\", \"d\", \"e\"], \"f\"]"
      ],
      "execution_count": 0,
      "outputs": []
    },
    {
      "cell_type": "markdown",
      "metadata": {
        "id": "8wWqOX--AQsh",
        "colab_type": "text"
      },
      "source": [
        "You have seen you can check what's inside a list, but what happens when you need the information contained at a specific position of the list? I have the information of the average temperature of every state in the US but I'm actually only interested in the state of Massachusetts. You can easily access it using brackets `[]`"
      ]
    },
    {
      "cell_type": "code",
      "metadata": {
        "id": "exfo9n-6AQ-H",
        "colab_type": "code",
        "colab": {}
      },
      "source": [
        "lst = ['a', 'b', 'c', 'd', 'e', 'f']\n",
        "print(lst)\n",
        "print(lst[0])\n",
        "print(lst[3])\n",
        "print(lst[-1])\n",
        "print(lst[-3])"
      ],
      "execution_count": 0,
      "outputs": []
    },
    {
      "cell_type": "markdown",
      "metadata": {
        "id": "IcXH4veuAROL",
        "colab_type": "text"
      },
      "source": [
        "As you can see, the elements in a list are numbered from 0 to the length of the list minus 1 (e.g. if the list has length 10 the first element is *indexed* at 0 and the last element is indexed at 9). If you want to access the last element of a list you can do it with the index `-1` (then the previous element to the last is accessed using the index `-2` and so on). These indexes allow us to slice lists and get sublists too:"
      ]
    },
    {
      "cell_type": "code",
      "metadata": {
        "id": "QhnQuu7DARfx",
        "colab_type": "code",
        "colab": {}
      },
      "source": [
        "sublist1 = lst[0:3]\n",
        "sublist2 = lst[:3]\n",
        "sublist3 = lst[3:5]\n",
        "sublist4 = lst[:-1]\n",
        "sublist5 = lst[-5:-2]\n",
        "sublist6 = lst[3:]"
      ],
      "execution_count": 0,
      "outputs": []
    },
    {
      "cell_type": "markdown",
      "metadata": {
        "id": "cDCdAtVOARtR",
        "colab_type": "text"
      },
      "source": [
        "What do you think each of these lists will contain? Let's see..."
      ]
    },
    {
      "cell_type": "code",
      "metadata": {
        "id": "te_nbsg3CTy_",
        "colab_type": "code",
        "colab": {}
      },
      "source": [
        "print(sublist1)\n",
        "print(sublist2)\n",
        "print(sublist3)\n",
        "print(sublist4)\n",
        "print(sublist5)\n",
        "print(sublist6)"
      ],
      "execution_count": 0,
      "outputs": []
    },
    {
      "cell_type": "markdown",
      "metadata": {
        "id": "2KGRH_v5CUfD",
        "colab_type": "text"
      },
      "source": [
        "If you have a nested list you can access the individual elements using double brackets `[][]`, as in this example:"
      ]
    },
    {
      "cell_type": "code",
      "metadata": {
        "id": "Wy5bN8ijCUu1",
        "colab_type": "code",
        "colab": {}
      },
      "source": [
        "nested_list = [[1, 2, 3], [4, 5, 6]]\n",
        "print(nested_list[0][1])\n",
        "print(nested_list[-1][-1])\n",
        "print(nested_list[1][2])"
      ],
      "execution_count": 0,
      "outputs": []
    },
    {
      "cell_type": "markdown",
      "metadata": {
        "id": "FujX96BYCVF5",
        "colab_type": "text"
      },
      "source": [
        "You can use indexing to modify the contents of a list:"
      ]
    },
    {
      "cell_type": "code",
      "metadata": {
        "id": "YqRVx165CVV4",
        "colab_type": "code",
        "colab": {}
      },
      "source": [
        "my_list = [1, 2, 3, 4, 5, 6, 7, 8]\n",
        "print(my_list)\n",
        "my_list[2] = 67\n",
        "my_list[5] = 102\n",
        "print(my_list)"
      ],
      "execution_count": 0,
      "outputs": []
    },
    {
      "cell_type": "markdown",
      "metadata": {
        "id": "VwQMQWZPCVty",
        "colab_type": "text"
      },
      "source": [
        "Or you can choose to delete elements inside the list too, by using the `del()` function"
      ]
    },
    {
      "cell_type": "code",
      "metadata": {
        "id": "roJfNx9rCV_S",
        "colab_type": "code",
        "colab": {}
      },
      "source": [
        "print(\"The initial length of the list is\", len(my_list))\n",
        "print(my_list)\n",
        "del(my_list[0])\n",
        "print(my_list)\n",
        "del(my_list[-1])\n",
        "print(my_list)\n",
        "print(\"The final length of the list is\", len(my_list))"
      ],
      "execution_count": 0,
      "outputs": []
    },
    {
      "cell_type": "markdown",
      "metadata": {
        "id": "96l2fxlHDS98",
        "colab_type": "text"
      },
      "source": [
        "When dealing with lists one of the most common errors is not copying lists correctly. Let's see why is important to copy a list correctly:"
      ]
    },
    {
      "cell_type": "code",
      "metadata": {
        "id": "_njCo9nrDTOb",
        "colab_type": "code",
        "colab": {}
      },
      "source": [
        "numbers = [1, 2, 3, 4, 5]\n",
        "numbers2 = numbers\n",
        "print(numbers)\n",
        "print(numbers2)"
      ],
      "execution_count": 0,
      "outputs": []
    },
    {
      "cell_type": "markdown",
      "metadata": {
        "id": "_enzehH0DTn6",
        "colab_type": "text"
      },
      "source": [
        "That's great, the list `numbers` has been copied to `numbers2`, now we can change the list `numbers` without needing to worry about losing information? Let's see..."
      ]
    },
    {
      "cell_type": "code",
      "metadata": {
        "id": "MeBh6uqkDT73",
        "colab_type": "code",
        "colab": {}
      },
      "source": [
        "print(numbers)\n",
        "print(numbers2)\n",
        "numbers[2] = 1000\n",
        "print(numbers)"
      ],
      "execution_count": 0,
      "outputs": []
    },
    {
      "cell_type": "markdown",
      "metadata": {
        "id": "l8qJev3fDUSY",
        "colab_type": "text"
      },
      "source": [
        "Okay, we have changed the `3` for a `1000`. But now I remembered I needed that 3 very badly, luckily I made a copy of the initial list to `numbers2`"
      ]
    },
    {
      "cell_type": "code",
      "metadata": {
        "id": "ZxkhEXfmEcqW",
        "colab_type": "code",
        "colab": {}
      },
      "source": [
        "print(numbers2[2])"
      ],
      "execution_count": 0,
      "outputs": []
    },
    {
      "cell_type": "markdown",
      "metadata": {
        "id": "CDrx6A8EEdAo",
        "colab_type": "text"
      },
      "source": [
        "What? Let's check that again"
      ]
    },
    {
      "cell_type": "code",
      "metadata": {
        "id": "xx2UF5M7EddR",
        "colab_type": "code",
        "colab": {}
      },
      "source": [
        "print(numbers2)\n",
        "print(numbers)"
      ],
      "execution_count": 0,
      "outputs": []
    },
    {
      "cell_type": "markdown",
      "metadata": {
        "id": "ijW1Zez7Ed4X",
        "colab_type": "text"
      },
      "source": [
        "Yes, you haven't actually copied the list but assign it to two different variables! The correct way to copy a list is adding `[:]` after the copy expression:"
      ]
    },
    {
      "cell_type": "code",
      "metadata": {
        "id": "T9cqu8RLEwZU",
        "colab_type": "code",
        "colab": {}
      },
      "source": [
        "# We copy a list adding [:] after the copy expression\n",
        "numbers3 = numbers2[:]\n",
        "print(numbers2)\n",
        "print(numbers3)\n",
        "numbers2[2] = 45.6\n",
        "print(numbers2)\n",
        "print(numbers3)"
      ],
      "execution_count": 0,
      "outputs": []
    },
    {
      "cell_type": "markdown",
      "metadata": {
        "id": "zg5UiuT3xqth",
        "colab_type": "text"
      },
      "source": [
        "Let's see some interesting functionalities we can do with lists. We can check whether a list contains a specific element or not:"
      ]
    },
    {
      "cell_type": "code",
      "metadata": {
        "id": "uYLpmmqYxrDV",
        "colab_type": "code",
        "colab": {}
      },
      "source": [
        "my_list = [1, 2, 3, 4, 5]\n",
        "a = 4 in my_list\n",
        "print(a)"
      ],
      "execution_count": 0,
      "outputs": []
    },
    {
      "cell_type": "markdown",
      "metadata": {
        "id": "WS58lzyKxre4",
        "colab_type": "text"
      },
      "source": [
        "Variable `a` has become a boolean variable (`True` or `False`) based on the fact that `my_list` contains number `4`. We can check if specific elements are inside our lists and receive a boolean variable in return. Let's see more examples: "
      ]
    },
    {
      "cell_type": "code",
      "metadata": {
        "id": "oico1cjyxrvF",
        "colab_type": "code",
        "colab": {}
      },
      "source": [
        "grocery_shopping = ['onions', 'pasta', 'soy sauce', 'bread']\n",
        "print('pasta' in grocery_shopping)\n",
        "print('chocolate' in grocery_shopping)"
      ],
      "execution_count": 0,
      "outputs": []
    },
    {
      "cell_type": "markdown",
      "metadata": {
        "id": "69USLcYFxr-f",
        "colab_type": "text"
      },
      "source": [
        "If we add the `not` operator before the `in` operator we will get the opposite outcome:"
      ]
    },
    {
      "cell_type": "code",
      "metadata": {
        "id": "kU5Q40GTxsPG",
        "colab_type": "code",
        "colab": {}
      },
      "source": [
        "print('pasta' not in grocery_shopping)\n",
        "print('chocolate' not in grocery_shopping)"
      ],
      "execution_count": 0,
      "outputs": []
    },
    {
      "cell_type": "markdown",
      "metadata": {
        "id": "VH9p1lJlyyO0",
        "colab_type": "text"
      },
      "source": [
        "Basically, adding the `not` operator turns any boolean operator into its opposite. Therefore, `not True` becomes `False` and `not False` becomes `True`, makes sense right?"
      ]
    },
    {
      "cell_type": "code",
      "metadata": {
        "id": "CKYQJNKDyzb7",
        "colab_type": "code",
        "colab": {}
      },
      "source": [
        "print(not True)\n",
        "print(not False)"
      ],
      "execution_count": 0,
      "outputs": []
    },
    {
      "cell_type": "markdown",
      "metadata": {
        "id": "l0VaCaJEyzzS",
        "colab_type": "text"
      },
      "source": [
        "Another functionality we can do with lists is merge them, let's see an example:"
      ]
    },
    {
      "cell_type": "code",
      "metadata": {
        "id": "wXWM6n4IzRHX",
        "colab_type": "code",
        "colab": {}
      },
      "source": [
        "list1 = [1, 2, 3]\n",
        "list2 = [4, 5, 6]\n",
        "list3 = list1 + list2\n",
        "print(list1)\n",
        "print(list2)\n",
        "print(list3)"
      ],
      "execution_count": 0,
      "outputs": []
    },
    {
      "cell_type": "markdown",
      "metadata": {
        "id": "lppVqi5lzRhF",
        "colab_type": "text"
      },
      "source": [
        "Using the addition operator `+` allows us to combine two different lists. Can you think why this might be useful? Another way to do that is using the `extend` function:"
      ]
    },
    {
      "cell_type": "code",
      "metadata": {
        "id": "4-lequNxzRzc",
        "colab_type": "code",
        "colab": {}
      },
      "source": [
        "list1 = [1, 2, 3]\n",
        "list2 = [4, 5, 6]\n",
        "list3 = list1.extend(list2)\n",
        "print(list1)\n",
        "print(list2)\n",
        "print(list3)"
      ],
      "execution_count": 0,
      "outputs": []
    },
    {
      "cell_type": "markdown",
      "metadata": {
        "id": "3AXHwJfBzvf8",
        "colab_type": "text"
      },
      "source": [
        "Be careful! Using the `extend` function doesn't create a new list but updates one of the original lists.\n",
        "\n",
        "We can easily find the minimum and maximum elements of a list using the `min()`\n",
        " and `max()` functions"
      ]
    },
    {
      "cell_type": "code",
      "metadata": {
        "id": "Qrksprn9zvvK",
        "colab_type": "code",
        "colab": {}
      },
      "source": [
        "my_list = [1, 2, 3, 4, 5, 6, 7, 8, 9, 10]\n",
        "print(min(my_list))\n",
        "print(max(my_list))"
      ],
      "execution_count": 0,
      "outputs": []
    },
    {
      "cell_type": "markdown",
      "metadata": {
        "id": "sdRuLDMuzwNy",
        "colab_type": "text"
      },
      "source": [
        "Let's see what happens when we use the same operators in a list containing exclusively strings"
      ]
    },
    {
      "cell_type": "code",
      "metadata": {
        "id": "CJIcPNaL0geO",
        "colab_type": "code",
        "colab": {}
      },
      "source": [
        "string_list = ['apples', 'bananas', 'celery', 'dragon']\n",
        "print(min(string_list))\n",
        "print(max(string_list))"
      ],
      "execution_count": 0,
      "outputs": []
    },
    {
      "cell_type": "markdown",
      "metadata": {
        "id": "Yp7J7jOI0gus",
        "colab_type": "text"
      },
      "source": [
        "Exactly! The `min()` function will return the first string in alphabetical order and `max()` the last string in alphabetical order. \n",
        "\n",
        "Another functionality we can do with lists is the localization of the position of specific elements inside them. To that end, we can use the `index()` operator:"
      ]
    },
    {
      "cell_type": "code",
      "metadata": {
        "id": "zx13sX8O1pS3",
        "colab_type": "code",
        "colab": {}
      },
      "source": [
        "months = ['january', 'february', 'march', 'april', 'may', 'june', 'july', 'august', 'september', 'october', 'november', 'december']\n",
        "print(months.index('march'))"
      ],
      "execution_count": 0,
      "outputs": []
    },
    {
      "cell_type": "markdown",
      "metadata": {
        "id": "rnb7cZkv1prX",
        "colab_type": "text"
      },
      "source": [
        "The `index()` operator returns the position of the element specified inside the list (following the 0-based indexing system). Therefore, combining this with the `min()` and `max()` functions we can easily localize where the minimum and maximum of a list are:"
      ]
    },
    {
      "cell_type": "code",
      "metadata": {
        "id": "0S9dyGU117Ny",
        "colab_type": "code",
        "colab": {}
      },
      "source": [
        "numbers = [23, 456, 56, 23, 987, 24, 67, 2, 567, 34]\n",
        "print(min(numbers))\n",
        "print(numbers.index(min(numbers)))\n",
        "print(max(numbers))\n",
        "print(numbers.index(max(numbers)))"
      ],
      "execution_count": 0,
      "outputs": []
    },
    {
      "cell_type": "markdown",
      "metadata": {
        "id": "MnnVlsJK17oR",
        "colab_type": "text"
      },
      "source": [
        "This is extremely useful when lists contain thousands or even millions of elements! One thing to bear in mind is what happens when the element we are looking for appears more than once inside the list:"
      ]
    },
    {
      "cell_type": "code",
      "metadata": {
        "id": "bH_PKFz-2L4i",
        "colab_type": "code",
        "colab": {}
      },
      "source": [
        "numbers2 = [4, 5, 7, 3, 8, 10, 3, 6]\n",
        "print(min(numbers2))\n",
        "print(numbers2.index(min(numbers2)))"
      ],
      "execution_count": 0,
      "outputs": []
    },
    {
      "cell_type": "markdown",
      "metadata": {
        "id": "SFNQed7s2MJI",
        "colab_type": "text"
      },
      "source": [
        "The function `index()` will return the position of the first appearance of such element inside the list. The same applies to the `del` (delete) function we have seen earlier:"
      ]
    },
    {
      "cell_type": "code",
      "metadata": {
        "id": "BKzdxrV-6BHs",
        "colab_type": "code",
        "colab": {}
      },
      "source": [
        "del(numbers2[numbers2.index(min(numbers2))])\n",
        "print(numbers2)"
      ],
      "execution_count": 0,
      "outputs": []
    },
    {
      "cell_type": "markdown",
      "metadata": {
        "id": "ugg5_Z5e6BeF",
        "colab_type": "text"
      },
      "source": [
        "This is the end of the Lists tutoral in Python, you can find more information on Python lists [here](https://www.w3schools.com/python/python_lists.asp). "
      ]
    }
  ]
}